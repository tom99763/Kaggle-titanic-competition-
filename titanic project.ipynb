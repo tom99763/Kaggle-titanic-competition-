{
 "cells": [
  {
   "cell_type": "code",
   "execution_count": 1,
   "metadata": {},
   "outputs": [
    {
     "name": "stderr",
     "output_type": "stream",
     "text": [
      "c:\\users\\user\\miniconda3\\envs\\bd\\lib\\site-packages\\numpy\\_distributor_init.py:32: UserWarning: loaded more than 1 DLL from .libs:\n",
      "c:\\users\\user\\miniconda3\\envs\\bd\\lib\\site-packages\\numpy\\.libs\\libopenblas.NOIJJG62EMASZI6NYURL6JBKM4EVBGM7.gfortran-win_amd64.dll\n",
      "c:\\users\\user\\miniconda3\\envs\\bd\\lib\\site-packages\\numpy\\.libs\\libopenblas.PYQHXLVVQ7VESDPUVUADXEVJOBGHJPAY.gfortran-win_amd64.dll\n",
      "  stacklevel=1)\n"
     ]
    }
   ],
   "source": [
    "import pandas as pd\n",
    "import numpy as np\n",
    "\n",
    "from sklearn.linear_model import LinearRegression\n",
    "\n",
    "import seaborn as sns\n",
    "import matplotlib.pyplot as plt"
   ]
  },
  {
   "cell_type": "markdown",
   "metadata": {},
   "source": [
    "# training data prepare"
   ]
  },
  {
   "cell_type": "code",
   "execution_count": 2,
   "metadata": {},
   "outputs": [],
   "source": [
    "df_train=pd.read_csv('./data/train.csv')"
   ]
  },
  {
   "cell_type": "code",
   "execution_count": 3,
   "metadata": {},
   "outputs": [],
   "source": [
    "#build label\n",
    "df_train_label=pd.DataFrame(df_train['Survived'])"
   ]
  },
  {
   "cell_type": "code",
   "execution_count": 4,
   "metadata": {},
   "outputs": [
    {
     "data": {
      "text/html": [
       "<div>\n",
       "<style scoped>\n",
       "    .dataframe tbody tr th:only-of-type {\n",
       "        vertical-align: middle;\n",
       "    }\n",
       "\n",
       "    .dataframe tbody tr th {\n",
       "        vertical-align: top;\n",
       "    }\n",
       "\n",
       "    .dataframe thead th {\n",
       "        text-align: right;\n",
       "    }\n",
       "</style>\n",
       "<table border=\"1\" class=\"dataframe\">\n",
       "  <thead>\n",
       "    <tr style=\"text-align: right;\">\n",
       "      <th></th>\n",
       "      <th>PassengerId</th>\n",
       "      <th>Survived</th>\n",
       "      <th>Pclass</th>\n",
       "      <th>Age</th>\n",
       "      <th>SibSp</th>\n",
       "      <th>Parch</th>\n",
       "      <th>Fare</th>\n",
       "    </tr>\n",
       "  </thead>\n",
       "  <tbody>\n",
       "    <tr>\n",
       "      <th>count</th>\n",
       "      <td>891.000000</td>\n",
       "      <td>891.000000</td>\n",
       "      <td>891.000000</td>\n",
       "      <td>714.000000</td>\n",
       "      <td>891.000000</td>\n",
       "      <td>891.000000</td>\n",
       "      <td>891.000000</td>\n",
       "    </tr>\n",
       "    <tr>\n",
       "      <th>mean</th>\n",
       "      <td>446.000000</td>\n",
       "      <td>0.383838</td>\n",
       "      <td>2.308642</td>\n",
       "      <td>29.699118</td>\n",
       "      <td>0.523008</td>\n",
       "      <td>0.381594</td>\n",
       "      <td>32.204208</td>\n",
       "    </tr>\n",
       "    <tr>\n",
       "      <th>std</th>\n",
       "      <td>257.353842</td>\n",
       "      <td>0.486592</td>\n",
       "      <td>0.836071</td>\n",
       "      <td>14.526497</td>\n",
       "      <td>1.102743</td>\n",
       "      <td>0.806057</td>\n",
       "      <td>49.693429</td>\n",
       "    </tr>\n",
       "    <tr>\n",
       "      <th>min</th>\n",
       "      <td>1.000000</td>\n",
       "      <td>0.000000</td>\n",
       "      <td>1.000000</td>\n",
       "      <td>0.420000</td>\n",
       "      <td>0.000000</td>\n",
       "      <td>0.000000</td>\n",
       "      <td>0.000000</td>\n",
       "    </tr>\n",
       "    <tr>\n",
       "      <th>25%</th>\n",
       "      <td>223.500000</td>\n",
       "      <td>0.000000</td>\n",
       "      <td>2.000000</td>\n",
       "      <td>20.125000</td>\n",
       "      <td>0.000000</td>\n",
       "      <td>0.000000</td>\n",
       "      <td>7.910400</td>\n",
       "    </tr>\n",
       "    <tr>\n",
       "      <th>50%</th>\n",
       "      <td>446.000000</td>\n",
       "      <td>0.000000</td>\n",
       "      <td>3.000000</td>\n",
       "      <td>28.000000</td>\n",
       "      <td>0.000000</td>\n",
       "      <td>0.000000</td>\n",
       "      <td>14.454200</td>\n",
       "    </tr>\n",
       "    <tr>\n",
       "      <th>75%</th>\n",
       "      <td>668.500000</td>\n",
       "      <td>1.000000</td>\n",
       "      <td>3.000000</td>\n",
       "      <td>38.000000</td>\n",
       "      <td>1.000000</td>\n",
       "      <td>0.000000</td>\n",
       "      <td>31.000000</td>\n",
       "    </tr>\n",
       "    <tr>\n",
       "      <th>max</th>\n",
       "      <td>891.000000</td>\n",
       "      <td>1.000000</td>\n",
       "      <td>3.000000</td>\n",
       "      <td>80.000000</td>\n",
       "      <td>8.000000</td>\n",
       "      <td>6.000000</td>\n",
       "      <td>512.329200</td>\n",
       "    </tr>\n",
       "  </tbody>\n",
       "</table>\n",
       "</div>"
      ],
      "text/plain": [
       "       PassengerId    Survived      Pclass         Age       SibSp  \\\n",
       "count   891.000000  891.000000  891.000000  714.000000  891.000000   \n",
       "mean    446.000000    0.383838    2.308642   29.699118    0.523008   \n",
       "std     257.353842    0.486592    0.836071   14.526497    1.102743   \n",
       "min       1.000000    0.000000    1.000000    0.420000    0.000000   \n",
       "25%     223.500000    0.000000    2.000000   20.125000    0.000000   \n",
       "50%     446.000000    0.000000    3.000000   28.000000    0.000000   \n",
       "75%     668.500000    1.000000    3.000000   38.000000    1.000000   \n",
       "max     891.000000    1.000000    3.000000   80.000000    8.000000   \n",
       "\n",
       "            Parch        Fare  \n",
       "count  891.000000  891.000000  \n",
       "mean     0.381594   32.204208  \n",
       "std      0.806057   49.693429  \n",
       "min      0.000000    0.000000  \n",
       "25%      0.000000    7.910400  \n",
       "50%      0.000000   14.454200  \n",
       "75%      0.000000   31.000000  \n",
       "max      6.000000  512.329200  "
      ]
     },
     "execution_count": 4,
     "metadata": {},
     "output_type": "execute_result"
    }
   ],
   "source": [
    "df_train.describe()"
   ]
  },
  {
   "cell_type": "code",
   "execution_count": 5,
   "metadata": {},
   "outputs": [
    {
     "name": "stdout",
     "output_type": "stream",
     "text": [
      "<class 'pandas.core.frame.DataFrame'>\n",
      "RangeIndex: 891 entries, 0 to 890\n",
      "Data columns (total 12 columns):\n",
      " #   Column       Non-Null Count  Dtype  \n",
      "---  ------       --------------  -----  \n",
      " 0   PassengerId  891 non-null    int64  \n",
      " 1   Survived     891 non-null    int64  \n",
      " 2   Pclass       891 non-null    int64  \n",
      " 3   Name         891 non-null    object \n",
      " 4   Sex          891 non-null    object \n",
      " 5   Age          714 non-null    float64\n",
      " 6   SibSp        891 non-null    int64  \n",
      " 7   Parch        891 non-null    int64  \n",
      " 8   Ticket       891 non-null    object \n",
      " 9   Fare         891 non-null    float64\n",
      " 10  Cabin        204 non-null    object \n",
      " 11  Embarked     889 non-null    object \n",
      "dtypes: float64(2), int64(5), object(5)\n",
      "memory usage: 83.7+ KB\n"
     ]
    }
   ],
   "source": [
    "df_train.info()"
   ]
  },
  {
   "cell_type": "code",
   "execution_count": 6,
   "metadata": {},
   "outputs": [],
   "source": [
    "# 去掉很明顯無關或資料缺失過多的特徵\n",
    "# 乘客號碼(PassengerId),標籤(survived),名字(name),票號(Ticket),船艙號碼(Cabin),\n",
    "df_train.drop(['PassengerId','Name','Ticket','Cabin'],axis=1,inplace=True)"
   ]
  },
  {
   "cell_type": "markdown",
   "metadata": {},
   "source": [
    "# $EDA---Survived\\ correlation$"
   ]
  },
  {
   "cell_type": "code",
   "execution_count": 7,
   "metadata": {},
   "outputs": [
    {
     "name": "stdout",
     "output_type": "stream",
     "text": [
      "<class 'pandas.core.frame.DataFrame'>\n",
      "RangeIndex: 891 entries, 0 to 890\n",
      "Data columns (total 8 columns):\n",
      " #   Column    Non-Null Count  Dtype  \n",
      "---  ------    --------------  -----  \n",
      " 0   Survived  891 non-null    int64  \n",
      " 1   Pclass    891 non-null    int64  \n",
      " 2   Sex       891 non-null    object \n",
      " 3   Age       714 non-null    float64\n",
      " 4   SibSp     891 non-null    int64  \n",
      " 5   Parch     891 non-null    int64  \n",
      " 6   Fare      891 non-null    float64\n",
      " 7   Embarked  889 non-null    object \n",
      "dtypes: float64(2), int64(4), object(2)\n",
      "memory usage: 55.8+ KB\n"
     ]
    }
   ],
   "source": [
    "#pclass:艙位,sex:性別,Age:年齡,Sibsp:在船上同為兄弟姐妹或配偶的數目,parch:在船上同為家族的父母及小孩的數目\n",
    "df_train.info()"
   ]
  },
  {
   "cell_type": "code",
   "execution_count": 8,
   "metadata": {},
   "outputs": [
    {
     "data": {
      "text/plain": [
       "<AxesSubplot:xlabel='Survived', ylabel='count'>"
      ]
     },
     "execution_count": 8,
     "metadata": {},
     "output_type": "execute_result"
    },
    {
     "data": {
      "image/png": "[encoded data removed]",
      "text/plain": [
       "<Figure size 432x288 with 1 Axes>"
      ]
     },
     "metadata": {
      "needs_background": "light"
     },
     "output_type": "display_data"
    }
   ],
   "source": [
    "#存活人數\n",
    "sns.countplot(x='Survived',data=df_train)"
   ]
  },
  {
   "cell_type": "markdown",
   "metadata": {},
   "source": [
    "# $From\\ Pclass\\ to\\ Age\\ and\\ Sex$"
   ]
  },
  {
   "cell_type": "code",
   "execution_count": 9,
   "metadata": {},
   "outputs": [
    {
     "data": {
      "text/plain": [
       "<AxesSubplot:xlabel='Pclass', ylabel='count'>"
      ]
     },
     "execution_count": 9,
     "metadata": {},
     "output_type": "execute_result"
    },
    {
     "data": {
      "image/png": "[encoded data removed]",
      "text/plain": [
       "<Figure size 432x288 with 1 Axes>"
      ]
     },
     "metadata": {
      "needs_background": "light"
     },
     "output_type": "display_data"
    }
   ],
   "source": [
    "#哪個船艙死最多人\n",
    "#problem---什麼樣的人會去住三號船艙\n",
    "sns.countplot(x=df_train['Pclass'],hue=df_train['Survived'])"
   ]
  },
  {
   "cell_type": "code",
   "execution_count": 10,
   "metadata": {},
   "outputs": [
    {
     "data": {
      "text/plain": [
       "<AxesSubplot:xlabel='Pclass', ylabel='count'>"
      ]
     },
     "execution_count": 10,
     "metadata": {},
     "output_type": "execute_result"
    },
    {
     "data": {
      "image/png": "[encoded data removed]",
      "text/plain": [
       "<Figure size 432x288 with 1 Axes>"
      ]
     },
     "metadata": {
      "needs_background": "light"
     },
     "output_type": "display_data"
    }
   ],
   "source": [
    "#三號船艙男生最多\n",
    "#problem---性別跟存活相關性\n",
    "sns.countplot(x=df_train['Pclass'],hue=df_train['Sex'])"
   ]
  },
  {
   "cell_type": "code",
   "execution_count": 11,
   "metadata": {},
   "outputs": [
    {
     "data": {
      "text/plain": [
       "<AxesSubplot:xlabel='Sex', ylabel='count'>"
      ]
     },
     "execution_count": 11,
     "metadata": {},
     "output_type": "execute_result"
    },
    {
     "data": {
      "image/png": "[encoded data removed]",
      "text/plain": [
       "<Figure size 432x288 with 1 Axes>"
      ]
     },
     "metadata": {
      "needs_background": "light"
     },
     "output_type": "display_data"
    }
   ],
   "source": [
    "#性別和存活相關性--男生死最多\n",
    "sns.countplot(x=df_train['Sex'],hue=df_train['Survived'])"
   ]
  },
  {
   "cell_type": "code",
   "execution_count": 12,
   "metadata": {},
   "outputs": [
    {
     "data": {
      "text/plain": [
       "<AxesSubplot:xlabel='Sex', ylabel='Age'>"
      ]
     },
     "execution_count": 12,
     "metadata": {},
     "output_type": "execute_result"
    },
    {
     "data": {
      "image/png": "[encoded data removed]",
      "text/plain": [
       "<Figure size 432x288 with 1 Axes>"
      ]
     },
     "metadata": {
      "needs_background": "light"
     },
     "output_type": "display_data"
    }
   ],
   "source": [
    "#性別vs年齡 20~30歲居多是男生\n",
    "sns.histplot(x=df_train['Sex'],y=df_train['Age'])"
   ]
  },
  {
   "cell_type": "code",
   "execution_count": 13,
   "metadata": {},
   "outputs": [
    {
     "data": {
      "text/plain": [
       "<AxesSubplot:xlabel='Pclass', ylabel='Age'>"
      ]
     },
     "execution_count": 13,
     "metadata": {},
     "output_type": "execute_result"
    },
    {
     "data": {
      "image/png": "[encoded data removed]",
      "text/plain": [
       "<Figure size 432x288 with 1 Axes>"
      ]
     },
     "metadata": {
      "needs_background": "light"
     },
     "output_type": "display_data"
    }
   ],
   "source": [
    "#船艙vs年齡  20~30歲集中在3號船艙\n",
    "sns.histplot(x=df_train['Pclass'],y=df_train['Age'])"
   ]
  },
  {
   "cell_type": "code",
   "execution_count": 14,
   "metadata": {},
   "outputs": [
    {
     "data": {
      "text/plain": [
       "<AxesSubplot:xlabel='Survived', ylabel='Age'>"
      ]
     },
     "execution_count": 14,
     "metadata": {},
     "output_type": "execute_result"
    },
    {
     "data": {
      "image/png": "[encoded data removed]",
      "text/plain": [
       "<Figure size 432x288 with 1 Axes>"
      ]
     },
     "metadata": {
      "needs_background": "light"
     },
     "output_type": "display_data"
    }
   ],
   "source": [
    "#三號船艙:死亡人數最多,且居多是20~30歲的男性\n",
    "#特徵:船艙,年齡,性別和存活有相關性\n",
    "sns.histplot(x=df_train['Survived'],y=df_train['Age'])"
   ]
  },
  {
   "cell_type": "code",
   "execution_count": 15,
   "metadata": {},
   "outputs": [
    {
     "data": {
      "text/plain": [
       "<seaborn.axisgrid.FacetGrid at 0x227b696f0b8>"
      ]
     },
     "execution_count": 15,
     "metadata": {},
     "output_type": "execute_result"
    },
    {
     "data": {
      "image/png": "[encoded data removed]",
      "text/plain": [
       "<Figure size 432x216 with 2 Axes>"
      ]
     },
     "metadata": {
      "needs_background": "light"
     },
     "output_type": "display_data"
    }
   ],
   "source": [
    "#result\n",
    "s=sns.FacetGrid(df_train,col='Survived')\n",
    "s.map(sns.histplot,'Age',kde=False)"
   ]
  },
  {
   "cell_type": "markdown",
   "metadata": {},
   "source": [
    "# SibSp:spouce ,siblings  "
   ]
  },
  {
   "cell_type": "code",
   "execution_count": 16,
   "metadata": {},
   "outputs": [
    {
     "data": {
      "text/plain": [
       "<AxesSubplot:xlabel='SibSp', ylabel='count'>"
      ]
     },
     "execution_count": 16,
     "metadata": {},
     "output_type": "execute_result"
    },
    {
     "data": {
      "image/png": "[encoded data removed]",
      "text/plain": [
       "<Figure size 432x288 with 1 Axes>"
      ]
     },
     "metadata": {
      "needs_background": "light"
     },
     "output_type": "display_data"
    }
   ],
   "source": [
    "#有配偶和兄弟姊妹的人和是否存活成正相關\n",
    "sns.countplot(x=df_train['SibSp'],hue=df_train['Survived'])"
   ]
  },
  {
   "cell_type": "code",
   "execution_count": 17,
   "metadata": {},
   "outputs": [
    {
     "data": {
      "text/plain": [
       "<AxesSubplot:xlabel='SibSp', ylabel='count'>"
      ]
     },
     "execution_count": 17,
     "metadata": {},
     "output_type": "execute_result"
    },
    {
     "data": {
      "image/png": "[encoded data removed]",
      "text/plain": [
       "<Figure size 432x288 with 1 Axes>"
      ]
     },
     "metadata": {
      "needs_background": "light"
     },
     "output_type": "display_data"
    }
   ],
   "source": [
    "#配偶兄弟姊妹vs船艙分布\n",
    "#三號船艙的人幾乎沒有配偶或兄弟姊妹----推斷是三號艙20~30歲的男生----和存活成相關性\n",
    "sns.countplot(x=df_train['SibSp'],hue=df_train['Pclass'])"
   ]
  },
  {
   "cell_type": "markdown",
   "metadata": {},
   "source": [
    "# $Parch:parent ,\\ children$"
   ]
  },
  {
   "cell_type": "code",
   "execution_count": 18,
   "metadata": {},
   "outputs": [
    {
     "data": {
      "text/plain": [
       "<AxesSubplot:xlabel='Parch', ylabel='count'>"
      ]
     },
     "execution_count": 18,
     "metadata": {},
     "output_type": "execute_result"
    },
    {
     "data": {
      "image/png": "[encoded data removed]",
      "text/plain": [
       "<Figure size 432x288 with 1 Axes>"
      ]
     },
     "metadata": {
      "needs_background": "light"
     },
     "output_type": "display_data"
    }
   ],
   "source": [
    "#有沒有父母和小孩和存活成正相關\n",
    "sns.countplot(x=df_train['Parch'],hue=df_train['Survived'])"
   ]
  },
  {
   "cell_type": "code",
   "execution_count": 19,
   "metadata": {},
   "outputs": [
    {
     "data": {
      "text/plain": [
       "<AxesSubplot:xlabel='Parch', ylabel='count'>"
      ]
     },
     "execution_count": 19,
     "metadata": {},
     "output_type": "execute_result"
    },
    {
     "data": {
      "image/png": "[encoded data removed]",
      "text/plain": [
       "<Figure size 432x288 with 1 Axes>"
      ]
     },
     "metadata": {
      "needs_background": "light"
     },
     "output_type": "display_data"
    }
   ],
   "source": [
    "#父母小孩vs船艙分布\n",
    "#三號船艙的人幾乎沒有小孩和父母----推斷是三號艙20~30歲的男生----和存活成相關性\n",
    "sns.countplot(x=df_train['Parch'],hue=df_train['Pclass'])\n",
    "#推論:三號船艙的男生是出來打拼20~30歲的年輕人"
   ]
  },
  {
   "cell_type": "markdown",
   "metadata": {},
   "source": [
    "# $Embark$"
   ]
  },
  {
   "cell_type": "code",
   "execution_count": 20,
   "metadata": {},
   "outputs": [
    {
     "data": {
      "text/plain": [
       "<AxesSubplot:xlabel='Embarked', ylabel='count'>"
      ]
     },
     "execution_count": 20,
     "metadata": {},
     "output_type": "execute_result"
    },
    {
     "data": {
      "image/png": "[encoded data removed]",
      "text/plain": [
       "<Figure size 432x288 with 1 Axes>"
      ]
     },
     "metadata": {
      "needs_background": "light"
     },
     "output_type": "display_data"
    }
   ],
   "source": [
    "#在S點上船的人死最多---S點的人被分配到哪個船艙\n",
    "sns.countplot(x=df_train['Embarked'],hue=df_train['Survived'])"
   ]
  },
  {
   "cell_type": "code",
   "execution_count": 21,
   "metadata": {},
   "outputs": [
    {
     "data": {
      "text/plain": [
       "<AxesSubplot:xlabel='Sex', ylabel='count'>"
      ]
     },
     "execution_count": 21,
     "metadata": {},
     "output_type": "execute_result"
    },
    {
     "data": {
      "image/png": "[encoded data removed]",
      "text/plain": [
       "<Figure size 432x288 with 1 Axes>"
      ]
     },
     "metadata": {
      "needs_background": "light"
     },
     "output_type": "display_data"
    }
   ],
   "source": [
    "#性別和上船地點\n",
    "#男生多半是從S點上船\n",
    "sns.countplot(x=df_train['Sex'],hue=df_train['Embarked'])"
   ]
  },
  {
   "cell_type": "code",
   "execution_count": 22,
   "metadata": {},
   "outputs": [
    {
     "data": {
      "text/plain": [
       "<AxesSubplot:xlabel='Embarked', ylabel='count'>"
      ]
     },
     "execution_count": 22,
     "metadata": {},
     "output_type": "execute_result"
    },
    {
     "data": {
      "image/png": "[encoded data removed]",
      "text/plain": [
       "<Figure size 432x288 with 1 Axes>"
      ]
     },
     "metadata": {
      "needs_background": "light"
     },
     "output_type": "display_data"
    }
   ],
   "source": [
    "#S點的人多半被分配到三號船艙----推論三號船艙20~30歲的男姓幾乎是從S點上船的----和存活成相關性\n",
    "sns.countplot(x=df_train['Embarked'],hue=df_train['Pclass'])"
   ]
  },
  {
   "cell_type": "markdown",
   "metadata": {},
   "source": [
    "# $Fare$"
   ]
  },
  {
   "cell_type": "code",
   "execution_count": 23,
   "metadata": {},
   "outputs": [
    {
     "data": {
      "text/plain": [
       "<seaborn.axisgrid.FacetGrid at 0x227b7e78128>"
      ]
     },
     "execution_count": 23,
     "metadata": {},
     "output_type": "execute_result"
    },
    {
     "data": {
      "image/png": "[encoded data removed]",
      "text/plain": [
       "<Figure size 432x216 with 2 Axes>"
      ]
     },
     "metadata": {
      "needs_background": "light"
     },
     "output_type": "display_data"
    }
   ],
   "source": [
    "#越貼近免費死越多人\n",
    "s=sns.FacetGrid(df_train,col='Survived')\n",
    "s.map(sns.histplot,'Fare',kde=False)"
   ]
  },
  {
   "cell_type": "code",
   "execution_count": 24,
   "metadata": {},
   "outputs": [
    {
     "data": {
      "text/plain": [
       "<AxesSubplot:xlabel='Pclass', ylabel='Fare'>"
      ]
     },
     "execution_count": 24,
     "metadata": {},
     "output_type": "execute_result"
    },
    {
     "data": {
      "image/png": "[encoded data removed]",
      "text/plain": [
       "<Figure size 432x288 with 1 Axes>"
      ]
     },
     "metadata": {
      "needs_background": "light"
     },
     "output_type": "display_data"
    }
   ],
   "source": [
    "#船艙和價格關係----1號船艙比其他船艙價格貴\n",
    "#三號船艙住低價房的人多-----推論是那些20~30歲男性\n",
    "sns.histplot(x=df_train['Pclass'],y=df_train['Fare'])"
   ]
  },
  {
   "cell_type": "code",
   "execution_count": 27,
   "metadata": {},
   "outputs": [
    {
     "data": {
      "text/plain": [
       "<AxesSubplot:xlabel='SibSp', ylabel='Fare'>"
      ]
     },
     "execution_count": 27,
     "metadata": {},
     "output_type": "execute_result"
    },
    {
     "data": {
      "image/png": "[encoded data removed]",
      "text/plain": [
       "<Figure size 432x288 with 1 Axes>"
      ]
     },
     "metadata": {
      "needs_background": "light"
     },
     "output_type": "display_data"
    }
   ],
   "source": [
    "#兄弟姊妹和配偶數量vs價格-----無相關性\n",
    "sns.histplot(x=df_train['SibSp'],y=df_train['Fare'])"
   ]
  },
  {
   "cell_type": "code",
   "execution_count": 28,
   "metadata": {},
   "outputs": [
    {
     "data": {
      "text/plain": [
       "<AxesSubplot:xlabel='Parch', ylabel='Fare'>"
      ]
     },
     "execution_count": 28,
     "metadata": {},
     "output_type": "execute_result"
    },
    {
     "data": {
      "image/png": "[encoded data removed]",
      "text/plain": [
       "<Figure size 432x288 with 1 Axes>"
      ]
     },
     "metadata": {
      "needs_background": "light"
     },
     "output_type": "display_data"
    }
   ],
   "source": [
    "#父母小孩數量vs價格----無相關性\n",
    "sns.histplot(x=df_train['Parch'],y=df_train['Fare'])"
   ]
  },
  {
   "cell_type": "code",
   "execution_count": 29,
   "metadata": {},
   "outputs": [
    {
     "data": {
      "text/html": [
       "<div>\n",
       "<style scoped>\n",
       "    .dataframe tbody tr th:only-of-type {\n",
       "        vertical-align: middle;\n",
       "    }\n",
       "\n",
       "    .dataframe tbody tr th {\n",
       "        vertical-align: top;\n",
       "    }\n",
       "\n",
       "    .dataframe thead th {\n",
       "        text-align: right;\n",
       "    }\n",
       "</style>\n",
       "<table border=\"1\" class=\"dataframe\">\n",
       "  <thead>\n",
       "    <tr style=\"text-align: right;\">\n",
       "      <th></th>\n",
       "      <th>Survived</th>\n",
       "      <th>Pclass</th>\n",
       "      <th>Sex</th>\n",
       "      <th>Age</th>\n",
       "      <th>SibSp</th>\n",
       "      <th>Parch</th>\n",
       "      <th>Fare</th>\n",
       "      <th>Embarked</th>\n",
       "    </tr>\n",
       "  </thead>\n",
       "  <tbody>\n",
       "    <tr>\n",
       "      <th>0</th>\n",
       "      <td>0</td>\n",
       "      <td>3</td>\n",
       "      <td>male</td>\n",
       "      <td>22.0</td>\n",
       "      <td>1</td>\n",
       "      <td>0</td>\n",
       "      <td>7.2500</td>\n",
       "      <td>S</td>\n",
       "    </tr>\n",
       "    <tr>\n",
       "      <th>1</th>\n",
       "      <td>1</td>\n",
       "      <td>1</td>\n",
       "      <td>female</td>\n",
       "      <td>38.0</td>\n",
       "      <td>1</td>\n",
       "      <td>0</td>\n",
       "      <td>71.2833</td>\n",
       "      <td>C</td>\n",
       "    </tr>\n",
       "    <tr>\n",
       "      <th>2</th>\n",
       "      <td>1</td>\n",
       "      <td>3</td>\n",
       "      <td>female</td>\n",
       "      <td>26.0</td>\n",
       "      <td>0</td>\n",
       "      <td>0</td>\n",
       "      <td>7.9250</td>\n",
       "      <td>S</td>\n",
       "    </tr>\n",
       "    <tr>\n",
       "      <th>3</th>\n",
       "      <td>1</td>\n",
       "      <td>1</td>\n",
       "      <td>female</td>\n",
       "      <td>35.0</td>\n",
       "      <td>1</td>\n",
       "      <td>0</td>\n",
       "      <td>53.1000</td>\n",
       "      <td>S</td>\n",
       "    </tr>\n",
       "    <tr>\n",
       "      <th>4</th>\n",
       "      <td>0</td>\n",
       "      <td>3</td>\n",
       "      <td>male</td>\n",
       "      <td>35.0</td>\n",
       "      <td>0</td>\n",
       "      <td>0</td>\n",
       "      <td>8.0500</td>\n",
       "      <td>S</td>\n",
       "    </tr>\n",
       "    <tr>\n",
       "      <th>...</th>\n",
       "      <td>...</td>\n",
       "      <td>...</td>\n",
       "      <td>...</td>\n",
       "      <td>...</td>\n",
       "      <td>...</td>\n",
       "      <td>...</td>\n",
       "      <td>...</td>\n",
       "      <td>...</td>\n",
       "    </tr>\n",
       "    <tr>\n",
       "      <th>886</th>\n",
       "      <td>0</td>\n",
       "      <td>2</td>\n",
       "      <td>male</td>\n",
       "      <td>27.0</td>\n",
       "      <td>0</td>\n",
       "      <td>0</td>\n",
       "      <td>13.0000</td>\n",
       "      <td>S</td>\n",
       "    </tr>\n",
       "    <tr>\n",
       "      <th>887</th>\n",
       "      <td>1</td>\n",
       "      <td>1</td>\n",
       "      <td>female</td>\n",
       "      <td>19.0</td>\n",
       "      <td>0</td>\n",
       "      <td>0</td>\n",
       "      <td>30.0000</td>\n",
       "      <td>S</td>\n",
       "    </tr>\n",
       "    <tr>\n",
       "      <th>888</th>\n",
       "      <td>0</td>\n",
       "      <td>3</td>\n",
       "      <td>female</td>\n",
       "      <td>NaN</td>\n",
       "      <td>1</td>\n",
       "      <td>2</td>\n",
       "      <td>23.4500</td>\n",
       "      <td>S</td>\n",
       "    </tr>\n",
       "    <tr>\n",
       "      <th>889</th>\n",
       "      <td>1</td>\n",
       "      <td>1</td>\n",
       "      <td>male</td>\n",
       "      <td>26.0</td>\n",
       "      <td>0</td>\n",
       "      <td>0</td>\n",
       "      <td>30.0000</td>\n",
       "      <td>C</td>\n",
       "    </tr>\n",
       "    <tr>\n",
       "      <th>890</th>\n",
       "      <td>0</td>\n",
       "      <td>3</td>\n",
       "      <td>male</td>\n",
       "      <td>32.0</td>\n",
       "      <td>0</td>\n",
       "      <td>0</td>\n",
       "      <td>7.7500</td>\n",
       "      <td>Q</td>\n",
       "    </tr>\n",
       "  </tbody>\n",
       "</table>\n",
       "<p>891 rows × 8 columns</p>\n",
       "</div>"
      ],
      "text/plain": [
       "     Survived  Pclass     Sex   Age  SibSp  Parch     Fare Embarked\n",
       "0           0       3    male  22.0      1      0   7.2500        S\n",
       "1           1       1  female  38.0      1      0  71.2833        C\n",
       "2           1       3  female  26.0      0      0   7.9250        S\n",
       "3           1       1  female  35.0      1      0  53.1000        S\n",
       "4           0       3    male  35.0      0      0   8.0500        S\n",
       "..        ...     ...     ...   ...    ...    ...      ...      ...\n",
       "886         0       2    male  27.0      0      0  13.0000        S\n",
       "887         1       1  female  19.0      0      0  30.0000        S\n",
       "888         0       3  female   NaN      1      2  23.4500        S\n",
       "889         1       1    male  26.0      0      0  30.0000        C\n",
       "890         0       3    male  32.0      0      0   7.7500        Q\n",
       "\n",
       "[891 rows x 8 columns]"
      ]
     },
     "execution_count": 29,
     "metadata": {},
     "output_type": "execute_result"
    }
   ],
   "source": [
    "#船艙,年齡,性別,上船位置,父母小孩,配偶兄弟姊妹,價格皆與存活相關\n",
    "df_train"
   ]
  },
  {
   "cell_type": "code",
   "execution_count": 30,
   "metadata": {},
   "outputs": [],
   "source": [
    "#drop label\n",
    "df_train.drop(['Survived'],axis=1,inplace=True)"
   ]
  },
  {
   "cell_type": "code",
   "execution_count": 137,
   "metadata": {},
   "outputs": [],
   "source": [
    "df_train_norm=(df_train-df_train.mean())/df_train.std()"
   ]
  },
  {
   "cell_type": "code",
   "execution_count": 139,
   "metadata": {},
   "outputs": [
    {
     "data": {
      "text/plain": [
       "<AxesSubplot:>"
      ]
     },
     "execution_count": 139,
     "metadata": {},
     "output_type": "execute_result"
    },
    {
     "data": {
      "image/png": "[encoded data removed]",
      "text/plain": [
       "<Figure size 432x288 with 2 Axes>"
      ]
     },
     "metadata": {
      "needs_background": "light"
     },
     "output_type": "display_data"
    }
   ],
   "source": [
    "# correlation plot\n",
    "#pclass:1,2,3\n",
    "#sex: male(1),female(0)\n",
    "#survived: alive(1),die(0)\n",
    "#fate:cheap to expensive\n",
    "#embark : C(0),Q(1),S(2)\n",
    "\n",
    "sns.heatmap(df_train_norm.corr(),annot=True)"
   ]
  },
  {
   "cell_type": "markdown",
   "metadata": {},
   "source": [
    "# build model"
   ]
  },
  {
   "cell_type": "markdown",
   "metadata": {},
   "source": [
    "# $data\\ preprocess$"
   ]
  },
  {
   "cell_type": "code",
   "execution_count": 31,
   "metadata": {},
   "outputs": [],
   "source": [
    "from sklearn.preprocessing import LabelEncoder\n",
    "from sklearn.model_selection import train_test_split as tts\n",
    "from sklearn.preprocessing import StandardScaler"
   ]
  },
  {
   "cell_type": "code",
   "execution_count": 32,
   "metadata": {},
   "outputs": [
    {
     "name": "stdout",
     "output_type": "stream",
     "text": [
      "<class 'pandas.core.frame.DataFrame'>\n",
      "RangeIndex: 891 entries, 0 to 890\n",
      "Data columns (total 7 columns):\n",
      " #   Column    Non-Null Count  Dtype  \n",
      "---  ------    --------------  -----  \n",
      " 0   Pclass    891 non-null    int64  \n",
      " 1   Sex       891 non-null    object \n",
      " 2   Age       714 non-null    float64\n",
      " 3   SibSp     891 non-null    int64  \n",
      " 4   Parch     891 non-null    int64  \n",
      " 5   Fare      891 non-null    float64\n",
      " 6   Embarked  889 non-null    object \n",
      "dtypes: float64(2), int64(3), object(2)\n",
      "memory usage: 48.9+ KB\n"
     ]
    }
   ],
   "source": [
    "df_train.info()"
   ]
  },
  {
   "cell_type": "code",
   "execution_count": 33,
   "metadata": {},
   "outputs": [
    {
     "data": {
      "text/plain": [
       "False    714\n",
       "True     177\n",
       "Name: Age, dtype: int64"
      ]
     },
     "execution_count": 33,
     "metadata": {},
     "output_type": "execute_result"
    }
   ],
   "source": [
    "df_train['Age'].isnull().value_counts()"
   ]
  },
  {
   "cell_type": "code",
   "execution_count": 34,
   "metadata": {},
   "outputs": [],
   "source": [
    "#fill nan with mean \n",
    "df_train.Age.fillna(df_train.Age.mean(),inplace=True)"
   ]
  },
  {
   "cell_type": "code",
   "execution_count": 35,
   "metadata": {},
   "outputs": [
    {
     "data": {
      "text/plain": [
       "False    889\n",
       "True       2\n",
       "Name: Embarked, dtype: int64"
      ]
     },
     "execution_count": 35,
     "metadata": {},
     "output_type": "execute_result"
    }
   ],
   "source": [
    "df_train['Embarked'].isnull().value_counts()"
   ]
  },
  {
   "cell_type": "code",
   "execution_count": 36,
   "metadata": {},
   "outputs": [],
   "source": [
    "#fill nan with the largest count embarked\n",
    "df_train.Embarked.fillna('S',inplace=True)"
   ]
  },
  {
   "cell_type": "code",
   "execution_count": 37,
   "metadata": {},
   "outputs": [
    {
     "data": {
      "text/plain": [
       "Pclass  Sex    Age    SibSp  Parch  Fare   Embarked\n",
       "False   False  False  False  False  False  False       891\n",
       "dtype: int64"
      ]
     },
     "execution_count": 37,
     "metadata": {},
     "output_type": "execute_result"
    }
   ],
   "source": [
    "df_train.isnull().value_counts()"
   ]
  },
  {
   "cell_type": "code",
   "execution_count": 38,
   "metadata": {},
   "outputs": [],
   "source": [
    "#replace number to label\n",
    "#sex:male,female ---0,1\n",
    "#embarked:S,C,Q----0,1,2\n",
    "replace = LabelEncoder()\n",
    "\n",
    "#sex\n",
    "replace.fit(df_train.Sex)\n",
    "Sex_label = replace.transform(df_train.Sex)\n",
    "df_train['Sex_label'] = Sex_label\n",
    "df_train.drop(['Sex'],axis=1,inplace=True)\n",
    "\n",
    "#embarked\n",
    "replace.fit(df_train.Embarked)\n",
    "Embarked_label = replace.transform(df_train.Embarked)\n",
    "df_train['Embarked_label'] = Embarked_label\n",
    "df_train.drop(['Embarked'],axis=1,inplace=True)\n"
   ]
  },
  {
   "cell_type": "code",
   "execution_count": 39,
   "metadata": {},
   "outputs": [
    {
     "data": {
      "text/html": [
       "<div>\n",
       "<style scoped>\n",
       "    .dataframe tbody tr th:only-of-type {\n",
       "        vertical-align: middle;\n",
       "    }\n",
       "\n",
       "    .dataframe tbody tr th {\n",
       "        vertical-align: top;\n",
       "    }\n",
       "\n",
       "    .dataframe thead th {\n",
       "        text-align: right;\n",
       "    }\n",
       "</style>\n",
       "<table border=\"1\" class=\"dataframe\">\n",
       "  <thead>\n",
       "    <tr style=\"text-align: right;\">\n",
       "      <th></th>\n",
       "      <th>Pclass</th>\n",
       "      <th>Age</th>\n",
       "      <th>SibSp</th>\n",
       "      <th>Parch</th>\n",
       "      <th>Fare</th>\n",
       "      <th>Sex_label</th>\n",
       "      <th>Embarked_label</th>\n",
       "    </tr>\n",
       "  </thead>\n",
       "  <tbody>\n",
       "    <tr>\n",
       "      <th>0</th>\n",
       "      <td>3</td>\n",
       "      <td>22.000000</td>\n",
       "      <td>1</td>\n",
       "      <td>0</td>\n",
       "      <td>7.2500</td>\n",
       "      <td>1</td>\n",
       "      <td>2</td>\n",
       "    </tr>\n",
       "    <tr>\n",
       "      <th>1</th>\n",
       "      <td>1</td>\n",
       "      <td>38.000000</td>\n",
       "      <td>1</td>\n",
       "      <td>0</td>\n",
       "      <td>71.2833</td>\n",
       "      <td>0</td>\n",
       "      <td>0</td>\n",
       "    </tr>\n",
       "    <tr>\n",
       "      <th>2</th>\n",
       "      <td>3</td>\n",
       "      <td>26.000000</td>\n",
       "      <td>0</td>\n",
       "      <td>0</td>\n",
       "      <td>7.9250</td>\n",
       "      <td>0</td>\n",
       "      <td>2</td>\n",
       "    </tr>\n",
       "    <tr>\n",
       "      <th>3</th>\n",
       "      <td>1</td>\n",
       "      <td>35.000000</td>\n",
       "      <td>1</td>\n",
       "      <td>0</td>\n",
       "      <td>53.1000</td>\n",
       "      <td>0</td>\n",
       "      <td>2</td>\n",
       "    </tr>\n",
       "    <tr>\n",
       "      <th>4</th>\n",
       "      <td>3</td>\n",
       "      <td>35.000000</td>\n",
       "      <td>0</td>\n",
       "      <td>0</td>\n",
       "      <td>8.0500</td>\n",
       "      <td>1</td>\n",
       "      <td>2</td>\n",
       "    </tr>\n",
       "    <tr>\n",
       "      <th>...</th>\n",
       "      <td>...</td>\n",
       "      <td>...</td>\n",
       "      <td>...</td>\n",
       "      <td>...</td>\n",
       "      <td>...</td>\n",
       "      <td>...</td>\n",
       "      <td>...</td>\n",
       "    </tr>\n",
       "    <tr>\n",
       "      <th>886</th>\n",
       "      <td>2</td>\n",
       "      <td>27.000000</td>\n",
       "      <td>0</td>\n",
       "      <td>0</td>\n",
       "      <td>13.0000</td>\n",
       "      <td>1</td>\n",
       "      <td>2</td>\n",
       "    </tr>\n",
       "    <tr>\n",
       "      <th>887</th>\n",
       "      <td>1</td>\n",
       "      <td>19.000000</td>\n",
       "      <td>0</td>\n",
       "      <td>0</td>\n",
       "      <td>30.0000</td>\n",
       "      <td>0</td>\n",
       "      <td>2</td>\n",
       "    </tr>\n",
       "    <tr>\n",
       "      <th>888</th>\n",
       "      <td>3</td>\n",
       "      <td>29.699118</td>\n",
       "      <td>1</td>\n",
       "      <td>2</td>\n",
       "      <td>23.4500</td>\n",
       "      <td>0</td>\n",
       "      <td>2</td>\n",
       "    </tr>\n",
       "    <tr>\n",
       "      <th>889</th>\n",
       "      <td>1</td>\n",
       "      <td>26.000000</td>\n",
       "      <td>0</td>\n",
       "      <td>0</td>\n",
       "      <td>30.0000</td>\n",
       "      <td>1</td>\n",
       "      <td>0</td>\n",
       "    </tr>\n",
       "    <tr>\n",
       "      <th>890</th>\n",
       "      <td>3</td>\n",
       "      <td>32.000000</td>\n",
       "      <td>0</td>\n",
       "      <td>0</td>\n",
       "      <td>7.7500</td>\n",
       "      <td>1</td>\n",
       "      <td>1</td>\n",
       "    </tr>\n",
       "  </tbody>\n",
       "</table>\n",
       "<p>891 rows × 7 columns</p>\n",
       "</div>"
      ],
      "text/plain": [
       "     Pclass        Age  SibSp  Parch     Fare  Sex_label  Embarked_label\n",
       "0         3  22.000000      1      0   7.2500          1               2\n",
       "1         1  38.000000      1      0  71.2833          0               0\n",
       "2         3  26.000000      0      0   7.9250          0               2\n",
       "3         1  35.000000      1      0  53.1000          0               2\n",
       "4         3  35.000000      0      0   8.0500          1               2\n",
       "..      ...        ...    ...    ...      ...        ...             ...\n",
       "886       2  27.000000      0      0  13.0000          1               2\n",
       "887       1  19.000000      0      0  30.0000          0               2\n",
       "888       3  29.699118      1      2  23.4500          0               2\n",
       "889       1  26.000000      0      0  30.0000          1               0\n",
       "890       3  32.000000      0      0   7.7500          1               1\n",
       "\n",
       "[891 rows x 7 columns]"
      ]
     },
     "execution_count": 39,
     "metadata": {},
     "output_type": "execute_result"
    }
   ],
   "source": [
    "df_train"
   ]
  },
  {
   "cell_type": "code",
   "execution_count": 40,
   "metadata": {},
   "outputs": [
    {
     "data": {
      "text/plain": [
       "((891, 7), (891, 1))"
      ]
     },
     "execution_count": 40,
     "metadata": {},
     "output_type": "execute_result"
    }
   ],
   "source": [
    "#process\n",
    "X=np.array(df_train)\n",
    "y=np.array(df_train_label).astype(np.float32)\n",
    "X.shape,y.shape"
   ]
  },
  {
   "cell_type": "code",
   "execution_count": 132,
   "metadata": {},
   "outputs": [],
   "source": [
    "from sklearn.model_selection import train_test_split as ttp\n",
    "from sklearn.preprocessing import StandardScaler\n",
    "\n",
    "X_train,X_test,y_train,y_test=ttp(X,y,random_state=1,test_size=0.2)\n",
    "\n",
    "#squeeze y\n",
    "y_train=y_train.squeeze()\n",
    "y_test=y_test.squeeze()\n",
    "\n",
    "\n",
    "#normalzie\n",
    "normalize=StandardScaler()\n",
    "normalize.fit(X_train)\n",
    "X_train=normalize.transform(X_train)\n",
    "normalize.fit(X_test)\n",
    "X_test=normalize.transform(X_test)"
   ]
  },
  {
   "cell_type": "markdown",
   "metadata": {},
   "source": [
    "# build model "
   ]
  },
  {
   "cell_type": "markdown",
   "metadata": {},
   "source": [
    "# $logistic\\ regression$"
   ]
  },
  {
   "cell_type": "code",
   "execution_count": 131,
   "metadata": {},
   "outputs": [],
   "source": [
    "from sklearn.linear_model import LogisticRegression"
   ]
  },
  {
   "cell_type": "code",
   "execution_count": 125,
   "metadata": {},
   "outputs": [],
   "source": [
    "normalize=StandardScaler()\n",
    "normalize.fit(X)\n",
    "X_norm=normalize.transform(X)"
   ]
  },
  {
   "cell_type": "code",
   "execution_count": 127,
   "metadata": {},
   "outputs": [],
   "source": [
    "from sklearn.model_selection import GridSearchCV"
   ]
  },
  {
   "cell_type": "code",
   "execution_count": 128,
   "metadata": {},
   "outputs": [
    {
     "name": "stdout",
     "output_type": "stream",
     "text": [
      "Fitting 3 folds for each of 48 candidates, totalling 144 fits\n",
      "[CV] C=0.5, max_iter=50, random_state=1 ..............................\n",
      "[CV] ............... C=0.5, max_iter=50, random_state=1, total=   0.0s\n",
      "[CV] C=0.5, max_iter=50, random_state=1 ..............................\n",
      "[CV] ............... C=0.5, max_iter=50, random_state=1, total=   0.0s\n",
      "[CV] C=0.5, max_iter=50, random_state=1 ..............................\n",
      "[CV] ............... C=0.5, max_iter=50, random_state=1, total=   0.0s\n",
      "[CV] C=0.5, max_iter=50, random_state=2 ..............................\n",
      "[CV] ............... C=0.5, max_iter=50, random_state=2, total=   0.0s\n",
      "[CV] C=0.5, max_iter=50, random_state=2 ..............................\n",
      "[CV] ............... C=0.5, max_iter=50, random_state=2, total=   0.0s\n",
      "[CV] C=0.5, max_iter=50, random_state=2 ..............................\n",
      "[CV] ............... C=0.5, max_iter=50, random_state=2, total=   0.0s\n",
      "[CV] C=0.5, max_iter=50, random_state=3 ..............................\n",
      "[CV] ............... C=0.5, max_iter=50, random_state=3, total=   0.0s\n",
      "[CV] C=0.5, max_iter=50, random_state=3 ..............................\n",
      "[CV] ............... C=0.5, max_iter=50, random_state=3, total=   0.0s\n",
      "[CV] C=0.5, max_iter=50, random_state=3 ..............................\n",
      "[CV] ............... C=0.5, max_iter=50, random_state=3, total=   0.1s\n",
      "[CV] C=0.5, max_iter=50, random_state=4 ..............................\n",
      "[CV] ............... C=0.5, max_iter=50, random_state=4, total=   0.0s\n",
      "[CV] C=0.5, max_iter=50, random_state=4 ..............................\n",
      "[CV] ............... C=0.5, max_iter=50, random_state=4, total=   0.0s\n",
      "[CV] C=0.5, max_iter=50, random_state=4 ..............................\n",
      "[CV] ............... C=0.5, max_iter=50, random_state=4, total=   0.0s\n",
      "[CV] C=0.5, max_iter=100, random_state=1 .............................\n",
      "[CV] .............. C=0.5, max_iter=100, random_state=1, total=   0.0s\n",
      "[CV] C=0.5, max_iter=100, random_state=1 .............................\n",
      "[CV] .............. C=0.5, max_iter=100, random_state=1, total=   0.0s\n",
      "[CV] C=0.5, max_iter=100, random_state=1 .............................\n",
      "[CV] .............. C=0.5, max_iter=100, random_state=1, total=   0.0s\n",
      "[CV] C=0.5, max_iter=100, random_state=2 .............................\n",
      "[CV] .............. C=0.5, max_iter=100, random_state=2, total=   0.0s\n",
      "[CV] C=0.5, max_iter=100, random_state=2 .............................\n",
      "[CV] .............. C=0.5, max_iter=100, random_state=2, total=   0.0s\n",
      "[CV] C=0.5, max_iter=100, random_state=2 .............................\n",
      "[CV] .............. C=0.5, max_iter=100, random_state=2, total=   0.0s\n",
      "[CV] C=0.5, max_iter=100, random_state=3 .............................\n",
      "[CV] .............. C=0.5, max_iter=100, random_state=3, total=   0.0s\n",
      "[CV] C=0.5, max_iter=100, random_state=3 .............................\n",
      "[CV] .............. C=0.5, max_iter=100, random_state=3, total=   0.0s\n",
      "[CV] C=0.5, max_iter=100, random_state=3 .............................\n",
      "[CV] .............. C=0.5, max_iter=100, random_state=3, total=   0.0s\n",
      "[CV] C=0.5, max_iter=100, random_state=4 .............................\n",
      "[CV] .............. C=0.5, max_iter=100, random_state=4, total=   0.0s\n",
      "[CV] C=0.5, max_iter=100, random_state=4 .............................\n",
      "[CV] .............. C=0.5, max_iter=100, random_state=4, total=   0.0s\n",
      "[CV] C=0.5, max_iter=100, random_state=4 .............................\n",
      "[CV] .............. C=0.5, max_iter=100, random_state=4, total=   0.0s\n",
      "[CV] C=0.5, max_iter=150, random_state=1 .............................\n",
      "[CV] .............. C=0.5, max_iter=150, random_state=1, total=   0.0s\n",
      "[CV] C=0.5, max_iter=150, random_state=1 .............................\n",
      "[CV] .............. C=0.5, max_iter=150, random_state=1, total=   0.0s"
     ]
    },
    {
     "name": "stderr",
     "output_type": "stream",
     "text": [
      "[Parallel(n_jobs=1)]: Using backend SequentialBackend with 1 concurrent workers.\n",
      "[Parallel(n_jobs=1)]: Done   1 out of   1 | elapsed:    0.0s remaining:    0.0s\n"
     ]
    },
    {
     "name": "stdout",
     "output_type": "stream",
     "text": [
      "\n",
      "[CV] C=0.5, max_iter=150, random_state=1 .............................\n",
      "[CV] .............. C=0.5, max_iter=150, random_state=1, total=   0.0s\n",
      "[CV] C=0.5, max_iter=150, random_state=2 .............................\n",
      "[CV] .............. C=0.5, max_iter=150, random_state=2, total=   0.0s\n",
      "[CV] C=0.5, max_iter=150, random_state=2 .............................\n",
      "[CV] .............. C=0.5, max_iter=150, random_state=2, total=   0.0s\n",
      "[CV] C=0.5, max_iter=150, random_state=2 .............................\n",
      "[CV] .............. C=0.5, max_iter=150, random_state=2, total=   0.0s\n",
      "[CV] C=0.5, max_iter=150, random_state=3 .............................\n",
      "[CV] .............. C=0.5, max_iter=150, random_state=3, total=   0.0s\n",
      "[CV] C=0.5, max_iter=150, random_state=3 .............................\n",
      "[CV] .............. C=0.5, max_iter=150, random_state=3, total=   0.0s\n",
      "[CV] C=0.5, max_iter=150, random_state=3 .............................\n",
      "[CV] .............. C=0.5, max_iter=150, random_state=3, total=   0.0s\n",
      "[CV] C=0.5, max_iter=150, random_state=4 .............................\n",
      "[CV] .............. C=0.5, max_iter=150, random_state=4, total=   0.0s\n",
      "[CV] C=0.5, max_iter=150, random_state=4 .............................\n",
      "[CV] .............. C=0.5, max_iter=150, random_state=4, total=   0.0s\n",
      "[CV] C=0.5, max_iter=150, random_state=4 .............................\n",
      "[CV] .............. C=0.5, max_iter=150, random_state=4, total=   0.0s\n",
      "[CV] C=1.0, max_iter=50, random_state=1 ..............................\n",
      "[CV] ............... C=1.0, max_iter=50, random_state=1, total=   0.0s\n",
      "[CV] C=1.0, max_iter=50, random_state=1 ..............................\n",
      "[CV] ............... C=1.0, max_iter=50, random_state=1, total=   0.0s\n",
      "[CV] C=1.0, max_iter=50, random_state=1 ..............................\n",
      "[CV] ............... C=1.0, max_iter=50, random_state=1, total=   0.0s\n",
      "[CV] C=1.0, max_iter=50, random_state=2 ..............................\n",
      "[CV] ............... C=1.0, max_iter=50, random_state=2, total=   0.0s\n",
      "[CV] C=1.0, max_iter=50, random_state=2 ..............................\n",
      "[CV] ............... C=1.0, max_iter=50, random_state=2, total=   0.0s\n",
      "[CV] C=1.0, max_iter=50, random_state=2 ..............................\n",
      "[CV] ............... C=1.0, max_iter=50, random_state=2, total=   0.0s\n",
      "[CV] C=1.0, max_iter=50, random_state=3 ..............................\n",
      "[CV] ............... C=1.0, max_iter=50, random_state=3, total=   0.0s\n",
      "[CV] C=1.0, max_iter=50, random_state=3 ..............................\n",
      "[CV] ............... C=1.0, max_iter=50, random_state=3, total=   0.0s\n",
      "[CV] C=1.0, max_iter=50, random_state=3 ..............................\n",
      "[CV] ............... C=1.0, max_iter=50, random_state=3, total=   0.0s\n",
      "[CV] C=1.0, max_iter=50, random_state=4 ..............................\n",
      "[CV] ............... C=1.0, max_iter=50, random_state=4, total=   0.0s\n",
      "[CV] C=1.0, max_iter=50, random_state=4 ..............................\n",
      "[CV] ............... C=1.0, max_iter=50, random_state=4, total=   0.0s\n",
      "[CV] C=1.0, max_iter=50, random_state=4 ..............................\n",
      "[CV] ............... C=1.0, max_iter=50, random_state=4, total=   0.0s\n",
      "[CV] C=1.0, max_iter=100, random_state=1 .............................\n",
      "[CV] .............. C=1.0, max_iter=100, random_state=1, total=   0.0s\n",
      "[CV] C=1.0, max_iter=100, random_state=1 .............................\n",
      "[CV] .............. C=1.0, max_iter=100, random_state=1, total=   0.0s\n",
      "[CV] C=1.0, max_iter=100, random_state=1 .............................\n",
      "[CV] .............. C=1.0, max_iter=100, random_state=1, total=   0.0s\n",
      "[CV] C=1.0, max_iter=100, random_state=2 .............................\n",
      "[CV] .............. C=1.0, max_iter=100, random_state=2, total=   0.0s\n",
      "[CV] C=1.0, max_iter=100, random_state=2 .............................\n",
      "[CV] .............. C=1.0, max_iter=100, random_state=2, total=   0.0s\n",
      "[CV] C=1.0, max_iter=100, random_state=2 .............................\n",
      "[CV] .............. C=1.0, max_iter=100, random_state=2, total=   0.0s\n",
      "[CV] C=1.0, max_iter=100, random_state=3 .............................\n",
      "[CV] .............. C=1.0, max_iter=100, random_state=3, total=   0.0s\n",
      "[CV] C=1.0, max_iter=100, random_state=3 .............................\n",
      "[CV] .............. C=1.0, max_iter=100, random_state=3, total=   0.0s\n",
      "[CV] C=1.0, max_iter=100, random_state=3 .............................\n",
      "[CV] .............. C=1.0, max_iter=100, random_state=3, total=   0.0s\n",
      "[CV] C=1.0, max_iter=100, random_state=4 .............................\n",
      "[CV] .............. C=1.0, max_iter=100, random_state=4, total=   0.0s\n",
      "[CV] C=1.0, max_iter=100, random_state=4 .............................\n",
      "[CV] .............. C=1.0, max_iter=100, random_state=4, total=   0.0s\n",
      "[CV] C=1.0, max_iter=100, random_state=4 .............................\n",
      "[CV] .............. C=1.0, max_iter=100, random_state=4, total=   0.0s\n",
      "[CV] C=1.0, max_iter=150, random_state=1 .............................\n",
      "[CV] .............. C=1.0, max_iter=150, random_state=1, total=   0.0s\n",
      "[CV] C=1.0, max_iter=150, random_state=1 .............................\n",
      "[CV] .............. C=1.0, max_iter=150, random_state=1, total=   0.0s\n",
      "[CV] C=1.0, max_iter=150, random_state=1 .............................\n",
      "[CV] .............. C=1.0, max_iter=150, random_state=1, total=   0.0s\n",
      "[CV] C=1.0, max_iter=150, random_state=2 .............................\n",
      "[CV] .............. C=1.0, max_iter=150, random_state=2, total=   0.0s\n",
      "[CV] C=1.0, max_iter=150, random_state=2 .............................\n",
      "[CV] .............. C=1.0, max_iter=150, random_state=2, total=   0.0s\n",
      "[CV] C=1.0, max_iter=150, random_state=2 .............................\n",
      "[CV] .............. C=1.0, max_iter=150, random_state=2, total=   0.0s\n",
      "[CV] C=1.0, max_iter=150, random_state=3 .............................\n",
      "[CV] .............. C=1.0, max_iter=150, random_state=3, total=   0.0s\n",
      "[CV] C=1.0, max_iter=150, random_state=3 .............................\n",
      "[CV] .............. C=1.0, max_iter=150, random_state=3, total=   0.0s\n",
      "[CV] C=1.0, max_iter=150, random_state=3 .............................\n",
      "[CV] .............. C=1.0, max_iter=150, random_state=3, total=   0.0s\n",
      "[CV] C=1.0, max_iter=150, random_state=4 .............................\n",
      "[CV] .............. C=1.0, max_iter=150, random_state=4, total=   0.0s\n",
      "[CV] C=1.0, max_iter=150, random_state=4 .............................\n",
      "[CV] .............. C=1.0, max_iter=150, random_state=4, total=   0.0s\n",
      "[CV] C=1.0, max_iter=150, random_state=4 .............................\n",
      "[CV] .............. C=1.0, max_iter=150, random_state=4, total=   0.0s\n",
      "[CV] C=1.2, max_iter=50, random_state=1 ..............................\n",
      "[CV] ............... C=1.2, max_iter=50, random_state=1, total=   0.0s\n",
      "[CV] C=1.2, max_iter=50, random_state=1 ..............................\n",
      "[CV] ............... C=1.2, max_iter=50, random_state=1, total=   0.0s\n",
      "[CV] C=1.2, max_iter=50, random_state=1 ..............................\n",
      "[CV] ............... C=1.2, max_iter=50, random_state=1, total=   0.0s\n",
      "[CV] C=1.2, max_iter=50, random_state=2 ..............................\n",
      "[CV] ............... C=1.2, max_iter=50, random_state=2, total=   0.0s\n",
      "[CV] C=1.2, max_iter=50, random_state=2 ..............................\n",
      "[CV] ............... C=1.2, max_iter=50, random_state=2, total=   0.0s\n",
      "[CV] C=1.2, max_iter=50, random_state=2 ..............................\n",
      "[CV] ............... C=1.2, max_iter=50, random_state=2, total=   0.0s\n",
      "[CV] C=1.2, max_iter=50, random_state=3 ..............................\n",
      "[CV] ............... C=1.2, max_iter=50, random_state=3, total=   0.0s\n",
      "[CV] C=1.2, max_iter=50, random_state=3 ..............................\n",
      "[CV] ............... C=1.2, max_iter=50, random_state=3, total=   0.0s\n",
      "[CV] C=1.2, max_iter=50, random_state=3 ..............................\n",
      "[CV] ............... C=1.2, max_iter=50, random_state=3, total=   0.0s\n",
      "[CV] C=1.2, max_iter=50, random_state=4 ..............................\n",
      "[CV] ............... C=1.2, max_iter=50, random_state=4, total=   0.0s\n",
      "[CV] C=1.2, max_iter=50, random_state=4 ..............................\n",
      "[CV] ............... C=1.2, max_iter=50, random_state=4, total=   0.0s\n",
      "[CV] C=1.2, max_iter=50, random_state=4 ..............................\n",
      "[CV] ............... C=1.2, max_iter=50, random_state=4, total=   0.0s\n",
      "[CV] C=1.2, max_iter=100, random_state=1 .............................\n",
      "[CV] .............. C=1.2, max_iter=100, random_state=1, total=   0.0s\n",
      "[CV] C=1.2, max_iter=100, random_state=1 .............................\n",
      "[CV] .............. C=1.2, max_iter=100, random_state=1, total=   0.0s\n",
      "[CV] C=1.2, max_iter=100, random_state=1 .............................\n",
      "[CV] .............. C=1.2, max_iter=100, random_state=1, total=   0.0s\n",
      "[CV] C=1.2, max_iter=100, random_state=2 .............................\n",
      "[CV] .............. C=1.2, max_iter=100, random_state=2, total=   0.0s\n",
      "[CV] C=1.2, max_iter=100, random_state=2 .............................\n",
      "[CV] .............. C=1.2, max_iter=100, random_state=2, total=   0.0s\n",
      "[CV] C=1.2, max_iter=100, random_state=2 .............................\n",
      "[CV] .............. C=1.2, max_iter=100, random_state=2, total=   0.0s\n",
      "[CV] C=1.2, max_iter=100, random_state=3 .............................\n",
      "[CV] .............. C=1.2, max_iter=100, random_state=3, total=   0.0s\n",
      "[CV] C=1.2, max_iter=100, random_state=3 .............................\n",
      "[CV] .............. C=1.2, max_iter=100, random_state=3, total=   0.0s\n",
      "[CV] C=1.2, max_iter=100, random_state=3 .............................\n",
      "[CV] .............. C=1.2, max_iter=100, random_state=3, total=   0.0s\n",
      "[CV] C=1.2, max_iter=100, random_state=4 .............................\n",
      "[CV] .............. C=1.2, max_iter=100, random_state=4, total=   0.0s\n",
      "[CV] C=1.2, max_iter=100, random_state=4 .............................\n",
      "[CV] .............. C=1.2, max_iter=100, random_state=4, total=   0.0s\n",
      "[CV] C=1.2, max_iter=100, random_state=4 .............................\n",
      "[CV] .............. C=1.2, max_iter=100, random_state=4, total=   0.0s\n",
      "[CV] C=1.2, max_iter=150, random_state=1 .............................\n",
      "[CV] .............. C=1.2, max_iter=150, random_state=1, total=   0.0s\n",
      "[CV] C=1.2, max_iter=150, random_state=1 .............................\n",
      "[CV] .............. C=1.2, max_iter=150, random_state=1, total=   0.0s\n",
      "[CV] C=1.2, max_iter=150, random_state=1 .............................\n",
      "[CV] .............. C=1.2, max_iter=150, random_state=1, total=   0.0s\n",
      "[CV] C=1.2, max_iter=150, random_state=2 .............................\n",
      "[CV] .............. C=1.2, max_iter=150, random_state=2, total=   0.0s\n",
      "[CV] C=1.2, max_iter=150, random_state=2 .............................\n",
      "[CV] .............. C=1.2, max_iter=150, random_state=2, total=   0.0s\n",
      "[CV] C=1.2, max_iter=150, random_state=2 .............................\n",
      "[CV] .............. C=1.2, max_iter=150, random_state=2, total=   0.0s\n",
      "[CV] C=1.2, max_iter=150, random_state=3 .............................\n",
      "[CV] .............. C=1.2, max_iter=150, random_state=3, total=   0.0s\n",
      "[CV] C=1.2, max_iter=150, random_state=3 .............................\n",
      "[CV] .............. C=1.2, max_iter=150, random_state=3, total=   0.0s\n",
      "[CV] C=1.2, max_iter=150, random_state=3 .............................\n",
      "[CV] .............. C=1.2, max_iter=150, random_state=3, total=   0.0s\n",
      "[CV] C=1.2, max_iter=150, random_state=4 .............................\n",
      "[CV] .............. C=1.2, max_iter=150, random_state=4, total=   0.0s\n",
      "[CV] C=1.2, max_iter=150, random_state=4 .............................\n",
      "[CV] .............. C=1.2, max_iter=150, random_state=4, total=   0.0s\n",
      "[CV] C=1.2, max_iter=150, random_state=4 .............................\n",
      "[CV] .............. C=1.2, max_iter=150, random_state=4, total=   0.0s\n",
      "[CV] C=1.5, max_iter=50, random_state=1 ..............................\n",
      "[CV] ............... C=1.5, max_iter=50, random_state=1, total=   0.0s\n",
      "[CV] C=1.5, max_iter=50, random_state=1 ..............................\n",
      "[CV] ............... C=1.5, max_iter=50, random_state=1, total=   0.0s\n",
      "[CV] C=1.5, max_iter=50, random_state=1 ..............................\n",
      "[CV] ............... C=1.5, max_iter=50, random_state=1, total=   0.0s\n",
      "[CV] C=1.5, max_iter=50, random_state=2 ..............................\n"
     ]
    },
    {
     "name": "stdout",
     "output_type": "stream",
     "text": [
      "[CV] ............... C=1.5, max_iter=50, random_state=2, total=   0.0s\n",
      "[CV] C=1.5, max_iter=50, random_state=2 ..............................\n",
      "[CV] ............... C=1.5, max_iter=50, random_state=2, total=   0.0s\n",
      "[CV] C=1.5, max_iter=50, random_state=2 ..............................\n",
      "[CV] ............... C=1.5, max_iter=50, random_state=2, total=   0.0s\n",
      "[CV] C=1.5, max_iter=50, random_state=3 ..............................\n",
      "[CV] ............... C=1.5, max_iter=50, random_state=3, total=   0.0s\n",
      "[CV] C=1.5, max_iter=50, random_state=3 ..............................\n",
      "[CV] ............... C=1.5, max_iter=50, random_state=3, total=   0.0s\n",
      "[CV] C=1.5, max_iter=50, random_state=3 ..............................\n",
      "[CV] ............... C=1.5, max_iter=50, random_state=3, total=   0.0s\n",
      "[CV] C=1.5, max_iter=50, random_state=4 ..............................\n",
      "[CV] ............... C=1.5, max_iter=50, random_state=4, total=   0.0s\n",
      "[CV] C=1.5, max_iter=50, random_state=4 ..............................\n",
      "[CV] ............... C=1.5, max_iter=50, random_state=4, total=   0.0s\n",
      "[CV] C=1.5, max_iter=50, random_state=4 ..............................\n",
      "[CV] ............... C=1.5, max_iter=50, random_state=4, total=   0.0s\n",
      "[CV] C=1.5, max_iter=100, random_state=1 .............................\n",
      "[CV] .............. C=1.5, max_iter=100, random_state=1, total=   0.0s\n",
      "[CV] C=1.5, max_iter=100, random_state=1 .............................\n",
      "[CV] .............. C=1.5, max_iter=100, random_state=1, total=   0.0s\n",
      "[CV] C=1.5, max_iter=100, random_state=1 .............................\n",
      "[CV] .............. C=1.5, max_iter=100, random_state=1, total=   0.0s\n",
      "[CV] C=1.5, max_iter=100, random_state=2 .............................\n",
      "[CV] .............. C=1.5, max_iter=100, random_state=2, total=   0.0s\n",
      "[CV] C=1.5, max_iter=100, random_state=2 .............................\n",
      "[CV] .............. C=1.5, max_iter=100, random_state=2, total=   0.0s\n",
      "[CV] C=1.5, max_iter=100, random_state=2 .............................\n",
      "[CV] .............. C=1.5, max_iter=100, random_state=2, total=   0.0s\n",
      "[CV] C=1.5, max_iter=100, random_state=3 .............................\n",
      "[CV] .............. C=1.5, max_iter=100, random_state=3, total=   0.0s\n",
      "[CV] C=1.5, max_iter=100, random_state=3 .............................\n",
      "[CV] .............. C=1.5, max_iter=100, random_state=3, total=   0.0s\n",
      "[CV] C=1.5, max_iter=100, random_state=3 .............................\n",
      "[CV] .............. C=1.5, max_iter=100, random_state=3, total=   0.0s\n",
      "[CV] C=1.5, max_iter=100, random_state=4 .............................\n",
      "[CV] .............. C=1.5, max_iter=100, random_state=4, total=   0.0s\n",
      "[CV] C=1.5, max_iter=100, random_state=4 .............................\n",
      "[CV] .............. C=1.5, max_iter=100, random_state=4, total=   0.0s\n",
      "[CV] C=1.5, max_iter=100, random_state=4 .............................\n",
      "[CV] .............. C=1.5, max_iter=100, random_state=4, total=   0.0s\n",
      "[CV] C=1.5, max_iter=150, random_state=1 .............................\n",
      "[CV] .............. C=1.5, max_iter=150, random_state=1, total=   0.0s\n",
      "[CV] C=1.5, max_iter=150, random_state=1 .............................\n",
      "[CV] .............. C=1.5, max_iter=150, random_state=1, total=   0.0s\n",
      "[CV] C=1.5, max_iter=150, random_state=1 .............................\n",
      "[CV] .............. C=1.5, max_iter=150, random_state=1, total=   0.0s\n",
      "[CV] C=1.5, max_iter=150, random_state=2 .............................\n",
      "[CV] .............. C=1.5, max_iter=150, random_state=2, total=   0.0s\n",
      "[CV] C=1.5, max_iter=150, random_state=2 .............................\n",
      "[CV] .............. C=1.5, max_iter=150, random_state=2, total=   0.0s\n",
      "[CV] C=1.5, max_iter=150, random_state=2 .............................\n",
      "[CV] .............. C=1.5, max_iter=150, random_state=2, total=   0.0s\n",
      "[CV] C=1.5, max_iter=150, random_state=3 .............................\n",
      "[CV] .............. C=1.5, max_iter=150, random_state=3, total=   0.0s\n",
      "[CV] C=1.5, max_iter=150, random_state=3 .............................\n",
      "[CV] .............. C=1.5, max_iter=150, random_state=3, total=   0.0s\n",
      "[CV] C=1.5, max_iter=150, random_state=3 .............................\n",
      "[CV] .............. C=1.5, max_iter=150, random_state=3, total=   0.0s\n",
      "[CV] C=1.5, max_iter=150, random_state=4 .............................\n",
      "[CV] .............. C=1.5, max_iter=150, random_state=4, total=   0.0s\n",
      "[CV] C=1.5, max_iter=150, random_state=4 .............................\n",
      "[CV] .............. C=1.5, max_iter=150, random_state=4, total=   0.0s\n",
      "[CV] C=1.5, max_iter=150, random_state=4 .............................\n",
      "[CV] .............. C=1.5, max_iter=150, random_state=4, total=   0.0s\n",
      "best score: 0.791, best params: {'C': 1.0, 'max_iter': 50, 'random_state': 1}\n"
     ]
    },
    {
     "name": "stderr",
     "output_type": "stream",
     "text": [
      "[Parallel(n_jobs=1)]: Done 144 out of 144 | elapsed:    0.6s finished\n"
     ]
    }
   ],
   "source": [
    "#tunning hyperparameters: C(lambda) , max_iter , random_state\n",
    "\n",
    "reg=LogisticRegression()\n",
    "\n",
    "params={\n",
    "    'C':[0.5,1.0,1.2,1.5],\n",
    "    'max_iter':[50,100,150],\n",
    "    'random_state':[1,2,3,4]\n",
    "}\n",
    "grid=GridSearchCV(\n",
    "    reg,\n",
    "    params,\n",
    "    cv=3,\n",
    "    verbose=2,\n",
    "    scoring='accuracy',\n",
    "    refit=True\n",
    ")\n",
    "grid.fit(X_norm,y)\n",
    "print(\"best score: {:.3f}, best params: {}\".format(grid.best_score_, grid.best_params_))"
   ]
  },
  {
   "cell_type": "code",
   "execution_count": 129,
   "metadata": {},
   "outputs": [
    {
     "data": {
      "text/plain": [
       "<sklearn.metrics._plot.confusion_matrix.ConfusionMatrixDisplay at 0x2284a2a1400>"
      ]
     },
     "execution_count": 129,
     "metadata": {},
     "output_type": "execute_result"
    },
    {
     "data": {
      "image/png": "[encoded data removed]",
      "text/plain": [
       "<Figure size 432x288 with 2 Axes>"
      ]
     },
     "metadata": {
      "needs_background": "light"
     },
     "output_type": "display_data"
    }
   ],
   "source": [
    "from sklearn.metrics import plot_confusion_matrix\n",
    "\n",
    "plot_confusion_matrix(grid.best_estimator_,X_test,y_test,labels=[0,1])"
   ]
  },
  {
   "cell_type": "markdown",
   "metadata": {},
   "source": [
    "# $neural\\ network\\ with\\ tunning\\ hyperparameters$"
   ]
  },
  {
   "cell_type": "code",
   "execution_count": 45,
   "metadata": {},
   "outputs": [],
   "source": [
    "#skorch method\n",
    "from skorch import NeuralNetBinaryClassifier\n",
    "\n",
    "#pytorch\n",
    "import torch\n",
    "import torch.nn as nn\n",
    "import torch.optim as optim\n",
    "import torch.nn.functional as F"
   ]
  },
  {
   "cell_type": "code",
   "execution_count": 46,
   "metadata": {},
   "outputs": [
    {
     "data": {
      "text/plain": [
       "7"
      ]
     },
     "execution_count": 46,
     "metadata": {},
     "output_type": "execute_result"
    }
   ],
   "source": [
    "#features\n",
    "X.shape[1]"
   ]
  },
  {
   "cell_type": "code",
   "execution_count": 47,
   "metadata": {},
   "outputs": [],
   "source": [
    "#reprocess\n",
    "\n",
    "X = X.astype(np.float32)\n",
    "y = y.astype(np.float32).squeeze()\n",
    "\n",
    "#normalzie\n",
    "normalize=StandardScaler()\n",
    "normalize.fit(X)\n",
    "X_norm=normalize.transform(X)"
   ]
  },
  {
   "cell_type": "code",
   "execution_count": 48,
   "metadata": {},
   "outputs": [
    {
     "data": {
      "text/plain": [
       "((891, 7), (891,))"
      ]
     },
     "execution_count": 48,
     "metadata": {},
     "output_type": "execute_result"
    }
   ],
   "source": [
    "X_norm.shape,y.shape"
   ]
  },
  {
   "cell_type": "code",
   "execution_count": 52,
   "metadata": {},
   "outputs": [],
   "source": [
    "#model\n",
    "class logistic_network(nn.Module):\n",
    "    def __init__(self,prob,num_units=16):\n",
    "        super(logistic_network,self).__init__()\n",
    "        self.prob=prob\n",
    "        self.input=nn.Linear(7,num_units)\n",
    "        self.h=nn.Linear(num_units,num_units)\n",
    "        self.output=nn.Linear(num_units,1)\n",
    "        self.initialize()\n",
    "        \n",
    "        \n",
    "    #initialize\n",
    "    def initialize(self):\n",
    "        for name,params in logistic_network.named_parameters(self):\n",
    "            #relu layer initialize\n",
    "            if 'output.weight' not in name and 'weight' in name:\n",
    "                n=params.shape[1]\n",
    "                torch.nn.init.normal_(params, mean=0, std=torch.sqrt(torch.tensor(2/n)))\n",
    "        \n",
    "    def forward(self,X):\n",
    "        a1=F.relu(self.input(X))\n",
    "        a2=F.dropout(F.relu(self.h(a1)),p=self.prob, training=self.training)\n",
    "        a3=self.output(a2)\n",
    "        return a3"
   ]
  },
  {
   "cell_type": "code",
   "execution_count": 53,
   "metadata": {},
   "outputs": [],
   "source": [
    "#setting model\n",
    "\n",
    "#theshold default:0.5\n",
    "model = NeuralNetBinaryClassifier(\n",
    "    logistic_network,\n",
    "    max_epochs=100,\n",
    "    lr=0.001,\n",
    "    optimizer=optim.Adam, #optimizer\n",
    "    # Shuffle training data on each epoch\n",
    "    iterator_train__shuffle=True,\n",
    "    criterion=nn.BCEWithLogitsLoss,\n",
    "    device=torch.device('cuda'),\n",
    ")"
   ]
  },
  {
   "cell_type": "code",
   "execution_count": 76,
   "metadata": {},
   "outputs": [
    {
     "name": "stdout",
     "output_type": "stream",
     "text": [
      "Fitting 3 folds for each of 10 candidates, totalling 30 fits\n",
      "[CV] optimizer=<class 'torch.optim.rmsprop.RMSprop'>, module__prob=0.3, module__num_units=16, max_epochs=30, lr=0.38142619994757615 \n"
     ]
    },
    {
     "name": "stderr",
     "output_type": "stream",
     "text": [
      "[Parallel(n_jobs=1)]: Using backend SequentialBackend with 1 concurrent workers.\n"
     ]
    },
    {
     "name": "stdout",
     "output_type": "stream",
     "text": [
      "[CV]  optimizer=<class 'torch.optim.rmsprop.RMSprop'>, module__prob=0.3, module__num_units=16, max_epochs=30, lr=0.38142619994757615, total=   0.5s\n",
      "[CV] optimizer=<class 'torch.optim.rmsprop.RMSprop'>, module__prob=0.3, module__num_units=16, max_epochs=30, lr=0.38142619994757615 \n"
     ]
    },
    {
     "name": "stderr",
     "output_type": "stream",
     "text": [
      "[Parallel(n_jobs=1)]: Done   1 out of   1 | elapsed:    0.4s remaining:    0.0s\n"
     ]
    },
    {
     "name": "stdout",
     "output_type": "stream",
     "text": [
      "[CV]  optimizer=<class 'torch.optim.rmsprop.RMSprop'>, module__prob=0.3, module__num_units=16, max_epochs=30, lr=0.38142619994757615, total=   0.5s\n",
      "[CV] optimizer=<class 'torch.optim.rmsprop.RMSprop'>, module__prob=0.3, module__num_units=16, max_epochs=30, lr=0.38142619994757615 \n",
      "[CV]  optimizer=<class 'torch.optim.rmsprop.RMSprop'>, module__prob=0.3, module__num_units=16, max_epochs=30, lr=0.38142619994757615, total=   0.5s\n",
      "[CV] optimizer=<class 'torch.optim.sgd.SGD'>, module__prob=0.5, module__num_units=32, max_epochs=100, lr=0.016836400389035285 \n",
      "[CV]  optimizer=<class 'torch.optim.sgd.SGD'>, module__prob=0.5, module__num_units=32, max_epochs=100, lr=0.016836400389035285, total=   1.4s\n",
      "[CV] optimizer=<class 'torch.optim.sgd.SGD'>, module__prob=0.5, module__num_units=32, max_epochs=100, lr=0.016836400389035285 \n",
      "[CV]  optimizer=<class 'torch.optim.sgd.SGD'>, module__prob=0.5, module__num_units=32, max_epochs=100, lr=0.016836400389035285, total=   1.4s\n",
      "[CV] optimizer=<class 'torch.optim.sgd.SGD'>, module__prob=0.5, module__num_units=32, max_epochs=100, lr=0.016836400389035285 \n",
      "[CV]  optimizer=<class 'torch.optim.sgd.SGD'>, module__prob=0.5, module__num_units=32, max_epochs=100, lr=0.016836400389035285, total=   1.4s\n",
      "[CV] optimizer=<class 'torch.optim.adam.Adam'>, module__prob=0.5, module__num_units=16, max_epochs=100, lr=0.0006047988533384037 \n",
      "[CV]  optimizer=<class 'torch.optim.adam.Adam'>, module__prob=0.5, module__num_units=16, max_epochs=100, lr=0.0006047988533384037, total=   1.7s\n",
      "[CV] optimizer=<class 'torch.optim.adam.Adam'>, module__prob=0.5, module__num_units=16, max_epochs=100, lr=0.0006047988533384037 \n",
      "[CV]  optimizer=<class 'torch.optim.adam.Adam'>, module__prob=0.5, module__num_units=16, max_epochs=100, lr=0.0006047988533384037, total=   1.7s\n",
      "[CV] optimizer=<class 'torch.optim.adam.Adam'>, module__prob=0.5, module__num_units=16, max_epochs=100, lr=0.0006047988533384037 \n",
      "[CV]  optimizer=<class 'torch.optim.adam.Adam'>, module__prob=0.5, module__num_units=16, max_epochs=100, lr=0.0006047988533384037, total=   1.7s\n",
      "[CV] optimizer=<class 'torch.optim.sgd.SGD'>, module__prob=0.2, module__num_units=8, max_epochs=30, lr=0.7851317152737565 \n",
      "[CV]  optimizer=<class 'torch.optim.sgd.SGD'>, module__prob=0.2, module__num_units=8, max_epochs=30, lr=0.7851317152737565, total=   0.4s\n",
      "[CV] optimizer=<class 'torch.optim.sgd.SGD'>, module__prob=0.2, module__num_units=8, max_epochs=30, lr=0.7851317152737565 \n",
      "[CV]  optimizer=<class 'torch.optim.sgd.SGD'>, module__prob=0.2, module__num_units=8, max_epochs=30, lr=0.7851317152737565, total=   0.4s\n",
      "[CV] optimizer=<class 'torch.optim.sgd.SGD'>, module__prob=0.2, module__num_units=8, max_epochs=30, lr=0.7851317152737565 \n",
      "[CV]  optimizer=<class 'torch.optim.sgd.SGD'>, module__prob=0.2, module__num_units=8, max_epochs=30, lr=0.7851317152737565, total=   0.4s\n",
      "[CV] optimizer=<class 'torch.optim.rmsprop.RMSprop'>, module__prob=0.5, module__num_units=32, max_epochs=50, lr=0.001093217487066051 \n",
      "[CV]  optimizer=<class 'torch.optim.rmsprop.RMSprop'>, module__prob=0.5, module__num_units=32, max_epochs=50, lr=0.001093217487066051, total=   0.8s\n",
      "[CV] optimizer=<class 'torch.optim.rmsprop.RMSprop'>, module__prob=0.5, module__num_units=32, max_epochs=50, lr=0.001093217487066051 \n",
      "[CV]  optimizer=<class 'torch.optim.rmsprop.RMSprop'>, module__prob=0.5, module__num_units=32, max_epochs=50, lr=0.001093217487066051, total=   0.8s\n",
      "[CV] optimizer=<class 'torch.optim.rmsprop.RMSprop'>, module__prob=0.5, module__num_units=32, max_epochs=50, lr=0.001093217487066051 \n",
      "[CV]  optimizer=<class 'torch.optim.rmsprop.RMSprop'>, module__prob=0.5, module__num_units=32, max_epochs=50, lr=0.001093217487066051, total=   0.8s\n",
      "[CV] optimizer=<class 'torch.optim.sgd.SGD'>, module__prob=0.2, module__num_units=16, max_epochs=100, lr=0.0006047988533384037 \n",
      "[CV]  optimizer=<class 'torch.optim.sgd.SGD'>, module__prob=0.2, module__num_units=16, max_epochs=100, lr=0.0006047988533384037, total=   1.4s\n",
      "[CV] optimizer=<class 'torch.optim.sgd.SGD'>, module__prob=0.2, module__num_units=16, max_epochs=100, lr=0.0006047988533384037 \n",
      "[CV]  optimizer=<class 'torch.optim.sgd.SGD'>, module__prob=0.2, module__num_units=16, max_epochs=100, lr=0.0006047988533384037, total=   1.4s\n",
      "[CV] optimizer=<class 'torch.optim.sgd.SGD'>, module__prob=0.2, module__num_units=16, max_epochs=100, lr=0.0006047988533384037 \n",
      "[CV]  optimizer=<class 'torch.optim.sgd.SGD'>, module__prob=0.2, module__num_units=16, max_epochs=100, lr=0.0006047988533384037, total=   1.4s\n",
      "[CV] optimizer=<class 'torch.optim.adam.Adam'>, module__prob=0.2, module__num_units=8, max_epochs=100, lr=0.009878646709647346 \n",
      "[CV]  optimizer=<class 'torch.optim.adam.Adam'>, module__prob=0.2, module__num_units=8, max_epochs=100, lr=0.009878646709647346, total=   1.7s\n",
      "[CV] optimizer=<class 'torch.optim.adam.Adam'>, module__prob=0.2, module__num_units=8, max_epochs=100, lr=0.009878646709647346 \n",
      "[CV]  optimizer=<class 'torch.optim.adam.Adam'>, module__prob=0.2, module__num_units=8, max_epochs=100, lr=0.009878646709647346, total=   1.7s\n",
      "[CV] optimizer=<class 'torch.optim.adam.Adam'>, module__prob=0.2, module__num_units=8, max_epochs=100, lr=0.009878646709647346 \n",
      "[CV]  optimizer=<class 'torch.optim.adam.Adam'>, module__prob=0.2, module__num_units=8, max_epochs=100, lr=0.009878646709647346, total=   1.7s\n",
      "[CV] optimizer=<class 'torch.optim.rmsprop.RMSprop'>, module__prob=0.5, module__num_units=16, max_epochs=30, lr=0.009388688792360402 \n",
      "[CV]  optimizer=<class 'torch.optim.rmsprop.RMSprop'>, module__prob=0.5, module__num_units=16, max_epochs=30, lr=0.009388688792360402, total=   0.5s\n",
      "[CV] optimizer=<class 'torch.optim.rmsprop.RMSprop'>, module__prob=0.5, module__num_units=16, max_epochs=30, lr=0.009388688792360402 \n",
      "[CV]  optimizer=<class 'torch.optim.rmsprop.RMSprop'>, module__prob=0.5, module__num_units=16, max_epochs=30, lr=0.009388688792360402, total=   0.5s\n",
      "[CV] optimizer=<class 'torch.optim.rmsprop.RMSprop'>, module__prob=0.5, module__num_units=16, max_epochs=30, lr=0.009388688792360402 \n",
      "[CV]  optimizer=<class 'torch.optim.rmsprop.RMSprop'>, module__prob=0.5, module__num_units=16, max_epochs=30, lr=0.009388688792360402, total=   0.5s\n",
      "[CV] optimizer=<class 'torch.optim.sgd.SGD'>, module__prob=0.2, module__num_units=8, max_epochs=30, lr=0.0004393731277933833 \n",
      "[CV]  optimizer=<class 'torch.optim.sgd.SGD'>, module__prob=0.2, module__num_units=8, max_epochs=30, lr=0.0004393731277933833, total=   0.4s\n",
      "[CV] optimizer=<class 'torch.optim.sgd.SGD'>, module__prob=0.2, module__num_units=8, max_epochs=30, lr=0.0004393731277933833 \n",
      "[CV]  optimizer=<class 'torch.optim.sgd.SGD'>, module__prob=0.2, module__num_units=8, max_epochs=30, lr=0.0004393731277933833, total=   0.5s\n",
      "[CV] optimizer=<class 'torch.optim.sgd.SGD'>, module__prob=0.2, module__num_units=8, max_epochs=30, lr=0.0004393731277933833 \n",
      "[CV]  optimizer=<class 'torch.optim.sgd.SGD'>, module__prob=0.2, module__num_units=8, max_epochs=30, lr=0.0004393731277933833, total=   0.4s\n",
      "[CV] optimizer=<class 'torch.optim.sgd.SGD'>, module__prob=0.2, module__num_units=16, max_epochs=100, lr=0.11262923342396884 \n",
      "[CV]  optimizer=<class 'torch.optim.sgd.SGD'>, module__prob=0.2, module__num_units=16, max_epochs=100, lr=0.11262923342396884, total=   1.5s\n",
      "[CV] optimizer=<class 'torch.optim.sgd.SGD'>, module__prob=0.2, module__num_units=16, max_epochs=100, lr=0.11262923342396884 \n",
      "[CV]  optimizer=<class 'torch.optim.sgd.SGD'>, module__prob=0.2, module__num_units=16, max_epochs=100, lr=0.11262923342396884, total=   1.5s\n",
      "[CV] optimizer=<class 'torch.optim.sgd.SGD'>, module__prob=0.2, module__num_units=16, max_epochs=100, lr=0.11262923342396884 \n",
      "[CV]  optimizer=<class 'torch.optim.sgd.SGD'>, module__prob=0.2, module__num_units=16, max_epochs=100, lr=0.11262923342396884, total=   1.5s\n"
     ]
    },
    {
     "name": "stderr",
     "output_type": "stream",
     "text": [
      "[Parallel(n_jobs=1)]: Done  30 out of  30 | elapsed:   31.0s finished\n"
     ]
    },
    {
     "name": "stdout",
     "output_type": "stream",
     "text": [
      "best score: 0.828, best params: {'optimizer': <class 'torch.optim.adam.Adam'>, 'module__prob': 0.2, 'module__num_units': 8, 'max_epochs': 100, 'lr': 0.009878646709647346}\n"
     ]
    }
   ],
   "source": [
    "#tunning hyperparameters: lr , num_unis , dropout prob , optimizer , max_epochs\n",
    "\n",
    "from sklearn.model_selection import RandomizedSearchCV\n",
    "\n",
    "\n",
    "# deactivate skorch-internal train-valid split and verbose logging\n",
    "model.set_params(train_split=False, verbose=0)\n",
    "\n",
    "\n",
    "params = {\n",
    "    'lr': [10**(-4*np.random.rand()) for i in range(30)], # seach between 0.999~10^-4\n",
    "    'max_epochs': [30,50,100],\n",
    "    'module__num_units': [8,16,32],\n",
    "    'module__prob':[0.2,0.3,0.5],\n",
    "    'optimizer':[optim.Adam,optim.SGD,optim.RMSprop]\n",
    "}\n",
    "\n",
    "#cvint, cross-validation generator or an iterable\n",
    "#cv=kfold(3),default 5\n",
    "gs =RandomizedSearchCV(model, params, refit=True, cv=3, scoring='accuracy', verbose=2)\n",
    "\n",
    "gs.fit(X_norm, y)\n",
    "print(\"best score: {:.3f}, best params: {}\".format(gs.best_score_, gs.best_params_))"
   ]
  },
  {
   "cell_type": "code",
   "execution_count": 77,
   "metadata": {},
   "outputs": [
    {
     "data": {
      "text/plain": [
       "0.8282828282828283"
      ]
     },
     "execution_count": 77,
     "metadata": {},
     "output_type": "execute_result"
    }
   ],
   "source": [
    "#return best model\n",
    "gs.best_score_"
   ]
  },
  {
   "cell_type": "code",
   "execution_count": 78,
   "metadata": {},
   "outputs": [],
   "source": [
    "final_model=gs.best_estimator_"
   ]
  },
  {
   "cell_type": "code",
   "execution_count": 159,
   "metadata": {},
   "outputs": [
    {
     "name": "stdout",
     "output_type": "stream",
     "text": [
      "logistic regression-- 0.7932960893854749\n",
      "logistic network-- 0.8324022346368715\n"
     ]
    }
   ],
   "source": [
    "#compare logistic regression and network\n",
    "print('logistic regression--',grid.best_estimator_.score(X_test,y_test))\n",
    "print('logistic network--',final_model.score(X_test.astype(np.float32),y_test))"
   ]
  },
  {
   "cell_type": "code",
   "execution_count": 161,
   "metadata": {},
   "outputs": [
    {
     "data": {
      "text/plain": [
       "<sklearn.metrics._plot.confusion_matrix.ConfusionMatrixDisplay at 0x22898bc1fd0>"
      ]
     },
     "execution_count": 161,
     "metadata": {},
     "output_type": "execute_result"
    },
    {
     "data": {
      "image/png": "[encoded data removed]",
      "text/plain": [
       "<Figure size 432x288 with 2 Axes>"
      ]
     },
     "metadata": {
      "needs_background": "light"
     },
     "output_type": "display_data"
    }
   ],
   "source": [
    "from sklearn.metrics import plot_confusion_matrix\n",
    "plot_confusion_matrix(final_model,X_test.astype(np.float32),y_test,labels=[0,1])"
   ]
  },
  {
   "cell_type": "markdown",
   "metadata": {},
   "source": [
    "# submit"
   ]
  },
  {
   "cell_type": "code",
   "execution_count": 89,
   "metadata": {},
   "outputs": [],
   "source": [
    "df_test=pd.read_csv('./data/test.csv')\n",
    "df_test.drop(['PassengerId','Name','Ticket','Cabin'],axis=1,inplace=True)\n",
    "df_test.Age.fillna(df_train.Age.mean(),inplace=True)\n",
    "df_test.Embarked.fillna('S',inplace=True)\n",
    "df_test.Fare.fillna(df_train.Fare.mean(),inplace=True)"
   ]
  },
  {
   "cell_type": "code",
   "execution_count": 90,
   "metadata": {},
   "outputs": [],
   "source": [
    "replace = LabelEncoder()\n",
    "\n",
    "#sex\n",
    "replace.fit(df_test.Sex)\n",
    "Sex_label = replace.transform(df_test.Sex)\n",
    "df_test['Sex_label'] = Sex_label\n",
    "df_test.drop(['Sex'],axis=1,inplace=True)\n",
    "\n",
    "#embarked\n",
    "replace.fit(df_test.Embarked)\n",
    "\n",
    "Embarked_label = replace.transform(df_test.Embarked)\n",
    "\n",
    "df_test['Embarked_label'] = Embarked_label\n",
    "df_test.drop(['Embarked'],axis=1,inplace=True)"
   ]
  },
  {
   "cell_type": "code",
   "execution_count": 91,
   "metadata": {},
   "outputs": [
    {
     "name": "stdout",
     "output_type": "stream",
     "text": [
      "<class 'pandas.core.frame.DataFrame'>\n",
      "RangeIndex: 418 entries, 0 to 417\n",
      "Data columns (total 7 columns):\n",
      " #   Column          Non-Null Count  Dtype  \n",
      "---  ------          --------------  -----  \n",
      " 0   Pclass          418 non-null    int64  \n",
      " 1   Age             418 non-null    float64\n",
      " 2   SibSp           418 non-null    int64  \n",
      " 3   Parch           418 non-null    int64  \n",
      " 4   Fare            418 non-null    float64\n",
      " 5   Sex_label       418 non-null    int32  \n",
      " 6   Embarked_label  418 non-null    int32  \n",
      "dtypes: float64(2), int32(2), int64(3)\n",
      "memory usage: 19.7 KB\n"
     ]
    }
   ],
   "source": [
    "df_test.info()"
   ]
  },
  {
   "cell_type": "code",
   "execution_count": 92,
   "metadata": {},
   "outputs": [
    {
     "data": {
      "text/plain": [
       "(418, 7)"
      ]
     },
     "execution_count": 92,
     "metadata": {},
     "output_type": "execute_result"
    }
   ],
   "source": [
    "np.array(df_test).shape"
   ]
  },
  {
   "cell_type": "code",
   "execution_count": 93,
   "metadata": {},
   "outputs": [],
   "source": [
    "#normalize\n",
    "normal= StandardScaler()\n",
    "\n",
    "X_test=np.array(df_test)\n",
    "\n",
    "normal.fit(X_test)\n",
    "X_test_norm=normal.transform(X_test)\n",
    "X_test_norm=X_test_norm.astype(np.float32)"
   ]
  },
  {
   "cell_type": "code",
   "execution_count": 94,
   "metadata": {},
   "outputs": [],
   "source": [
    "\n",
    "Survived=final_model.predict(X_test_norm).squeeze().astype('int32')"
   ]
  },
  {
   "cell_type": "code",
   "execution_count": 95,
   "metadata": {},
   "outputs": [],
   "source": [
    "#submit\n",
    "PassengerId = np.arange(892,1310)\n",
    "\n",
    "submit = pd.DataFrame(list(zip(PassengerId,Survived)),columns=['PassengerId','Survived'])"
   ]
  },
  {
   "cell_type": "code",
   "execution_count": 96,
   "metadata": {},
   "outputs": [
    {
     "data": {
      "text/html": [
       "<div>\n",
       "<style scoped>\n",
       "    .dataframe tbody tr th:only-of-type {\n",
       "        vertical-align: middle;\n",
       "    }\n",
       "\n",
       "    .dataframe tbody tr th {\n",
       "        vertical-align: top;\n",
       "    }\n",
       "\n",
       "    .dataframe thead th {\n",
       "        text-align: right;\n",
       "    }\n",
       "</style>\n",
       "<table border=\"1\" class=\"dataframe\">\n",
       "  <thead>\n",
       "    <tr style=\"text-align: right;\">\n",
       "      <th></th>\n",
       "      <th>PassengerId</th>\n",
       "      <th>Survived</th>\n",
       "    </tr>\n",
       "  </thead>\n",
       "  <tbody>\n",
       "    <tr>\n",
       "      <th>0</th>\n",
       "      <td>892</td>\n",
       "      <td>0</td>\n",
       "    </tr>\n",
       "    <tr>\n",
       "      <th>1</th>\n",
       "      <td>893</td>\n",
       "      <td>0</td>\n",
       "    </tr>\n",
       "    <tr>\n",
       "      <th>2</th>\n",
       "      <td>894</td>\n",
       "      <td>0</td>\n",
       "    </tr>\n",
       "    <tr>\n",
       "      <th>3</th>\n",
       "      <td>895</td>\n",
       "      <td>0</td>\n",
       "    </tr>\n",
       "    <tr>\n",
       "      <th>4</th>\n",
       "      <td>896</td>\n",
       "      <td>0</td>\n",
       "    </tr>\n",
       "    <tr>\n",
       "      <th>...</th>\n",
       "      <td>...</td>\n",
       "      <td>...</td>\n",
       "    </tr>\n",
       "    <tr>\n",
       "      <th>413</th>\n",
       "      <td>1305</td>\n",
       "      <td>0</td>\n",
       "    </tr>\n",
       "    <tr>\n",
       "      <th>414</th>\n",
       "      <td>1306</td>\n",
       "      <td>1</td>\n",
       "    </tr>\n",
       "    <tr>\n",
       "      <th>415</th>\n",
       "      <td>1307</td>\n",
       "      <td>0</td>\n",
       "    </tr>\n",
       "    <tr>\n",
       "      <th>416</th>\n",
       "      <td>1308</td>\n",
       "      <td>0</td>\n",
       "    </tr>\n",
       "    <tr>\n",
       "      <th>417</th>\n",
       "      <td>1309</td>\n",
       "      <td>0</td>\n",
       "    </tr>\n",
       "  </tbody>\n",
       "</table>\n",
       "<p>418 rows × 2 columns</p>\n",
       "</div>"
      ],
      "text/plain": [
       "     PassengerId  Survived\n",
       "0            892         0\n",
       "1            893         0\n",
       "2            894         0\n",
       "3            895         0\n",
       "4            896         0\n",
       "..           ...       ...\n",
       "413         1305         0\n",
       "414         1306         1\n",
       "415         1307         0\n",
       "416         1308         0\n",
       "417         1309         0\n",
       "\n",
       "[418 rows x 2 columns]"
      ]
     },
     "execution_count": 96,
     "metadata": {},
     "output_type": "execute_result"
    }
   ],
   "source": [
    "submit"
   ]
  },
  {
   "cell_type": "code",
   "execution_count": 97,
   "metadata": {},
   "outputs": [],
   "source": [
    "submit.to_csv(\"final_ans.csv\",index=False)"
   ]
  }
 ],
 "metadata": {
  "kernelspec": {
   "display_name": "Python 3",
   "language": "python",
   "name": "python3"
  },
  "language_info": {
   "codemirror_mode": {
    "name": "ipython",
    "version": 3
   },
   "file_extension": ".py",
   "mimetype": "text/x-python",
   "name": "python",
   "nbconvert_exporter": "python",
   "pygments_lexer": "ipython3",
   "version": "3.6.10"
  }
 },
 "nbformat": 4,
 "nbformat_minor": 4
}
