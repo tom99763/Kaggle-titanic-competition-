{
 "cells": [
  {
   "cell_type": "code",
   "execution_count": 349,
   "metadata": {},
   "outputs": [],
   "source": [
    "import pandas as pd\n",
    "import numpy as np\n",
    "import seaborn as sns\n",
    "import matplotlib.pyplot as plt"
   ]
  },
  {
   "cell_type": "markdown",
   "metadata": {},
   "source": [
    "# prepare data"
   ]
  },
  {
   "cell_type": "code",
   "execution_count": 655,
   "metadata": {},
   "outputs": [],
   "source": [
    "df_train=pd.read_csv('./data/train.csv')"
   ]
  },
  {
   "cell_type": "code",
   "execution_count": 656,
   "metadata": {},
   "outputs": [
    {
     "name": "stdout",
     "output_type": "stream",
     "text": [
      "<class 'pandas.core.frame.DataFrame'>\n",
      "RangeIndex: 891 entries, 0 to 890\n",
      "Data columns (total 12 columns):\n",
      " #   Column       Non-Null Count  Dtype  \n",
      "---  ------       --------------  -----  \n",
      " 0   PassengerId  891 non-null    int64  \n",
      " 1   Survived     891 non-null    int64  \n",
      " 2   Pclass       891 non-null    int64  \n",
      " 3   Name         891 non-null    object \n",
      " 4   Sex          891 non-null    object \n",
      " 5   Age          714 non-null    float64\n",
      " 6   SibSp        891 non-null    int64  \n",
      " 7   Parch        891 non-null    int64  \n",
      " 8   Ticket       891 non-null    object \n",
      " 9   Fare         891 non-null    float64\n",
      " 10  Cabin        204 non-null    object \n",
      " 11  Embarked     889 non-null    object \n",
      "dtypes: float64(2), int64(5), object(5)\n",
      "memory usage: 83.7+ KB\n"
     ]
    }
   ],
   "source": [
    "#check null   Age,Cabin,Embarked\n",
    "df_train.info()"
   ]
  },
  {
   "cell_type": "code",
   "execution_count": 657,
   "metadata": {},
   "outputs": [],
   "source": [
    "#df_train=df_train.drop(['Cabin','Name','Ticket','PassengerId'],axis=1,inplace=False)"
   ]
  },
  {
   "cell_type": "code",
   "execution_count": 658,
   "metadata": {},
   "outputs": [
    {
     "data": {
      "text/html": [
       "<div>\n",
       "<style scoped>\n",
       "    .dataframe tbody tr th:only-of-type {\n",
       "        vertical-align: middle;\n",
       "    }\n",
       "\n",
       "    .dataframe tbody tr th {\n",
       "        vertical-align: top;\n",
       "    }\n",
       "\n",
       "    .dataframe thead th {\n",
       "        text-align: right;\n",
       "    }\n",
       "</style>\n",
       "<table border=\"1\" class=\"dataframe\">\n",
       "  <thead>\n",
       "    <tr style=\"text-align: right;\">\n",
       "      <th></th>\n",
       "      <th>PassengerId</th>\n",
       "      <th>Survived</th>\n",
       "      <th>Pclass</th>\n",
       "      <th>Name</th>\n",
       "      <th>Sex</th>\n",
       "      <th>Age</th>\n",
       "      <th>SibSp</th>\n",
       "      <th>Parch</th>\n",
       "      <th>Ticket</th>\n",
       "      <th>Fare</th>\n",
       "      <th>Cabin</th>\n",
       "      <th>Embarked</th>\n",
       "    </tr>\n",
       "  </thead>\n",
       "  <tbody>\n",
       "    <tr>\n",
       "      <th>0</th>\n",
       "      <td>1</td>\n",
       "      <td>0</td>\n",
       "      <td>3</td>\n",
       "      <td>Braund, Mr. Owen Harris</td>\n",
       "      <td>male</td>\n",
       "      <td>22.0</td>\n",
       "      <td>1</td>\n",
       "      <td>0</td>\n",
       "      <td>A/5 21171</td>\n",
       "      <td>7.2500</td>\n",
       "      <td>NaN</td>\n",
       "      <td>S</td>\n",
       "    </tr>\n",
       "    <tr>\n",
       "      <th>1</th>\n",
       "      <td>2</td>\n",
       "      <td>1</td>\n",
       "      <td>1</td>\n",
       "      <td>Cumings, Mrs. John Bradley (Florence Briggs Th...</td>\n",
       "      <td>female</td>\n",
       "      <td>38.0</td>\n",
       "      <td>1</td>\n",
       "      <td>0</td>\n",
       "      <td>PC 17599</td>\n",
       "      <td>71.2833</td>\n",
       "      <td>C85</td>\n",
       "      <td>C</td>\n",
       "    </tr>\n",
       "    <tr>\n",
       "      <th>2</th>\n",
       "      <td>3</td>\n",
       "      <td>1</td>\n",
       "      <td>3</td>\n",
       "      <td>Heikkinen, Miss. Laina</td>\n",
       "      <td>female</td>\n",
       "      <td>26.0</td>\n",
       "      <td>0</td>\n",
       "      <td>0</td>\n",
       "      <td>STON/O2. 3101282</td>\n",
       "      <td>7.9250</td>\n",
       "      <td>NaN</td>\n",
       "      <td>S</td>\n",
       "    </tr>\n",
       "    <tr>\n",
       "      <th>3</th>\n",
       "      <td>4</td>\n",
       "      <td>1</td>\n",
       "      <td>1</td>\n",
       "      <td>Futrelle, Mrs. Jacques Heath (Lily May Peel)</td>\n",
       "      <td>female</td>\n",
       "      <td>35.0</td>\n",
       "      <td>1</td>\n",
       "      <td>0</td>\n",
       "      <td>113803</td>\n",
       "      <td>53.1000</td>\n",
       "      <td>C123</td>\n",
       "      <td>S</td>\n",
       "    </tr>\n",
       "    <tr>\n",
       "      <th>4</th>\n",
       "      <td>5</td>\n",
       "      <td>0</td>\n",
       "      <td>3</td>\n",
       "      <td>Allen, Mr. William Henry</td>\n",
       "      <td>male</td>\n",
       "      <td>35.0</td>\n",
       "      <td>0</td>\n",
       "      <td>0</td>\n",
       "      <td>373450</td>\n",
       "      <td>8.0500</td>\n",
       "      <td>NaN</td>\n",
       "      <td>S</td>\n",
       "    </tr>\n",
       "  </tbody>\n",
       "</table>\n",
       "</div>"
      ],
      "text/plain": [
       "   PassengerId  Survived  Pclass  \\\n",
       "0            1         0       3   \n",
       "1            2         1       1   \n",
       "2            3         1       3   \n",
       "3            4         1       1   \n",
       "4            5         0       3   \n",
       "\n",
       "                                                Name     Sex   Age  SibSp  \\\n",
       "0                            Braund, Mr. Owen Harris    male  22.0      1   \n",
       "1  Cumings, Mrs. John Bradley (Florence Briggs Th...  female  38.0      1   \n",
       "2                             Heikkinen, Miss. Laina  female  26.0      0   \n",
       "3       Futrelle, Mrs. Jacques Heath (Lily May Peel)  female  35.0      1   \n",
       "4                           Allen, Mr. William Henry    male  35.0      0   \n",
       "\n",
       "   Parch            Ticket     Fare Cabin Embarked  \n",
       "0      0         A/5 21171   7.2500   NaN        S  \n",
       "1      0          PC 17599  71.2833   C85        C  \n",
       "2      0  STON/O2. 3101282   7.9250   NaN        S  \n",
       "3      0            113803  53.1000  C123        S  \n",
       "4      0            373450   8.0500   NaN        S  "
      ]
     },
     "execution_count": 658,
     "metadata": {},
     "output_type": "execute_result"
    }
   ],
   "source": [
    "df_train.head()"
   ]
  },
  {
   "cell_type": "markdown",
   "metadata": {},
   "source": [
    "# EDA"
   ]
  },
  {
   "cell_type": "code",
   "execution_count": 659,
   "metadata": {},
   "outputs": [
    {
     "data": {
      "image/png": "[encoded data removed]",
      "text/plain": [
       "<Figure size 720x720 with 2 Axes>"
      ]
     },
     "metadata": {},
     "output_type": "display_data"
    }
   ],
   "source": [
    "#correlation\n",
    "\n",
    "plt.figure(figsize=(10,10))\n",
    "sns.heatmap(df_train.corr(),cmap = 'GnBu',annot=True)\n",
    "plt.show()"
   ]
  },
  {
   "cell_type": "code",
   "execution_count": 660,
   "metadata": {},
   "outputs": [
    {
     "name": "stderr",
     "output_type": "stream",
     "text": [
      "c:\\users\\user\\miniconda3\\envs\\bd\\lib\\site-packages\\seaborn\\_decorators.py:43: FutureWarning: Pass the following variable as a keyword arg: x. From version 0.12, the only valid positional argument will be `data`, and passing other arguments without an explicit keyword will result in an error or misinterpretation.\n",
      "  FutureWarning\n",
      "c:\\users\\user\\miniconda3\\envs\\bd\\lib\\site-packages\\seaborn\\_decorators.py:43: FutureWarning: Pass the following variable as a keyword arg: x. From version 0.12, the only valid positional argument will be `data`, and passing other arguments without an explicit keyword will result in an error or misinterpretation.\n",
      "  FutureWarning\n",
      "c:\\users\\user\\miniconda3\\envs\\bd\\lib\\site-packages\\seaborn\\_decorators.py:43: FutureWarning: Pass the following variable as a keyword arg: x. From version 0.12, the only valid positional argument will be `data`, and passing other arguments without an explicit keyword will result in an error or misinterpretation.\n",
      "  FutureWarning\n",
      "c:\\users\\user\\miniconda3\\envs\\bd\\lib\\site-packages\\seaborn\\_decorators.py:43: FutureWarning: Pass the following variable as a keyword arg: x. From version 0.12, the only valid positional argument will be `data`, and passing other arguments without an explicit keyword will result in an error or misinterpretation.\n",
      "  FutureWarning\n",
      "c:\\users\\user\\miniconda3\\envs\\bd\\lib\\site-packages\\seaborn\\_decorators.py:43: FutureWarning: Pass the following variable as a keyword arg: x. From version 0.12, the only valid positional argument will be `data`, and passing other arguments without an explicit keyword will result in an error or misinterpretation.\n",
      "  FutureWarning\n",
      "c:\\users\\user\\miniconda3\\envs\\bd\\lib\\site-packages\\seaborn\\_decorators.py:43: FutureWarning: Pass the following variable as a keyword arg: x. From version 0.12, the only valid positional argument will be `data`, and passing other arguments without an explicit keyword will result in an error or misinterpretation.\n",
      "  FutureWarning\n",
      "c:\\users\\user\\miniconda3\\envs\\bd\\lib\\site-packages\\seaborn\\distributions.py:2551: FutureWarning: `distplot` is a deprecated function and will be removed in a future version. Please adapt your code to use either `displot` (a figure-level function with similar flexibility) or `histplot` (an axes-level function for histograms).\n",
      "  warnings.warn(msg, FutureWarning)\n"
     ]
    },
    {
     "data": {
      "image/png": "[encoded data removed]",
      "text/plain": [
       "<Figure size 1152x720 with 8 Axes>"
      ]
     },
     "metadata": {},
     "output_type": "display_data"
    }
   ],
   "source": [
    "#count number\n",
    "\n",
    "fig,ax = plt.subplots(2,4,figsize=(16,10))\n",
    "sns.countplot('Survived',data=df_train,ax=ax[0][0])\n",
    "sns.countplot('Pclass',data=df_train,ax=ax[0][1])\n",
    "sns.countplot('Sex',data=df_train,ax=ax[0][2])\n",
    "sns.countplot('SibSp',data=df_train,ax=ax[0][3])\n",
    "sns.countplot('Parch',data=df_train,ax=ax[1][0])\n",
    "sns.countplot('Embarked',data=df_train,ax=ax[1][1])\n",
    "sns.distplot(df_train['Fare'],kde=True,ax=ax[1][2])\n",
    "\n",
    "plt.show()"
   ]
  },
  {
   "cell_type": "code",
   "execution_count": 661,
   "metadata": {},
   "outputs": [
    {
     "name": "stdout",
     "output_type": "stream",
     "text": [
      "\n"
     ]
    }
   ],
   "source": [
    "'''\n",
    "implies:\n",
    "1. death more than lives\n",
    "2. most people live in third class\n",
    "3. male more than female\n",
    "4. most people don't have siblings and spouse\n",
    "5. most people don't have parch\n",
    "6. most people embark at S \n",
    "7. most people pay 0~100 fare \n",
    "'''\n",
    "print()"
   ]
  },
  {
   "cell_type": "code",
   "execution_count": 662,
   "metadata": {},
   "outputs": [
    {
     "name": "stderr",
     "output_type": "stream",
     "text": [
      "c:\\users\\user\\miniconda3\\envs\\bd\\lib\\site-packages\\seaborn\\_decorators.py:43: FutureWarning: Pass the following variable as a keyword arg: x. From version 0.12, the only valid positional argument will be `data`, and passing other arguments without an explicit keyword will result in an error or misinterpretation.\n",
      "  FutureWarning\n",
      "c:\\users\\user\\miniconda3\\envs\\bd\\lib\\site-packages\\seaborn\\_decorators.py:43: FutureWarning: Pass the following variable as a keyword arg: x. From version 0.12, the only valid positional argument will be `data`, and passing other arguments without an explicit keyword will result in an error or misinterpretation.\n",
      "  FutureWarning\n",
      "c:\\users\\user\\miniconda3\\envs\\bd\\lib\\site-packages\\seaborn\\_decorators.py:43: FutureWarning: Pass the following variable as a keyword arg: x. From version 0.12, the only valid positional argument will be `data`, and passing other arguments without an explicit keyword will result in an error or misinterpretation.\n",
      "  FutureWarning\n",
      "c:\\users\\user\\miniconda3\\envs\\bd\\lib\\site-packages\\seaborn\\_decorators.py:43: FutureWarning: Pass the following variable as a keyword arg: x. From version 0.12, the only valid positional argument will be `data`, and passing other arguments without an explicit keyword will result in an error or misinterpretation.\n",
      "  FutureWarning\n",
      "c:\\users\\user\\miniconda3\\envs\\bd\\lib\\site-packages\\seaborn\\_decorators.py:43: FutureWarning: Pass the following variable as a keyword arg: x. From version 0.12, the only valid positional argument will be `data`, and passing other arguments without an explicit keyword will result in an error or misinterpretation.\n",
      "  FutureWarning\n"
     ]
    },
    {
     "data": {
      "image/png": "[encoded data removed]",
      "text/plain": [
       "<Figure size 1152x720 with 8 Axes>"
      ]
     },
     "metadata": {},
     "output_type": "display_data"
    }
   ],
   "source": [
    "# survived Sex Age pclass Embarked\n",
    "\n",
    "fig,ax = plt.subplots(2,4,figsize=(16,10))\n",
    "sns.countplot('Survived',hue='Sex',linewidth=2.5,edgecolor=\".2\",data=df_train,ax=ax[0][0])\n",
    "sns.countplot('Pclass',hue='Sex',linewidth=2.5,edgecolor=\".2\",data=df_train,ax=ax[0][1])\n",
    "sns.countplot('Survived',hue='Pclass',linewidth=2.5,edgecolor=\".2\",data=df_train,ax=ax[0][2])\n",
    "sns.stripplot(x=\"Survived\", y=\"Age\", data=df_train,jitter=True,ax=ax[0][3])\n",
    "sns.stripplot(x=\"Pclass\", y=\"Age\", data=df_train,jitter=True,ax=ax[1][0])\n",
    "sns.stripplot(x=\"Sex\", y=\"Age\", data=df_train,jitter=True,ax=ax[1][1])\n",
    "sns.countplot('Embarked',hue='Pclass',linewidth=2.5,edgecolor=\".2\",data=df_train,ax=ax[1][2])\n",
    "sns.countplot('Embarked',hue='Sex',linewidth=2.5,edgecolor=\".2\",data=df_train,ax=ax[1][3])\n",
    "plt.show()"
   ]
  },
  {
   "cell_type": "code",
   "execution_count": 663,
   "metadata": {},
   "outputs": [
    {
     "data": {
      "image/png": "[encoded data removed]",
      "text/plain": [
       "<Figure size 504x504 with 1 Axes>"
      ]
     },
     "metadata": {},
     "output_type": "display_data"
    }
   ],
   "source": [
    "#pclass 3 is the cheapest\n",
    "plt.figure(figsize=(7,7))\n",
    "sns.boxplot(x='Pclass',y='Fare',data=df_train)\n",
    "plt.ylim([0,270])\n",
    "plt.show()"
   ]
  },
  {
   "cell_type": "code",
   "execution_count": 664,
   "metadata": {},
   "outputs": [
    {
     "name": "stdout",
     "output_type": "stream",
     "text": [
      "\n"
     ]
    }
   ],
   "source": [
    "'''\n",
    "implies:\n",
    "\n",
    "1.male die the most\n",
    "2.most male live in pclass 3\n",
    "3.pclass 3 die the most\n",
    "4.Age  20~40 die the most\n",
    "5.most people in pclass 3 are in age 20~40\n",
    "6.most male are in age 20~40\n",
    "7.most people live in pclass 3 embarked at S\n",
    "8.most male embarked at S\n",
    "\n",
    "--> those who are male in age 20~40 live in pclass 3 embarked at S die the most\n",
    "\n",
    "'''\n",
    "print()"
   ]
  },
  {
   "cell_type": "code",
   "execution_count": 665,
   "metadata": {},
   "outputs": [
    {
     "name": "stderr",
     "output_type": "stream",
     "text": [
      "c:\\users\\user\\miniconda3\\envs\\bd\\lib\\site-packages\\seaborn\\_decorators.py:43: FutureWarning: Pass the following variable as a keyword arg: x. From version 0.12, the only valid positional argument will be `data`, and passing other arguments without an explicit keyword will result in an error or misinterpretation.\n",
      "  FutureWarning\n",
      "c:\\users\\user\\miniconda3\\envs\\bd\\lib\\site-packages\\seaborn\\_decorators.py:43: FutureWarning: Pass the following variable as a keyword arg: x. From version 0.12, the only valid positional argument will be `data`, and passing other arguments without an explicit keyword will result in an error or misinterpretation.\n",
      "  FutureWarning\n",
      "c:\\users\\user\\miniconda3\\envs\\bd\\lib\\site-packages\\seaborn\\_decorators.py:43: FutureWarning: Pass the following variable as a keyword arg: x. From version 0.12, the only valid positional argument will be `data`, and passing other arguments without an explicit keyword will result in an error or misinterpretation.\n",
      "  FutureWarning\n",
      "c:\\users\\user\\miniconda3\\envs\\bd\\lib\\site-packages\\seaborn\\_decorators.py:43: FutureWarning: Pass the following variable as a keyword arg: x. From version 0.12, the only valid positional argument will be `data`, and passing other arguments without an explicit keyword will result in an error or misinterpretation.\n",
      "  FutureWarning\n"
     ]
    },
    {
     "data": {
      "image/png": "[encoded data removed]",
      "text/plain": [
       "<Figure size 1152x720 with 4 Axes>"
      ]
     },
     "metadata": {},
     "output_type": "display_data"
    }
   ],
   "source": [
    "fig,ax = plt.subplots(2,2,figsize=(16,10))\n",
    "sns.countplot('Survived',hue='SibSp',linewidth=2.5,edgecolor=\".2\",data=df_train,ax=ax[0][0])\n",
    "sns.countplot('Survived',hue='Parch',linewidth=2.5,edgecolor=\".2\",data=df_train,ax=ax[0][1])\n",
    "sns.countplot('Pclass',hue='Parch',linewidth=2.5,edgecolor=\".2\",data=df_train,ax=ax[1][0])\n",
    "sns.countplot('Pclass',hue='SibSp',linewidth=2.5,edgecolor=\".2\",data=df_train,ax=ax[1][1])\n",
    "\n",
    "plt.show()"
   ]
  },
  {
   "cell_type": "code",
   "execution_count": 666,
   "metadata": {},
   "outputs": [],
   "source": [
    "#add name\n",
    "df_train['Title'] = df_train.Name.apply(lambda x: re.search(' ([A-Z][a-z]+)\\.', x).group(1))"
   ]
  },
  {
   "cell_type": "code",
   "execution_count": 667,
   "metadata": {},
   "outputs": [
    {
     "data": {
      "image/png": "[encoded data removed]",
      "text/plain": [
       "<Figure size 864x360 with 1 Axes>"
      ]
     },
     "metadata": {},
     "output_type": "display_data"
    }
   ],
   "source": [
    "plt.figure(figsize=(12,5))\n",
    "sns.countplot(x='Title',data=df_train,palette='hls',hue='Survived')\n",
    "plt.xlabel('Title',fontsize=15)\n",
    "plt.ylabel('Count',fontsize=15)\n",
    "plt.title('title_name vs Survived',fontsize=20)\n",
    "plt.show()"
   ]
  },
  {
   "cell_type": "code",
   "execution_count": 668,
   "metadata": {},
   "outputs": [
    {
     "data": {
      "text/plain": [
       "Text(0.5, 1.0, 'pclass vs title_name')"
      ]
     },
     "execution_count": 668,
     "metadata": {},
     "output_type": "execute_result"
    },
    {
     "data": {
      "image/png": "[encoded data removed]",
      "text/plain": [
       "<Figure size 864x360 with 1 Axes>"
      ]
     },
     "metadata": {},
     "output_type": "display_data"
    }
   ],
   "source": [
    "plt.figure(figsize=(12,5))\n",
    "sns.countplot(x='Title',data=df_train,palette='hls',hue='Pclass')\n",
    "plt.xlabel('Title',fontsize=15)\n",
    "plt.ylabel('Count',fontsize=15)\n",
    "plt.title('pclass vs title_name',fontsize=20)"
   ]
  },
  {
   "cell_type": "code",
   "execution_count": 669,
   "metadata": {},
   "outputs": [
    {
     "data": {
      "text/plain": [
       "Text(0.5, 1.0, 'Embarked vs title_name')"
      ]
     },
     "execution_count": 669,
     "metadata": {},
     "output_type": "execute_result"
    },
    {
     "data": {
      "image/png": "[encoded data removed]",
      "text/plain": [
       "<Figure size 864x360 with 1 Axes>"
      ]
     },
     "metadata": {},
     "output_type": "display_data"
    }
   ],
   "source": [
    "plt.figure(figsize=(12,5))\n",
    "sns.countplot(x='Title',data=df_train,palette='hls',hue='Embarked')\n",
    "plt.xlabel('Title',fontsize=15)\n",
    "plt.ylabel('Count',fontsize=15)\n",
    "plt.title('Embarked vs title_name',fontsize=20)"
   ]
  },
  {
   "cell_type": "code",
   "execution_count": 778,
   "metadata": {},
   "outputs": [
    {
     "name": "stderr",
     "output_type": "stream",
     "text": [
      "c:\\users\\user\\miniconda3\\envs\\bd\\lib\\site-packages\\seaborn\\_decorators.py:43: FutureWarning: Pass the following variable as a keyword arg: x. From version 0.12, the only valid positional argument will be `data`, and passing other arguments without an explicit keyword will result in an error or misinterpretation.\n",
      "  FutureWarning\n",
      "c:\\users\\user\\miniconda3\\envs\\bd\\lib\\site-packages\\seaborn\\_decorators.py:43: FutureWarning: Pass the following variable as a keyword arg: x. From version 0.12, the only valid positional argument will be `data`, and passing other arguments without an explicit keyword will result in an error or misinterpretation.\n",
      "  FutureWarning\n",
      "c:\\users\\user\\miniconda3\\envs\\bd\\lib\\site-packages\\seaborn\\_decorators.py:43: FutureWarning: Pass the following variable as a keyword arg: x. From version 0.12, the only valid positional argument will be `data`, and passing other arguments without an explicit keyword will result in an error or misinterpretation.\n",
      "  FutureWarning\n"
     ]
    },
    {
     "data": {
      "image/png": "[encoded data removed]",
      "text/plain": [
       "<Figure size 1152x720 with 3 Axes>"
      ]
     },
     "metadata": {},
     "output_type": "display_data"
    }
   ],
   "source": [
    "# Pclass 3 -----embarked at some place ,show Title vs Survived count\n",
    "\n",
    "df=df_train[df_train.Title.str.contains('M')]\n",
    "df_S=df[df.Embarked.str[0]=='S']\n",
    "df_S=df_S[df_S.Pclass==3]\n",
    "df_Q=df[df.Embarked.str[0]=='Q']\n",
    "df_Q=df_Q[df_Q.Pclass==3]\n",
    "df_C=df[df.Embarked.str[0]=='C']\n",
    "df_C=df_C[df_C.Pclass==3]\n",
    "\n",
    "\n",
    "fig,ax = plt.subplots(1,3,figsize=(16,10))\n",
    "sns.countplot('Title',hue='Survived',linewidth=2.5,edgecolor=\".2\",data=df_S,ax=ax[0])\n",
    "sns.countplot('Title',hue='Survived',linewidth=2.5,edgecolor=\".2\",data=df_Q,ax=ax[1])\n",
    "sns.countplot('Title',hue='Survived',linewidth=2.5,edgecolor=\".2\",data=df_C,ax=ax[2])\n",
    "\n",
    "ax[0].title.set_text('Embarked_S')\n",
    "ax[1].title.set_text('Embarked_Q')\n",
    "ax[2].title.set_text('Embarked_C')"
   ]
  },
  {
   "cell_type": "markdown",
   "metadata": {},
   "source": [
    "# data process"
   ]
  },
  {
   "cell_type": "code",
   "execution_count": 606,
   "metadata": {},
   "outputs": [],
   "source": [
    "from sklearn.preprocessing import LabelEncoder\n",
    "from sklearn.model_selection import train_test_split as tts\n",
    "from sklearn.preprocessing import StandardScaler"
   ]
  },
  {
   "cell_type": "code",
   "execution_count": 607,
   "metadata": {},
   "outputs": [
    {
     "name": "stdout",
     "output_type": "stream",
     "text": [
      "<class 'pandas.core.frame.DataFrame'>\n",
      "RangeIndex: 891 entries, 0 to 890\n",
      "Data columns (total 8 columns):\n",
      " #   Column    Non-Null Count  Dtype  \n",
      "---  ------    --------------  -----  \n",
      " 0   Pclass    891 non-null    int64  \n",
      " 1   Sex       891 non-null    object \n",
      " 2   Age       714 non-null    float64\n",
      " 3   SibSp     891 non-null    int64  \n",
      " 4   Parch     891 non-null    int64  \n",
      " 5   Fare      891 non-null    float64\n",
      " 6   Embarked  889 non-null    object \n",
      " 7   Title     891 non-null    object \n",
      "dtypes: float64(2), int64(3), object(3)\n",
      "memory usage: 55.8+ KB\n"
     ]
    }
   ],
   "source": [
    "#drop useless data\n",
    "df_train_label=pd.DataFrame(df_train['Survived'])\n",
    "df_train=df_train.drop(['Name','PassengerId','Cabin','Ticket','Survived'],axis=1,inplace=False)\n",
    "df_train.info()"
   ]
  },
  {
   "cell_type": "code",
   "execution_count": 608,
   "metadata": {},
   "outputs": [],
   "source": [
    "df_train.Age.fillna(df_train.Age.mean(),inplace=True)\n",
    "df_train.Embarked.fillna('S',inplace=True)"
   ]
  },
  {
   "cell_type": "code",
   "execution_count": 609,
   "metadata": {},
   "outputs": [],
   "source": [
    "#replace number to label\n",
    "#sex:male,female ---0,1\n",
    "#embarked:S,C,Q----0,1,2\n",
    "#title\n",
    "replace = LabelEncoder()\n",
    "\n",
    "#sex\n",
    "replace.fit(df_train.Sex)\n",
    "Sex_label = replace.transform(df_train.Sex)\n",
    "df_train['Sex_label'] = Sex_label\n",
    "df_train.drop(['Sex'],axis=1,inplace=True)\n",
    "\n",
    "#embarked\n",
    "replace.fit(df_train.Embarked)\n",
    "Embarked_label = replace.transform(df_train.Embarked)\n",
    "df_train['Embarked_label'] = Embarked_label\n",
    "df_train.drop(['Embarked'],axis=1,inplace=True)\n",
    "\n",
    "#title\n",
    "replace.fit(df_train.Title)\n",
    "Title_label = replace.transform(df_train.Title)\n",
    "df_train['Title_label'] = Title_label\n",
    "df_train.drop(['Title'],axis=1,inplace=True)"
   ]
  },
  {
   "cell_type": "code",
   "execution_count": 610,
   "metadata": {},
   "outputs": [
    {
     "name": "stdout",
     "output_type": "stream",
     "text": [
      "<class 'pandas.core.frame.DataFrame'>\n",
      "RangeIndex: 891 entries, 0 to 890\n",
      "Data columns (total 8 columns):\n",
      " #   Column          Non-Null Count  Dtype  \n",
      "---  ------          --------------  -----  \n",
      " 0   Pclass          891 non-null    int64  \n",
      " 1   Age             891 non-null    float64\n",
      " 2   SibSp           891 non-null    int64  \n",
      " 3   Parch           891 non-null    int64  \n",
      " 4   Fare            891 non-null    float64\n",
      " 5   Sex_label       891 non-null    int32  \n",
      " 6   Embarked_label  891 non-null    int32  \n",
      " 7   Title_label     891 non-null    int32  \n",
      "dtypes: float64(2), int32(3), int64(3)\n",
      "memory usage: 45.4 KB\n"
     ]
    }
   ],
   "source": [
    "df_train.info()"
   ]
  },
  {
   "cell_type": "code",
   "execution_count": 611,
   "metadata": {},
   "outputs": [
    {
     "data": {
      "text/html": [
       "<div>\n",
       "<style scoped>\n",
       "    .dataframe tbody tr th:only-of-type {\n",
       "        vertical-align: middle;\n",
       "    }\n",
       "\n",
       "    .dataframe tbody tr th {\n",
       "        vertical-align: top;\n",
       "    }\n",
       "\n",
       "    .dataframe thead th {\n",
       "        text-align: right;\n",
       "    }\n",
       "</style>\n",
       "<table border=\"1\" class=\"dataframe\">\n",
       "  <thead>\n",
       "    <tr style=\"text-align: right;\">\n",
       "      <th></th>\n",
       "      <th>Pclass</th>\n",
       "      <th>Age</th>\n",
       "      <th>SibSp</th>\n",
       "      <th>Parch</th>\n",
       "      <th>Fare</th>\n",
       "      <th>Sex_label</th>\n",
       "      <th>Embarked_label</th>\n",
       "      <th>Title_label</th>\n",
       "    </tr>\n",
       "  </thead>\n",
       "  <tbody>\n",
       "    <tr>\n",
       "      <th>0</th>\n",
       "      <td>3</td>\n",
       "      <td>22.000000</td>\n",
       "      <td>1</td>\n",
       "      <td>0</td>\n",
       "      <td>7.2500</td>\n",
       "      <td>1</td>\n",
       "      <td>2</td>\n",
       "      <td>12</td>\n",
       "    </tr>\n",
       "    <tr>\n",
       "      <th>1</th>\n",
       "      <td>1</td>\n",
       "      <td>38.000000</td>\n",
       "      <td>1</td>\n",
       "      <td>0</td>\n",
       "      <td>71.2833</td>\n",
       "      <td>0</td>\n",
       "      <td>0</td>\n",
       "      <td>13</td>\n",
       "    </tr>\n",
       "    <tr>\n",
       "      <th>2</th>\n",
       "      <td>3</td>\n",
       "      <td>26.000000</td>\n",
       "      <td>0</td>\n",
       "      <td>0</td>\n",
       "      <td>7.9250</td>\n",
       "      <td>0</td>\n",
       "      <td>2</td>\n",
       "      <td>9</td>\n",
       "    </tr>\n",
       "    <tr>\n",
       "      <th>3</th>\n",
       "      <td>1</td>\n",
       "      <td>35.000000</td>\n",
       "      <td>1</td>\n",
       "      <td>0</td>\n",
       "      <td>53.1000</td>\n",
       "      <td>0</td>\n",
       "      <td>2</td>\n",
       "      <td>13</td>\n",
       "    </tr>\n",
       "    <tr>\n",
       "      <th>4</th>\n",
       "      <td>3</td>\n",
       "      <td>35.000000</td>\n",
       "      <td>0</td>\n",
       "      <td>0</td>\n",
       "      <td>8.0500</td>\n",
       "      <td>1</td>\n",
       "      <td>2</td>\n",
       "      <td>12</td>\n",
       "    </tr>\n",
       "    <tr>\n",
       "      <th>5</th>\n",
       "      <td>3</td>\n",
       "      <td>29.699118</td>\n",
       "      <td>0</td>\n",
       "      <td>0</td>\n",
       "      <td>8.4583</td>\n",
       "      <td>1</td>\n",
       "      <td>1</td>\n",
       "      <td>12</td>\n",
       "    </tr>\n",
       "    <tr>\n",
       "      <th>6</th>\n",
       "      <td>1</td>\n",
       "      <td>54.000000</td>\n",
       "      <td>0</td>\n",
       "      <td>0</td>\n",
       "      <td>51.8625</td>\n",
       "      <td>1</td>\n",
       "      <td>2</td>\n",
       "      <td>12</td>\n",
       "    </tr>\n",
       "    <tr>\n",
       "      <th>7</th>\n",
       "      <td>3</td>\n",
       "      <td>2.000000</td>\n",
       "      <td>3</td>\n",
       "      <td>1</td>\n",
       "      <td>21.0750</td>\n",
       "      <td>1</td>\n",
       "      <td>2</td>\n",
       "      <td>8</td>\n",
       "    </tr>\n",
       "    <tr>\n",
       "      <th>8</th>\n",
       "      <td>3</td>\n",
       "      <td>27.000000</td>\n",
       "      <td>0</td>\n",
       "      <td>2</td>\n",
       "      <td>11.1333</td>\n",
       "      <td>0</td>\n",
       "      <td>2</td>\n",
       "      <td>13</td>\n",
       "    </tr>\n",
       "  </tbody>\n",
       "</table>\n",
       "</div>"
      ],
      "text/plain": [
       "   Pclass        Age  SibSp  Parch     Fare  Sex_label  Embarked_label  \\\n",
       "0       3  22.000000      1      0   7.2500          1               2   \n",
       "1       1  38.000000      1      0  71.2833          0               0   \n",
       "2       3  26.000000      0      0   7.9250          0               2   \n",
       "3       1  35.000000      1      0  53.1000          0               2   \n",
       "4       3  35.000000      0      0   8.0500          1               2   \n",
       "5       3  29.699118      0      0   8.4583          1               1   \n",
       "6       1  54.000000      0      0  51.8625          1               2   \n",
       "7       3   2.000000      3      1  21.0750          1               2   \n",
       "8       3  27.000000      0      2  11.1333          0               2   \n",
       "\n",
       "   Title_label  \n",
       "0           12  \n",
       "1           13  \n",
       "2            9  \n",
       "3           13  \n",
       "4           12  \n",
       "5           12  \n",
       "6           12  \n",
       "7            8  \n",
       "8           13  "
      ]
     },
     "execution_count": 611,
     "metadata": {},
     "output_type": "execute_result"
    }
   ],
   "source": [
    "df_train.head(9)"
   ]
  },
  {
   "cell_type": "code",
   "execution_count": 426,
   "metadata": {},
   "outputs": [
    {
     "data": {
      "text/plain": [
       "((891, 8), (891, 1))"
      ]
     },
     "execution_count": 426,
     "metadata": {},
     "output_type": "execute_result"
    }
   ],
   "source": [
    "X=np.array(df_train)\n",
    "y=np.array(df_train_label).astype(np.float32)\n",
    "X.shape,y.shape"
   ]
  },
  {
   "cell_type": "code",
   "execution_count": 528,
   "metadata": {},
   "outputs": [],
   "source": [
    "from sklearn.model_selection import train_test_split as ttp\n",
    "from sklearn.preprocessing import StandardScaler\n",
    "\n",
    "X_train,X_test,y_train,y_test=ttp(X,y,random_state=1,test_size=0.2)\n",
    "\n",
    "#squeeze y\n",
    "y_train=y_train.squeeze()\n",
    "y_test=y_test.squeeze()\n",
    "\n",
    "\n",
    "#normalzie\n",
    "normalize=StandardScaler()\n",
    "normalize.fit(X_train)\n",
    "X_train=normalize.transform(X_train)\n",
    "normalize.fit(X_test)\n",
    "X_test=normalize.transform(X_test)"
   ]
  },
  {
   "cell_type": "markdown",
   "metadata": {},
   "source": [
    "# build model"
   ]
  },
  {
   "cell_type": "markdown",
   "metadata": {},
   "source": [
    "# $logistic\\ regression$"
   ]
  },
  {
   "cell_type": "code",
   "execution_count": 428,
   "metadata": {},
   "outputs": [],
   "source": [
    "from sklearn.linear_model import LogisticRegression\n",
    "from sklearn.model_selection import GridSearchCV"
   ]
  },
  {
   "cell_type": "code",
   "execution_count": 429,
   "metadata": {},
   "outputs": [
    {
     "data": {
      "text/plain": [
       "(891, 8)"
      ]
     },
     "execution_count": 429,
     "metadata": {},
     "output_type": "execute_result"
    }
   ],
   "source": [
    "normalize=StandardScaler()\n",
    "normalize.fit(X)\n",
    "X_norm=normalize.transform(X)\n",
    "X_norm.shape"
   ]
  },
  {
   "cell_type": "code",
   "execution_count": 430,
   "metadata": {},
   "outputs": [
    {
     "name": "stdout",
     "output_type": "stream",
     "text": [
      "Fitting 3 folds for each of 48 candidates, totalling 144 fits\n",
      "[CV] C=0.5, max_iter=50, random_state=1 ..............................\n",
      "[CV] ............... C=0.5, max_iter=50, random_state=1, total=   0.0s\n",
      "[CV] C=0.5, max_iter=50, random_state=1 ..............................\n",
      "[CV] ............... C=0.5, max_iter=50, random_state=1, total=   0.0s\n",
      "[CV] C=0.5, max_iter=50, random_state=1 ..............................\n",
      "[CV] ............... C=0.5, max_iter=50, random_state=1, total=   0.0s\n",
      "[CV] C=0.5, max_iter=50, random_state=2 ..............................\n",
      "[CV] ............... C=0.5, max_iter=50, random_state=2, total=   0.0s\n",
      "[CV] C=0.5, max_iter=50, random_state=2 ..............................\n",
      "[CV] ............... C=0.5, max_iter=50, random_state=2, total=   0.0s\n",
      "[CV] C=0.5, max_iter=50, random_state=2 ..............................\n",
      "[CV] ............... C=0.5, max_iter=50, random_state=2, total=   0.0s\n",
      "[CV] C=0.5, max_iter=50, random_state=3 ..............................\n",
      "[CV] ............... C=0.5, max_iter=50, random_state=3, total=   0.0s\n",
      "[CV] C=0.5, max_iter=50, random_state=3 ..............................\n",
      "[CV] ............... C=0.5, max_iter=50, random_state=3, total=   0.0s\n",
      "[CV] C=0.5, max_iter=50, random_state=3 ..............................\n",
      "[CV] ............... C=0.5, max_iter=50, random_state=3, total=   0.0s\n",
      "[CV] C=0.5, max_iter=50, random_state=4 ..............................\n",
      "[CV] ............... C=0.5, max_iter=50, random_state=4, total=   0.0s\n",
      "[CV] C=0.5, max_iter=50, random_state=4 ..............................\n",
      "[CV] ............... C=0.5, max_iter=50, random_state=4, total=   0.0s\n",
      "[CV] C=0.5, max_iter=50, random_state=4 ..............................\n",
      "[CV] ............... C=0.5, max_iter=50, random_state=4, total=   0.0s\n",
      "[CV] C=0.5, max_iter=100, random_state=1 .............................\n",
      "[CV] .............. C=0.5, max_iter=100, random_state=1, total=   0.0s\n",
      "[CV] C=0.5, max_iter=100, random_state=1 .............................\n",
      "[CV] .............. C=0.5, max_iter=100, random_state=1, total=   0.0s\n",
      "[CV] C=0.5, max_iter=100, random_state=1 .............................\n",
      "[CV] .............. C=0.5, max_iter=100, random_state=1, total=   0.0s\n",
      "[CV] C=0.5, max_iter=100, random_state=2 .............................\n",
      "[CV] .............. C=0.5, max_iter=100, random_state=2, total=   0.0s\n",
      "[CV] C=0.5, max_iter=100, random_state=2 .............................\n",
      "[CV] .............. C=0.5, max_iter=100, random_state=2, total=   0.0s\n",
      "[CV] C=0.5, max_iter=100, random_state=2 .............................\n",
      "[CV] .............. C=0.5, max_iter=100, random_state=2, total=   0.0s\n",
      "[CV] C=0.5, max_iter=100, random_state=3 .............................\n",
      "[CV] .............. C=0.5, max_iter=100, random_state=3, total=   0.0s\n",
      "[CV] C=0.5, max_iter=100, random_state=3 .............................\n",
      "[CV] .............. C=0.5, max_iter=100, random_state=3, total=   0.0s\n",
      "[CV] C=0.5, max_iter=100, random_state=3 .............................\n",
      "[CV] .............. C=0.5, max_iter=100, random_state=3, total=   0.0s\n",
      "[CV] C=0.5, max_iter=100, random_state=4 .............................\n",
      "[CV] .............. C=0.5, max_iter=100, random_state=4, total=   0.0s\n",
      "[CV] C=0.5, max_iter=100, random_state=4 .............................\n",
      "[CV] .............. C=0.5, max_iter=100, random_state=4, total=   0.0s\n",
      "[CV] C=0.5, max_iter=100, random_state=4 .............................\n",
      "[CV] .............. C=0.5, max_iter=100, random_state=4, total=   0.0s\n",
      "[CV] C=0.5, max_iter=150, random_state=1 .............................\n",
      "[CV] .............. C=0.5, max_iter=150, random_state=1, total=   0.0s\n",
      "[CV] C=0.5, max_iter=150, random_state=1 .............................\n",
      "[CV] .............. C=0.5, max_iter=150, random_state=1, total=   0.0s\n",
      "[CV] C=0.5, max_iter=150, random_state=1 .............................\n",
      "[CV] .............. C=0.5, max_iter=150, random_state=1, total=   0.0s\n",
      "[CV] C=0.5, max_iter=150, random_state=2 .............................\n",
      "[CV] .............. C=0.5, max_iter=150, random_state=2, total=   0.0s\n",
      "[CV] C=0.5, max_iter=150, random_state=2 .............................\n",
      "[CV] .............. C=0.5, max_iter=150, random_state=2, total=   0.0s\n",
      "[CV] C=0.5, max_iter=150, random_state=2 .............................\n",
      "[CV] .............. C=0.5, max_iter=150, random_state=2, total=   0.0s\n",
      "[CV] C=0.5, max_iter=150, random_state=3 .............................\n",
      "[CV] .............. C=0.5, max_iter=150, random_state=3, total=   0.0s\n",
      "[CV] C=0.5, max_iter=150, random_state=3 .............................\n",
      "[CV] .............. C=0.5, max_iter=150, random_state=3, total=   0.0s\n",
      "[CV] C=0.5, max_iter=150, random_state=3 .............................\n",
      "[CV] .............. C=0.5, max_iter=150, random_state=3, total=   0.0s\n",
      "[CV] C=0.5, max_iter=150, random_state=4 .............................\n",
      "[CV] .............. C=0.5, max_iter=150, random_state=4, total=   0.0s\n",
      "[CV] C=0.5, max_iter=150, random_state=4 .............................\n",
      "[CV] .............. C=0.5, max_iter=150, random_state=4, total=   0.0s\n",
      "[CV] C=0.5, max_iter=150, random_state=4 .............................\n",
      "[CV] .............. C=0.5, max_iter=150, random_state=4, total=   0.0s\n",
      "[CV] C=1.0, max_iter=50, random_state=1 ..............................\n",
      "[CV] ............... C=1.0, max_iter=50, random_state=1, total=   0.0s\n",
      "[CV] C=1.0, max_iter=50, random_state=1 ..............................\n",
      "[CV] ............... C=1.0, max_iter=50, random_state=1, total=   0.0s\n",
      "[CV] C=1.0, max_iter=50, random_state=1 ..............................\n",
      "[CV] ............... C=1.0, max_iter=50, random_state=1, total=   0.0s\n",
      "[CV] C=1.0, max_iter=50, random_state=2 ..............................\n",
      "[CV] ............... C=1.0, max_iter=50, random_state=2, total=   0.0s\n",
      "[CV] C=1.0, max_iter=50, random_state=2 ..............................\n"
     ]
    },
    {
     "name": "stderr",
     "output_type": "stream",
     "text": [
      "[Parallel(n_jobs=1)]: Using backend SequentialBackend with 1 concurrent workers.\n",
      "c:\\users\\user\\miniconda3\\envs\\bd\\lib\\site-packages\\sklearn\\utils\\validation.py:72: DataConversionWarning: A column-vector y was passed when a 1d array was expected. Please change the shape of y to (n_samples, ), for example using ravel().\n",
      "  return f(**kwargs)\n",
      "[Parallel(n_jobs=1)]: Done   1 out of   1 | elapsed:    0.0s remaining:    0.0s\n",
      "c:\\users\\user\\miniconda3\\envs\\bd\\lib\\site-packages\\sklearn\\utils\\validation.py:72: DataConversionWarning: A column-vector y was passed when a 1d array was expected. Please change the shape of y to (n_samples, ), for example using ravel().\n",
      "  return f(**kwargs)\n",
      "c:\\users\\user\\miniconda3\\envs\\bd\\lib\\site-packages\\sklearn\\utils\\validation.py:72: DataConversionWarning: A column-vector y was passed when a 1d array was expected. Please change the shape of y to (n_samples, ), for example using ravel().\n",
      "  return f(**kwargs)\n",
      "c:\\users\\user\\miniconda3\\envs\\bd\\lib\\site-packages\\sklearn\\utils\\validation.py:72: DataConversionWarning: A column-vector y was passed when a 1d array was expected. Please change the shape of y to (n_samples, ), for example using ravel().\n",
      "  return f(**kwargs)\n",
      "c:\\users\\user\\miniconda3\\envs\\bd\\lib\\site-packages\\sklearn\\utils\\validation.py:72: DataConversionWarning: A column-vector y was passed when a 1d array was expected. Please change the shape of y to (n_samples, ), for example using ravel().\n",
      "  return f(**kwargs)\n",
      "c:\\users\\user\\miniconda3\\envs\\bd\\lib\\site-packages\\sklearn\\utils\\validation.py:72: DataConversionWarning: A column-vector y was passed when a 1d array was expected. Please change the shape of y to (n_samples, ), for example using ravel().\n",
      "  return f(**kwargs)\n",
      "c:\\users\\user\\miniconda3\\envs\\bd\\lib\\site-packages\\sklearn\\utils\\validation.py:72: DataConversionWarning: A column-vector y was passed when a 1d array was expected. Please change the shape of y to (n_samples, ), for example using ravel().\n",
      "  return f(**kwargs)\n",
      "c:\\users\\user\\miniconda3\\envs\\bd\\lib\\site-packages\\sklearn\\utils\\validation.py:72: DataConversionWarning: A column-vector y was passed when a 1d array was expected. Please change the shape of y to (n_samples, ), for example using ravel().\n",
      "  return f(**kwargs)\n",
      "c:\\users\\user\\miniconda3\\envs\\bd\\lib\\site-packages\\sklearn\\utils\\validation.py:72: DataConversionWarning: A column-vector y was passed when a 1d array was expected. Please change the shape of y to (n_samples, ), for example using ravel().\n",
      "  return f(**kwargs)\n",
      "c:\\users\\user\\miniconda3\\envs\\bd\\lib\\site-packages\\sklearn\\utils\\validation.py:72: DataConversionWarning: A column-vector y was passed when a 1d array was expected. Please change the shape of y to (n_samples, ), for example using ravel().\n",
      "  return f(**kwargs)\n",
      "c:\\users\\user\\miniconda3\\envs\\bd\\lib\\site-packages\\sklearn\\utils\\validation.py:72: DataConversionWarning: A column-vector y was passed when a 1d array was expected. Please change the shape of y to (n_samples, ), for example using ravel().\n",
      "  return f(**kwargs)\n",
      "c:\\users\\user\\miniconda3\\envs\\bd\\lib\\site-packages\\sklearn\\utils\\validation.py:72: DataConversionWarning: A column-vector y was passed when a 1d array was expected. Please change the shape of y to (n_samples, ), for example using ravel().\n",
      "  return f(**kwargs)\n",
      "c:\\users\\user\\miniconda3\\envs\\bd\\lib\\site-packages\\sklearn\\utils\\validation.py:72: DataConversionWarning: A column-vector y was passed when a 1d array was expected. Please change the shape of y to (n_samples, ), for example using ravel().\n",
      "  return f(**kwargs)\n",
      "c:\\users\\user\\miniconda3\\envs\\bd\\lib\\site-packages\\sklearn\\utils\\validation.py:72: DataConversionWarning: A column-vector y was passed when a 1d array was expected. Please change the shape of y to (n_samples, ), for example using ravel().\n",
      "  return f(**kwargs)\n",
      "c:\\users\\user\\miniconda3\\envs\\bd\\lib\\site-packages\\sklearn\\utils\\validation.py:72: DataConversionWarning: A column-vector y was passed when a 1d array was expected. Please change the shape of y to (n_samples, ), for example using ravel().\n",
      "  return f(**kwargs)\n",
      "c:\\users\\user\\miniconda3\\envs\\bd\\lib\\site-packages\\sklearn\\utils\\validation.py:72: DataConversionWarning: A column-vector y was passed when a 1d array was expected. Please change the shape of y to (n_samples, ), for example using ravel().\n",
      "  return f(**kwargs)\n",
      "c:\\users\\user\\miniconda3\\envs\\bd\\lib\\site-packages\\sklearn\\utils\\validation.py:72: DataConversionWarning: A column-vector y was passed when a 1d array was expected. Please change the shape of y to (n_samples, ), for example using ravel().\n",
      "  return f(**kwargs)\n",
      "c:\\users\\user\\miniconda3\\envs\\bd\\lib\\site-packages\\sklearn\\utils\\validation.py:72: DataConversionWarning: A column-vector y was passed when a 1d array was expected. Please change the shape of y to (n_samples, ), for example using ravel().\n",
      "  return f(**kwargs)\n",
      "c:\\users\\user\\miniconda3\\envs\\bd\\lib\\site-packages\\sklearn\\utils\\validation.py:72: DataConversionWarning: A column-vector y was passed when a 1d array was expected. Please change the shape of y to (n_samples, ), for example using ravel().\n",
      "  return f(**kwargs)\n",
      "c:\\users\\user\\miniconda3\\envs\\bd\\lib\\site-packages\\sklearn\\utils\\validation.py:72: DataConversionWarning: A column-vector y was passed when a 1d array was expected. Please change the shape of y to (n_samples, ), for example using ravel().\n",
      "  return f(**kwargs)\n",
      "c:\\users\\user\\miniconda3\\envs\\bd\\lib\\site-packages\\sklearn\\utils\\validation.py:72: DataConversionWarning: A column-vector y was passed when a 1d array was expected. Please change the shape of y to (n_samples, ), for example using ravel().\n",
      "  return f(**kwargs)\n",
      "c:\\users\\user\\miniconda3\\envs\\bd\\lib\\site-packages\\sklearn\\utils\\validation.py:72: DataConversionWarning: A column-vector y was passed when a 1d array was expected. Please change the shape of y to (n_samples, ), for example using ravel().\n",
      "  return f(**kwargs)\n",
      "c:\\users\\user\\miniconda3\\envs\\bd\\lib\\site-packages\\sklearn\\utils\\validation.py:72: DataConversionWarning: A column-vector y was passed when a 1d array was expected. Please change the shape of y to (n_samples, ), for example using ravel().\n",
      "  return f(**kwargs)\n",
      "c:\\users\\user\\miniconda3\\envs\\bd\\lib\\site-packages\\sklearn\\utils\\validation.py:72: DataConversionWarning: A column-vector y was passed when a 1d array was expected. Please change the shape of y to (n_samples, ), for example using ravel().\n",
      "  return f(**kwargs)\n",
      "c:\\users\\user\\miniconda3\\envs\\bd\\lib\\site-packages\\sklearn\\utils\\validation.py:72: DataConversionWarning: A column-vector y was passed when a 1d array was expected. Please change the shape of y to (n_samples, ), for example using ravel().\n",
      "  return f(**kwargs)\n",
      "c:\\users\\user\\miniconda3\\envs\\bd\\lib\\site-packages\\sklearn\\utils\\validation.py:72: DataConversionWarning: A column-vector y was passed when a 1d array was expected. Please change the shape of y to (n_samples, ), for example using ravel().\n",
      "  return f(**kwargs)\n",
      "c:\\users\\user\\miniconda3\\envs\\bd\\lib\\site-packages\\sklearn\\utils\\validation.py:72: DataConversionWarning: A column-vector y was passed when a 1d array was expected. Please change the shape of y to (n_samples, ), for example using ravel().\n",
      "  return f(**kwargs)\n",
      "c:\\users\\user\\miniconda3\\envs\\bd\\lib\\site-packages\\sklearn\\utils\\validation.py:72: DataConversionWarning: A column-vector y was passed when a 1d array was expected. Please change the shape of y to (n_samples, ), for example using ravel().\n",
      "  return f(**kwargs)\n",
      "c:\\users\\user\\miniconda3\\envs\\bd\\lib\\site-packages\\sklearn\\utils\\validation.py:72: DataConversionWarning: A column-vector y was passed when a 1d array was expected. Please change the shape of y to (n_samples, ), for example using ravel().\n",
      "  return f(**kwargs)\n",
      "c:\\users\\user\\miniconda3\\envs\\bd\\lib\\site-packages\\sklearn\\utils\\validation.py:72: DataConversionWarning: A column-vector y was passed when a 1d array was expected. Please change the shape of y to (n_samples, ), for example using ravel().\n",
      "  return f(**kwargs)\n",
      "c:\\users\\user\\miniconda3\\envs\\bd\\lib\\site-packages\\sklearn\\utils\\validation.py:72: DataConversionWarning: A column-vector y was passed when a 1d array was expected. Please change the shape of y to (n_samples, ), for example using ravel().\n",
      "  return f(**kwargs)\n",
      "c:\\users\\user\\miniconda3\\envs\\bd\\lib\\site-packages\\sklearn\\utils\\validation.py:72: DataConversionWarning: A column-vector y was passed when a 1d array was expected. Please change the shape of y to (n_samples, ), for example using ravel().\n",
      "  return f(**kwargs)\n",
      "c:\\users\\user\\miniconda3\\envs\\bd\\lib\\site-packages\\sklearn\\utils\\validation.py:72: DataConversionWarning: A column-vector y was passed when a 1d array was expected. Please change the shape of y to (n_samples, ), for example using ravel().\n",
      "  return f(**kwargs)\n",
      "c:\\users\\user\\miniconda3\\envs\\bd\\lib\\site-packages\\sklearn\\utils\\validation.py:72: DataConversionWarning: A column-vector y was passed when a 1d array was expected. Please change the shape of y to (n_samples, ), for example using ravel().\n",
      "  return f(**kwargs)\n",
      "c:\\users\\user\\miniconda3\\envs\\bd\\lib\\site-packages\\sklearn\\utils\\validation.py:72: DataConversionWarning: A column-vector y was passed when a 1d array was expected. Please change the shape of y to (n_samples, ), for example using ravel().\n",
      "  return f(**kwargs)\n",
      "c:\\users\\user\\miniconda3\\envs\\bd\\lib\\site-packages\\sklearn\\utils\\validation.py:72: DataConversionWarning: A column-vector y was passed when a 1d array was expected. Please change the shape of y to (n_samples, ), for example using ravel().\n",
      "  return f(**kwargs)\n",
      "c:\\users\\user\\miniconda3\\envs\\bd\\lib\\site-packages\\sklearn\\utils\\validation.py:72: DataConversionWarning: A column-vector y was passed when a 1d array was expected. Please change the shape of y to (n_samples, ), for example using ravel().\n",
      "  return f(**kwargs)\n",
      "c:\\users\\user\\miniconda3\\envs\\bd\\lib\\site-packages\\sklearn\\utils\\validation.py:72: DataConversionWarning: A column-vector y was passed when a 1d array was expected. Please change the shape of y to (n_samples, ), for example using ravel().\n",
      "  return f(**kwargs)\n",
      "c:\\users\\user\\miniconda3\\envs\\bd\\lib\\site-packages\\sklearn\\utils\\validation.py:72: DataConversionWarning: A column-vector y was passed when a 1d array was expected. Please change the shape of y to (n_samples, ), for example using ravel().\n",
      "  return f(**kwargs)\n",
      "c:\\users\\user\\miniconda3\\envs\\bd\\lib\\site-packages\\sklearn\\utils\\validation.py:72: DataConversionWarning: A column-vector y was passed when a 1d array was expected. Please change the shape of y to (n_samples, ), for example using ravel().\n",
      "  return f(**kwargs)\n",
      "c:\\users\\user\\miniconda3\\envs\\bd\\lib\\site-packages\\sklearn\\utils\\validation.py:72: DataConversionWarning: A column-vector y was passed when a 1d array was expected. Please change the shape of y to (n_samples, ), for example using ravel().\n",
      "  return f(**kwargs)\n"
     ]
    },
    {
     "name": "stdout",
     "output_type": "stream",
     "text": [
      "[CV] ............... C=1.0, max_iter=50, random_state=2, total=   0.0s\n",
      "[CV] C=1.0, max_iter=50, random_state=2 ..............................\n",
      "[CV] ............... C=1.0, max_iter=50, random_state=2, total=   0.0s\n",
      "[CV] C=1.0, max_iter=50, random_state=3 ..............................\n",
      "[CV] ............... C=1.0, max_iter=50, random_state=3, total=   0.0s\n",
      "[CV] C=1.0, max_iter=50, random_state=3 ..............................\n",
      "[CV] ............... C=1.0, max_iter=50, random_state=3, total=   0.0s\n",
      "[CV] C=1.0, max_iter=50, random_state=3 ..............................\n",
      "[CV] ............... C=1.0, max_iter=50, random_state=3, total=   0.0s\n",
      "[CV] C=1.0, max_iter=50, random_state=4 ..............................\n",
      "[CV] ............... C=1.0, max_iter=50, random_state=4, total=   0.0s\n",
      "[CV] C=1.0, max_iter=50, random_state=4 ..............................\n",
      "[CV] ............... C=1.0, max_iter=50, random_state=4, total=   0.0s\n",
      "[CV] C=1.0, max_iter=50, random_state=4 ..............................\n",
      "[CV] ............... C=1.0, max_iter=50, random_state=4, total=   0.0s\n",
      "[CV] C=1.0, max_iter=100, random_state=1 .............................\n",
      "[CV] .............. C=1.0, max_iter=100, random_state=1, total=   0.0s\n",
      "[CV] C=1.0, max_iter=100, random_state=1 .............................\n",
      "[CV] .............. C=1.0, max_iter=100, random_state=1, total=   0.0s\n",
      "[CV] C=1.0, max_iter=100, random_state=1 .............................\n",
      "[CV] .............. C=1.0, max_iter=100, random_state=1, total=   0.0s\n",
      "[CV] C=1.0, max_iter=100, random_state=2 .............................\n",
      "[CV] .............. C=1.0, max_iter=100, random_state=2, total=   0.0s\n",
      "[CV] C=1.0, max_iter=100, random_state=2 .............................\n",
      "[CV] .............. C=1.0, max_iter=100, random_state=2, total=   0.0s\n",
      "[CV] C=1.0, max_iter=100, random_state=2 .............................\n",
      "[CV] .............. C=1.0, max_iter=100, random_state=2, total=   0.0s\n",
      "[CV] C=1.0, max_iter=100, random_state=3 .............................\n",
      "[CV] .............. C=1.0, max_iter=100, random_state=3, total=   0.0s\n",
      "[CV] C=1.0, max_iter=100, random_state=3 .............................\n",
      "[CV] .............. C=1.0, max_iter=100, random_state=3, total=   0.0s\n",
      "[CV] C=1.0, max_iter=100, random_state=3 .............................\n",
      "[CV] .............. C=1.0, max_iter=100, random_state=3, total=   0.0s\n",
      "[CV] C=1.0, max_iter=100, random_state=4 .............................\n",
      "[CV] .............. C=1.0, max_iter=100, random_state=4, total=   0.0s\n",
      "[CV] C=1.0, max_iter=100, random_state=4 .............................\n",
      "[CV] .............. C=1.0, max_iter=100, random_state=4, total=   0.0s\n",
      "[CV] C=1.0, max_iter=100, random_state=4 .............................\n",
      "[CV] .............. C=1.0, max_iter=100, random_state=4, total=   0.0s\n",
      "[CV] C=1.0, max_iter=150, random_state=1 .............................\n",
      "[CV] .............. C=1.0, max_iter=150, random_state=1, total=   0.0s\n",
      "[CV] C=1.0, max_iter=150, random_state=1 .............................\n",
      "[CV] .............. C=1.0, max_iter=150, random_state=1, total=   0.0s\n",
      "[CV] C=1.0, max_iter=150, random_state=1 .............................\n",
      "[CV] .............. C=1.0, max_iter=150, random_state=1, total=   0.0s\n",
      "[CV] C=1.0, max_iter=150, random_state=2 .............................\n",
      "[CV] .............. C=1.0, max_iter=150, random_state=2, total=   0.0s\n",
      "[CV] C=1.0, max_iter=150, random_state=2 .............................\n",
      "[CV] .............. C=1.0, max_iter=150, random_state=2, total=   0.0s\n",
      "[CV] C=1.0, max_iter=150, random_state=2 .............................\n",
      "[CV] .............. C=1.0, max_iter=150, random_state=2, total=   0.0s\n",
      "[CV] C=1.0, max_iter=150, random_state=3 .............................\n",
      "[CV] .............. C=1.0, max_iter=150, random_state=3, total=   0.0s\n",
      "[CV] C=1.0, max_iter=150, random_state=3 .............................\n",
      "[CV] .............. C=1.0, max_iter=150, random_state=3, total=   0.0s\n",
      "[CV] C=1.0, max_iter=150, random_state=3 .............................\n",
      "[CV] .............. C=1.0, max_iter=150, random_state=3, total=   0.0s\n",
      "[CV] C=1.0, max_iter=150, random_state=4 .............................\n",
      "[CV] .............. C=1.0, max_iter=150, random_state=4, total=   0.0s\n",
      "[CV] C=1.0, max_iter=150, random_state=4 .............................\n",
      "[CV] .............. C=1.0, max_iter=150, random_state=4, total=   0.0s\n",
      "[CV] C=1.0, max_iter=150, random_state=4 .............................\n",
      "[CV] .............. C=1.0, max_iter=150, random_state=4, total=   0.0s\n",
      "[CV] C=1.2, max_iter=50, random_state=1 ..............................\n",
      "[CV] ............... C=1.2, max_iter=50, random_state=1, total=   0.0s\n",
      "[CV] C=1.2, max_iter=50, random_state=1 ..............................\n",
      "[CV] ............... C=1.2, max_iter=50, random_state=1, total=   0.0s\n",
      "[CV] C=1.2, max_iter=50, random_state=1 ..............................\n",
      "[CV] ............... C=1.2, max_iter=50, random_state=1, total=   0.0s\n",
      "[CV] C=1.2, max_iter=50, random_state=2 ..............................\n",
      "[CV] ............... C=1.2, max_iter=50, random_state=2, total=   0.0s\n",
      "[CV] C=1.2, max_iter=50, random_state=2 ..............................\n",
      "[CV] ............... C=1.2, max_iter=50, random_state=2, total=   0.0s\n",
      "[CV] C=1.2, max_iter=50, random_state=2 ..............................\n",
      "[CV] ............... C=1.2, max_iter=50, random_state=2, total=   0.0s\n",
      "[CV] C=1.2, max_iter=50, random_state=3 ..............................\n",
      "[CV] ............... C=1.2, max_iter=50, random_state=3, total=   0.0s\n",
      "[CV] C=1.2, max_iter=50, random_state=3 ..............................\n",
      "[CV] ............... C=1.2, max_iter=50, random_state=3, total=   0.0s\n",
      "[CV] C=1.2, max_iter=50, random_state=3 ..............................\n"
     ]
    },
    {
     "name": "stderr",
     "output_type": "stream",
     "text": [
      "c:\\users\\user\\miniconda3\\envs\\bd\\lib\\site-packages\\sklearn\\utils\\validation.py:72: DataConversionWarning: A column-vector y was passed when a 1d array was expected. Please change the shape of y to (n_samples, ), for example using ravel().\n",
      "  return f(**kwargs)\n",
      "c:\\users\\user\\miniconda3\\envs\\bd\\lib\\site-packages\\sklearn\\utils\\validation.py:72: DataConversionWarning: A column-vector y was passed when a 1d array was expected. Please change the shape of y to (n_samples, ), for example using ravel().\n",
      "  return f(**kwargs)\n",
      "c:\\users\\user\\miniconda3\\envs\\bd\\lib\\site-packages\\sklearn\\utils\\validation.py:72: DataConversionWarning: A column-vector y was passed when a 1d array was expected. Please change the shape of y to (n_samples, ), for example using ravel().\n",
      "  return f(**kwargs)\n",
      "c:\\users\\user\\miniconda3\\envs\\bd\\lib\\site-packages\\sklearn\\utils\\validation.py:72: DataConversionWarning: A column-vector y was passed when a 1d array was expected. Please change the shape of y to (n_samples, ), for example using ravel().\n",
      "  return f(**kwargs)\n",
      "c:\\users\\user\\miniconda3\\envs\\bd\\lib\\site-packages\\sklearn\\utils\\validation.py:72: DataConversionWarning: A column-vector y was passed when a 1d array was expected. Please change the shape of y to (n_samples, ), for example using ravel().\n",
      "  return f(**kwargs)\n",
      "c:\\users\\user\\miniconda3\\envs\\bd\\lib\\site-packages\\sklearn\\utils\\validation.py:72: DataConversionWarning: A column-vector y was passed when a 1d array was expected. Please change the shape of y to (n_samples, ), for example using ravel().\n",
      "  return f(**kwargs)\n",
      "c:\\users\\user\\miniconda3\\envs\\bd\\lib\\site-packages\\sklearn\\utils\\validation.py:72: DataConversionWarning: A column-vector y was passed when a 1d array was expected. Please change the shape of y to (n_samples, ), for example using ravel().\n",
      "  return f(**kwargs)\n",
      "c:\\users\\user\\miniconda3\\envs\\bd\\lib\\site-packages\\sklearn\\utils\\validation.py:72: DataConversionWarning: A column-vector y was passed when a 1d array was expected. Please change the shape of y to (n_samples, ), for example using ravel().\n",
      "  return f(**kwargs)\n",
      "c:\\users\\user\\miniconda3\\envs\\bd\\lib\\site-packages\\sklearn\\utils\\validation.py:72: DataConversionWarning: A column-vector y was passed when a 1d array was expected. Please change the shape of y to (n_samples, ), for example using ravel().\n",
      "  return f(**kwargs)\n",
      "c:\\users\\user\\miniconda3\\envs\\bd\\lib\\site-packages\\sklearn\\utils\\validation.py:72: DataConversionWarning: A column-vector y was passed when a 1d array was expected. Please change the shape of y to (n_samples, ), for example using ravel().\n",
      "  return f(**kwargs)\n",
      "c:\\users\\user\\miniconda3\\envs\\bd\\lib\\site-packages\\sklearn\\utils\\validation.py:72: DataConversionWarning: A column-vector y was passed when a 1d array was expected. Please change the shape of y to (n_samples, ), for example using ravel().\n",
      "  return f(**kwargs)\n",
      "c:\\users\\user\\miniconda3\\envs\\bd\\lib\\site-packages\\sklearn\\utils\\validation.py:72: DataConversionWarning: A column-vector y was passed when a 1d array was expected. Please change the shape of y to (n_samples, ), for example using ravel().\n",
      "  return f(**kwargs)\n",
      "c:\\users\\user\\miniconda3\\envs\\bd\\lib\\site-packages\\sklearn\\utils\\validation.py:72: DataConversionWarning: A column-vector y was passed when a 1d array was expected. Please change the shape of y to (n_samples, ), for example using ravel().\n",
      "  return f(**kwargs)\n",
      "c:\\users\\user\\miniconda3\\envs\\bd\\lib\\site-packages\\sklearn\\utils\\validation.py:72: DataConversionWarning: A column-vector y was passed when a 1d array was expected. Please change the shape of y to (n_samples, ), for example using ravel().\n",
      "  return f(**kwargs)\n",
      "c:\\users\\user\\miniconda3\\envs\\bd\\lib\\site-packages\\sklearn\\utils\\validation.py:72: DataConversionWarning: A column-vector y was passed when a 1d array was expected. Please change the shape of y to (n_samples, ), for example using ravel().\n",
      "  return f(**kwargs)\n",
      "c:\\users\\user\\miniconda3\\envs\\bd\\lib\\site-packages\\sklearn\\utils\\validation.py:72: DataConversionWarning: A column-vector y was passed when a 1d array was expected. Please change the shape of y to (n_samples, ), for example using ravel().\n",
      "  return f(**kwargs)\n",
      "c:\\users\\user\\miniconda3\\envs\\bd\\lib\\site-packages\\sklearn\\utils\\validation.py:72: DataConversionWarning: A column-vector y was passed when a 1d array was expected. Please change the shape of y to (n_samples, ), for example using ravel().\n",
      "  return f(**kwargs)\n",
      "c:\\users\\user\\miniconda3\\envs\\bd\\lib\\site-packages\\sklearn\\utils\\validation.py:72: DataConversionWarning: A column-vector y was passed when a 1d array was expected. Please change the shape of y to (n_samples, ), for example using ravel().\n",
      "  return f(**kwargs)\n",
      "c:\\users\\user\\miniconda3\\envs\\bd\\lib\\site-packages\\sklearn\\utils\\validation.py:72: DataConversionWarning: A column-vector y was passed when a 1d array was expected. Please change the shape of y to (n_samples, ), for example using ravel().\n",
      "  return f(**kwargs)\n",
      "c:\\users\\user\\miniconda3\\envs\\bd\\lib\\site-packages\\sklearn\\utils\\validation.py:72: DataConversionWarning: A column-vector y was passed when a 1d array was expected. Please change the shape of y to (n_samples, ), for example using ravel().\n",
      "  return f(**kwargs)\n",
      "c:\\users\\user\\miniconda3\\envs\\bd\\lib\\site-packages\\sklearn\\utils\\validation.py:72: DataConversionWarning: A column-vector y was passed when a 1d array was expected. Please change the shape of y to (n_samples, ), for example using ravel().\n",
      "  return f(**kwargs)\n",
      "c:\\users\\user\\miniconda3\\envs\\bd\\lib\\site-packages\\sklearn\\utils\\validation.py:72: DataConversionWarning: A column-vector y was passed when a 1d array was expected. Please change the shape of y to (n_samples, ), for example using ravel().\n",
      "  return f(**kwargs)\n",
      "c:\\users\\user\\miniconda3\\envs\\bd\\lib\\site-packages\\sklearn\\utils\\validation.py:72: DataConversionWarning: A column-vector y was passed when a 1d array was expected. Please change the shape of y to (n_samples, ), for example using ravel().\n",
      "  return f(**kwargs)\n",
      "c:\\users\\user\\miniconda3\\envs\\bd\\lib\\site-packages\\sklearn\\utils\\validation.py:72: DataConversionWarning: A column-vector y was passed when a 1d array was expected. Please change the shape of y to (n_samples, ), for example using ravel().\n",
      "  return f(**kwargs)\n",
      "c:\\users\\user\\miniconda3\\envs\\bd\\lib\\site-packages\\sklearn\\utils\\validation.py:72: DataConversionWarning: A column-vector y was passed when a 1d array was expected. Please change the shape of y to (n_samples, ), for example using ravel().\n",
      "  return f(**kwargs)\n",
      "c:\\users\\user\\miniconda3\\envs\\bd\\lib\\site-packages\\sklearn\\utils\\validation.py:72: DataConversionWarning: A column-vector y was passed when a 1d array was expected. Please change the shape of y to (n_samples, ), for example using ravel().\n",
      "  return f(**kwargs)\n",
      "c:\\users\\user\\miniconda3\\envs\\bd\\lib\\site-packages\\sklearn\\utils\\validation.py:72: DataConversionWarning: A column-vector y was passed when a 1d array was expected. Please change the shape of y to (n_samples, ), for example using ravel().\n",
      "  return f(**kwargs)\n",
      "c:\\users\\user\\miniconda3\\envs\\bd\\lib\\site-packages\\sklearn\\utils\\validation.py:72: DataConversionWarning: A column-vector y was passed when a 1d array was expected. Please change the shape of y to (n_samples, ), for example using ravel().\n",
      "  return f(**kwargs)\n",
      "c:\\users\\user\\miniconda3\\envs\\bd\\lib\\site-packages\\sklearn\\utils\\validation.py:72: DataConversionWarning: A column-vector y was passed when a 1d array was expected. Please change the shape of y to (n_samples, ), for example using ravel().\n",
      "  return f(**kwargs)\n",
      "c:\\users\\user\\miniconda3\\envs\\bd\\lib\\site-packages\\sklearn\\utils\\validation.py:72: DataConversionWarning: A column-vector y was passed when a 1d array was expected. Please change the shape of y to (n_samples, ), for example using ravel().\n",
      "  return f(**kwargs)\n",
      "c:\\users\\user\\miniconda3\\envs\\bd\\lib\\site-packages\\sklearn\\utils\\validation.py:72: DataConversionWarning: A column-vector y was passed when a 1d array was expected. Please change the shape of y to (n_samples, ), for example using ravel().\n",
      "  return f(**kwargs)\n",
      "c:\\users\\user\\miniconda3\\envs\\bd\\lib\\site-packages\\sklearn\\utils\\validation.py:72: DataConversionWarning: A column-vector y was passed when a 1d array was expected. Please change the shape of y to (n_samples, ), for example using ravel().\n",
      "  return f(**kwargs)\n",
      "c:\\users\\user\\miniconda3\\envs\\bd\\lib\\site-packages\\sklearn\\utils\\validation.py:72: DataConversionWarning: A column-vector y was passed when a 1d array was expected. Please change the shape of y to (n_samples, ), for example using ravel().\n",
      "  return f(**kwargs)\n",
      "c:\\users\\user\\miniconda3\\envs\\bd\\lib\\site-packages\\sklearn\\utils\\validation.py:72: DataConversionWarning: A column-vector y was passed when a 1d array was expected. Please change the shape of y to (n_samples, ), for example using ravel().\n",
      "  return f(**kwargs)\n",
      "c:\\users\\user\\miniconda3\\envs\\bd\\lib\\site-packages\\sklearn\\utils\\validation.py:72: DataConversionWarning: A column-vector y was passed when a 1d array was expected. Please change the shape of y to (n_samples, ), for example using ravel().\n",
      "  return f(**kwargs)\n",
      "c:\\users\\user\\miniconda3\\envs\\bd\\lib\\site-packages\\sklearn\\utils\\validation.py:72: DataConversionWarning: A column-vector y was passed when a 1d array was expected. Please change the shape of y to (n_samples, ), for example using ravel().\n",
      "  return f(**kwargs)\n",
      "c:\\users\\user\\miniconda3\\envs\\bd\\lib\\site-packages\\sklearn\\utils\\validation.py:72: DataConversionWarning: A column-vector y was passed when a 1d array was expected. Please change the shape of y to (n_samples, ), for example using ravel().\n",
      "  return f(**kwargs)\n",
      "c:\\users\\user\\miniconda3\\envs\\bd\\lib\\site-packages\\sklearn\\utils\\validation.py:72: DataConversionWarning: A column-vector y was passed when a 1d array was expected. Please change the shape of y to (n_samples, ), for example using ravel().\n",
      "  return f(**kwargs)\n",
      "c:\\users\\user\\miniconda3\\envs\\bd\\lib\\site-packages\\sklearn\\utils\\validation.py:72: DataConversionWarning: A column-vector y was passed when a 1d array was expected. Please change the shape of y to (n_samples, ), for example using ravel().\n",
      "  return f(**kwargs)\n",
      "c:\\users\\user\\miniconda3\\envs\\bd\\lib\\site-packages\\sklearn\\utils\\validation.py:72: DataConversionWarning: A column-vector y was passed when a 1d array was expected. Please change the shape of y to (n_samples, ), for example using ravel().\n",
      "  return f(**kwargs)\n"
     ]
    },
    {
     "name": "stdout",
     "output_type": "stream",
     "text": [
      "[CV] ............... C=1.2, max_iter=50, random_state=3, total=   0.0s\n",
      "[CV] C=1.2, max_iter=50, random_state=4 ..............................\n",
      "[CV] ............... C=1.2, max_iter=50, random_state=4, total=   0.0s\n",
      "[CV] C=1.2, max_iter=50, random_state=4 ..............................\n",
      "[CV] ............... C=1.2, max_iter=50, random_state=4, total=   0.0s\n",
      "[CV] C=1.2, max_iter=50, random_state=4 ..............................\n",
      "[CV] ............... C=1.2, max_iter=50, random_state=4, total=   0.0s\n",
      "[CV] C=1.2, max_iter=100, random_state=1 .............................\n",
      "[CV] .............. C=1.2, max_iter=100, random_state=1, total=   0.0s\n",
      "[CV] C=1.2, max_iter=100, random_state=1 .............................\n",
      "[CV] .............. C=1.2, max_iter=100, random_state=1, total=   0.0s\n",
      "[CV] C=1.2, max_iter=100, random_state=1 .............................\n",
      "[CV] .............. C=1.2, max_iter=100, random_state=1, total=   0.0s\n",
      "[CV] C=1.2, max_iter=100, random_state=2 .............................\n",
      "[CV] .............. C=1.2, max_iter=100, random_state=2, total=   0.0s\n",
      "[CV] C=1.2, max_iter=100, random_state=2 .............................\n",
      "[CV] .............. C=1.2, max_iter=100, random_state=2, total=   0.0s\n",
      "[CV] C=1.2, max_iter=100, random_state=2 .............................\n",
      "[CV] .............. C=1.2, max_iter=100, random_state=2, total=   0.0s\n",
      "[CV] C=1.2, max_iter=100, random_state=3 .............................\n",
      "[CV] .............. C=1.2, max_iter=100, random_state=3, total=   0.0s\n",
      "[CV] C=1.2, max_iter=100, random_state=3 .............................\n",
      "[CV] .............. C=1.2, max_iter=100, random_state=3, total=   0.0s\n",
      "[CV] C=1.2, max_iter=100, random_state=3 .............................\n",
      "[CV] .............. C=1.2, max_iter=100, random_state=3, total=   0.0s\n",
      "[CV] C=1.2, max_iter=100, random_state=4 .............................\n",
      "[CV] .............. C=1.2, max_iter=100, random_state=4, total=   0.0s\n",
      "[CV] C=1.2, max_iter=100, random_state=4 .............................\n",
      "[CV] .............. C=1.2, max_iter=100, random_state=4, total=   0.0s\n",
      "[CV] C=1.2, max_iter=100, random_state=4 .............................\n",
      "[CV] .............. C=1.2, max_iter=100, random_state=4, total=   0.0s\n",
      "[CV] C=1.2, max_iter=150, random_state=1 .............................\n",
      "[CV] .............. C=1.2, max_iter=150, random_state=1, total=   0.0s\n",
      "[CV] C=1.2, max_iter=150, random_state=1 .............................\n",
      "[CV] .............. C=1.2, max_iter=150, random_state=1, total=   0.0s\n",
      "[CV] C=1.2, max_iter=150, random_state=1 .............................\n",
      "[CV] .............. C=1.2, max_iter=150, random_state=1, total=   0.0s\n",
      "[CV] C=1.2, max_iter=150, random_state=2 .............................\n",
      "[CV] .............. C=1.2, max_iter=150, random_state=2, total=   0.0s\n",
      "[CV] C=1.2, max_iter=150, random_state=2 .............................\n",
      "[CV] .............. C=1.2, max_iter=150, random_state=2, total=   0.0s\n",
      "[CV] C=1.2, max_iter=150, random_state=2 .............................\n",
      "[CV] .............. C=1.2, max_iter=150, random_state=2, total=   0.0s\n",
      "[CV] C=1.2, max_iter=150, random_state=3 .............................\n",
      "[CV] .............. C=1.2, max_iter=150, random_state=3, total=   0.0s\n",
      "[CV] C=1.2, max_iter=150, random_state=3 .............................\n",
      "[CV] .............. C=1.2, max_iter=150, random_state=3, total=   0.0s\n",
      "[CV] C=1.2, max_iter=150, random_state=3 .............................\n",
      "[CV] .............. C=1.2, max_iter=150, random_state=3, total=   0.0s\n",
      "[CV] C=1.2, max_iter=150, random_state=4 .............................\n",
      "[CV] .............. C=1.2, max_iter=150, random_state=4, total=   0.0s\n",
      "[CV] C=1.2, max_iter=150, random_state=4 .............................\n",
      "[CV] .............. C=1.2, max_iter=150, random_state=4, total=   0.0s\n",
      "[CV] C=1.2, max_iter=150, random_state=4 .............................\n",
      "[CV] .............. C=1.2, max_iter=150, random_state=4, total=   0.0s\n",
      "[CV] C=1.5, max_iter=50, random_state=1 ..............................\n",
      "[CV] ............... C=1.5, max_iter=50, random_state=1, total=   0.0s\n",
      "[CV] C=1.5, max_iter=50, random_state=1 ..............................\n",
      "[CV] ............... C=1.5, max_iter=50, random_state=1, total=   0.0s\n",
      "[CV] C=1.5, max_iter=50, random_state=1 ..............................\n",
      "[CV] ............... C=1.5, max_iter=50, random_state=1, total=   0.0s\n",
      "[CV] C=1.5, max_iter=50, random_state=2 ..............................\n",
      "[CV] ............... C=1.5, max_iter=50, random_state=2, total=   0.0s\n",
      "[CV] C=1.5, max_iter=50, random_state=2 ..............................\n",
      "[CV] ............... C=1.5, max_iter=50, random_state=2, total=   0.0s\n",
      "[CV] C=1.5, max_iter=50, random_state=2 ..............................\n",
      "[CV] ............... C=1.5, max_iter=50, random_state=2, total=   0.0s\n",
      "[CV] C=1.5, max_iter=50, random_state=3 ..............................\n",
      "[CV] ............... C=1.5, max_iter=50, random_state=3, total=   0.0s\n",
      "[CV] C=1.5, max_iter=50, random_state=3 ..............................\n",
      "[CV] ............... C=1.5, max_iter=50, random_state=3, total=   0.0s\n",
      "[CV] C=1.5, max_iter=50, random_state=3 ..............................\n",
      "[CV] ............... C=1.5, max_iter=50, random_state=3, total=   0.0s\n",
      "[CV] C=1.5, max_iter=50, random_state=4 ..............................\n",
      "[CV] ............... C=1.5, max_iter=50, random_state=4, total=   0.0s\n",
      "[CV] C=1.5, max_iter=50, random_state=4 ..............................\n",
      "[CV] ............... C=1.5, max_iter=50, random_state=4, total=   0.0s\n",
      "[CV] C=1.5, max_iter=50, random_state=4 ..............................\n"
     ]
    },
    {
     "name": "stderr",
     "output_type": "stream",
     "text": [
      "c:\\users\\user\\miniconda3\\envs\\bd\\lib\\site-packages\\sklearn\\utils\\validation.py:72: DataConversionWarning: A column-vector y was passed when a 1d array was expected. Please change the shape of y to (n_samples, ), for example using ravel().\n",
      "  return f(**kwargs)\n",
      "c:\\users\\user\\miniconda3\\envs\\bd\\lib\\site-packages\\sklearn\\utils\\validation.py:72: DataConversionWarning: A column-vector y was passed when a 1d array was expected. Please change the shape of y to (n_samples, ), for example using ravel().\n",
      "  return f(**kwargs)\n",
      "c:\\users\\user\\miniconda3\\envs\\bd\\lib\\site-packages\\sklearn\\utils\\validation.py:72: DataConversionWarning: A column-vector y was passed when a 1d array was expected. Please change the shape of y to (n_samples, ), for example using ravel().\n",
      "  return f(**kwargs)\n",
      "c:\\users\\user\\miniconda3\\envs\\bd\\lib\\site-packages\\sklearn\\utils\\validation.py:72: DataConversionWarning: A column-vector y was passed when a 1d array was expected. Please change the shape of y to (n_samples, ), for example using ravel().\n",
      "  return f(**kwargs)\n",
      "c:\\users\\user\\miniconda3\\envs\\bd\\lib\\site-packages\\sklearn\\utils\\validation.py:72: DataConversionWarning: A column-vector y was passed when a 1d array was expected. Please change the shape of y to (n_samples, ), for example using ravel().\n",
      "  return f(**kwargs)\n",
      "c:\\users\\user\\miniconda3\\envs\\bd\\lib\\site-packages\\sklearn\\utils\\validation.py:72: DataConversionWarning: A column-vector y was passed when a 1d array was expected. Please change the shape of y to (n_samples, ), for example using ravel().\n",
      "  return f(**kwargs)\n",
      "c:\\users\\user\\miniconda3\\envs\\bd\\lib\\site-packages\\sklearn\\utils\\validation.py:72: DataConversionWarning: A column-vector y was passed when a 1d array was expected. Please change the shape of y to (n_samples, ), for example using ravel().\n",
      "  return f(**kwargs)\n",
      "c:\\users\\user\\miniconda3\\envs\\bd\\lib\\site-packages\\sklearn\\utils\\validation.py:72: DataConversionWarning: A column-vector y was passed when a 1d array was expected. Please change the shape of y to (n_samples, ), for example using ravel().\n",
      "  return f(**kwargs)\n",
      "c:\\users\\user\\miniconda3\\envs\\bd\\lib\\site-packages\\sklearn\\utils\\validation.py:72: DataConversionWarning: A column-vector y was passed when a 1d array was expected. Please change the shape of y to (n_samples, ), for example using ravel().\n",
      "  return f(**kwargs)\n",
      "c:\\users\\user\\miniconda3\\envs\\bd\\lib\\site-packages\\sklearn\\utils\\validation.py:72: DataConversionWarning: A column-vector y was passed when a 1d array was expected. Please change the shape of y to (n_samples, ), for example using ravel().\n",
      "  return f(**kwargs)\n",
      "c:\\users\\user\\miniconda3\\envs\\bd\\lib\\site-packages\\sklearn\\utils\\validation.py:72: DataConversionWarning: A column-vector y was passed when a 1d array was expected. Please change the shape of y to (n_samples, ), for example using ravel().\n",
      "  return f(**kwargs)\n",
      "c:\\users\\user\\miniconda3\\envs\\bd\\lib\\site-packages\\sklearn\\utils\\validation.py:72: DataConversionWarning: A column-vector y was passed when a 1d array was expected. Please change the shape of y to (n_samples, ), for example using ravel().\n",
      "  return f(**kwargs)\n",
      "c:\\users\\user\\miniconda3\\envs\\bd\\lib\\site-packages\\sklearn\\utils\\validation.py:72: DataConversionWarning: A column-vector y was passed when a 1d array was expected. Please change the shape of y to (n_samples, ), for example using ravel().\n",
      "  return f(**kwargs)\n",
      "c:\\users\\user\\miniconda3\\envs\\bd\\lib\\site-packages\\sklearn\\utils\\validation.py:72: DataConversionWarning: A column-vector y was passed when a 1d array was expected. Please change the shape of y to (n_samples, ), for example using ravel().\n",
      "  return f(**kwargs)\n",
      "c:\\users\\user\\miniconda3\\envs\\bd\\lib\\site-packages\\sklearn\\utils\\validation.py:72: DataConversionWarning: A column-vector y was passed when a 1d array was expected. Please change the shape of y to (n_samples, ), for example using ravel().\n",
      "  return f(**kwargs)\n",
      "c:\\users\\user\\miniconda3\\envs\\bd\\lib\\site-packages\\sklearn\\utils\\validation.py:72: DataConversionWarning: A column-vector y was passed when a 1d array was expected. Please change the shape of y to (n_samples, ), for example using ravel().\n",
      "  return f(**kwargs)\n",
      "c:\\users\\user\\miniconda3\\envs\\bd\\lib\\site-packages\\sklearn\\utils\\validation.py:72: DataConversionWarning: A column-vector y was passed when a 1d array was expected. Please change the shape of y to (n_samples, ), for example using ravel().\n",
      "  return f(**kwargs)\n",
      "c:\\users\\user\\miniconda3\\envs\\bd\\lib\\site-packages\\sklearn\\utils\\validation.py:72: DataConversionWarning: A column-vector y was passed when a 1d array was expected. Please change the shape of y to (n_samples, ), for example using ravel().\n",
      "  return f(**kwargs)\n",
      "c:\\users\\user\\miniconda3\\envs\\bd\\lib\\site-packages\\sklearn\\utils\\validation.py:72: DataConversionWarning: A column-vector y was passed when a 1d array was expected. Please change the shape of y to (n_samples, ), for example using ravel().\n",
      "  return f(**kwargs)\n",
      "c:\\users\\user\\miniconda3\\envs\\bd\\lib\\site-packages\\sklearn\\utils\\validation.py:72: DataConversionWarning: A column-vector y was passed when a 1d array was expected. Please change the shape of y to (n_samples, ), for example using ravel().\n",
      "  return f(**kwargs)\n",
      "c:\\users\\user\\miniconda3\\envs\\bd\\lib\\site-packages\\sklearn\\utils\\validation.py:72: DataConversionWarning: A column-vector y was passed when a 1d array was expected. Please change the shape of y to (n_samples, ), for example using ravel().\n",
      "  return f(**kwargs)\n",
      "c:\\users\\user\\miniconda3\\envs\\bd\\lib\\site-packages\\sklearn\\utils\\validation.py:72: DataConversionWarning: A column-vector y was passed when a 1d array was expected. Please change the shape of y to (n_samples, ), for example using ravel().\n",
      "  return f(**kwargs)\n",
      "c:\\users\\user\\miniconda3\\envs\\bd\\lib\\site-packages\\sklearn\\utils\\validation.py:72: DataConversionWarning: A column-vector y was passed when a 1d array was expected. Please change the shape of y to (n_samples, ), for example using ravel().\n",
      "  return f(**kwargs)\n",
      "c:\\users\\user\\miniconda3\\envs\\bd\\lib\\site-packages\\sklearn\\utils\\validation.py:72: DataConversionWarning: A column-vector y was passed when a 1d array was expected. Please change the shape of y to (n_samples, ), for example using ravel().\n",
      "  return f(**kwargs)\n",
      "c:\\users\\user\\miniconda3\\envs\\bd\\lib\\site-packages\\sklearn\\utils\\validation.py:72: DataConversionWarning: A column-vector y was passed when a 1d array was expected. Please change the shape of y to (n_samples, ), for example using ravel().\n",
      "  return f(**kwargs)\n",
      "c:\\users\\user\\miniconda3\\envs\\bd\\lib\\site-packages\\sklearn\\utils\\validation.py:72: DataConversionWarning: A column-vector y was passed when a 1d array was expected. Please change the shape of y to (n_samples, ), for example using ravel().\n",
      "  return f(**kwargs)\n",
      "c:\\users\\user\\miniconda3\\envs\\bd\\lib\\site-packages\\sklearn\\utils\\validation.py:72: DataConversionWarning: A column-vector y was passed when a 1d array was expected. Please change the shape of y to (n_samples, ), for example using ravel().\n",
      "  return f(**kwargs)\n",
      "c:\\users\\user\\miniconda3\\envs\\bd\\lib\\site-packages\\sklearn\\utils\\validation.py:72: DataConversionWarning: A column-vector y was passed when a 1d array was expected. Please change the shape of y to (n_samples, ), for example using ravel().\n",
      "  return f(**kwargs)\n",
      "c:\\users\\user\\miniconda3\\envs\\bd\\lib\\site-packages\\sklearn\\utils\\validation.py:72: DataConversionWarning: A column-vector y was passed when a 1d array was expected. Please change the shape of y to (n_samples, ), for example using ravel().\n",
      "  return f(**kwargs)\n",
      "c:\\users\\user\\miniconda3\\envs\\bd\\lib\\site-packages\\sklearn\\utils\\validation.py:72: DataConversionWarning: A column-vector y was passed when a 1d array was expected. Please change the shape of y to (n_samples, ), for example using ravel().\n",
      "  return f(**kwargs)\n",
      "c:\\users\\user\\miniconda3\\envs\\bd\\lib\\site-packages\\sklearn\\utils\\validation.py:72: DataConversionWarning: A column-vector y was passed when a 1d array was expected. Please change the shape of y to (n_samples, ), for example using ravel().\n",
      "  return f(**kwargs)\n",
      "c:\\users\\user\\miniconda3\\envs\\bd\\lib\\site-packages\\sklearn\\utils\\validation.py:72: DataConversionWarning: A column-vector y was passed when a 1d array was expected. Please change the shape of y to (n_samples, ), for example using ravel().\n",
      "  return f(**kwargs)\n",
      "c:\\users\\user\\miniconda3\\envs\\bd\\lib\\site-packages\\sklearn\\utils\\validation.py:72: DataConversionWarning: A column-vector y was passed when a 1d array was expected. Please change the shape of y to (n_samples, ), for example using ravel().\n",
      "  return f(**kwargs)\n",
      "c:\\users\\user\\miniconda3\\envs\\bd\\lib\\site-packages\\sklearn\\utils\\validation.py:72: DataConversionWarning: A column-vector y was passed when a 1d array was expected. Please change the shape of y to (n_samples, ), for example using ravel().\n",
      "  return f(**kwargs)\n",
      "c:\\users\\user\\miniconda3\\envs\\bd\\lib\\site-packages\\sklearn\\utils\\validation.py:72: DataConversionWarning: A column-vector y was passed when a 1d array was expected. Please change the shape of y to (n_samples, ), for example using ravel().\n",
      "  return f(**kwargs)\n",
      "c:\\users\\user\\miniconda3\\envs\\bd\\lib\\site-packages\\sklearn\\utils\\validation.py:72: DataConversionWarning: A column-vector y was passed when a 1d array was expected. Please change the shape of y to (n_samples, ), for example using ravel().\n",
      "  return f(**kwargs)\n",
      "c:\\users\\user\\miniconda3\\envs\\bd\\lib\\site-packages\\sklearn\\utils\\validation.py:72: DataConversionWarning: A column-vector y was passed when a 1d array was expected. Please change the shape of y to (n_samples, ), for example using ravel().\n",
      "  return f(**kwargs)\n",
      "c:\\users\\user\\miniconda3\\envs\\bd\\lib\\site-packages\\sklearn\\utils\\validation.py:72: DataConversionWarning: A column-vector y was passed when a 1d array was expected. Please change the shape of y to (n_samples, ), for example using ravel().\n",
      "  return f(**kwargs)\n",
      "c:\\users\\user\\miniconda3\\envs\\bd\\lib\\site-packages\\sklearn\\utils\\validation.py:72: DataConversionWarning: A column-vector y was passed when a 1d array was expected. Please change the shape of y to (n_samples, ), for example using ravel().\n",
      "  return f(**kwargs)\n"
     ]
    },
    {
     "name": "stdout",
     "output_type": "stream",
     "text": [
      "[CV] ............... C=1.5, max_iter=50, random_state=4, total=   0.0s\n",
      "[CV] C=1.5, max_iter=100, random_state=1 .............................\n",
      "[CV] .............. C=1.5, max_iter=100, random_state=1, total=   0.0s\n",
      "[CV] C=1.5, max_iter=100, random_state=1 .............................\n",
      "[CV] .............. C=1.5, max_iter=100, random_state=1, total=   0.0s\n",
      "[CV] C=1.5, max_iter=100, random_state=1 .............................\n",
      "[CV] .............. C=1.5, max_iter=100, random_state=1, total=   0.0s\n",
      "[CV] C=1.5, max_iter=100, random_state=2 .............................\n",
      "[CV] .............. C=1.5, max_iter=100, random_state=2, total=   0.0s\n",
      "[CV] C=1.5, max_iter=100, random_state=2 .............................\n",
      "[CV] .............. C=1.5, max_iter=100, random_state=2, total=   0.0s\n",
      "[CV] C=1.5, max_iter=100, random_state=2 .............................\n",
      "[CV] .............. C=1.5, max_iter=100, random_state=2, total=   0.0s\n",
      "[CV] C=1.5, max_iter=100, random_state=3 .............................\n",
      "[CV] .............. C=1.5, max_iter=100, random_state=3, total=   0.0s\n",
      "[CV] C=1.5, max_iter=100, random_state=3 .............................\n",
      "[CV] .............. C=1.5, max_iter=100, random_state=3, total=   0.0s\n",
      "[CV] C=1.5, max_iter=100, random_state=3 .............................\n",
      "[CV] .............. C=1.5, max_iter=100, random_state=3, total=   0.0s\n",
      "[CV] C=1.5, max_iter=100, random_state=4 .............................\n",
      "[CV] .............. C=1.5, max_iter=100, random_state=4, total=   0.0s\n",
      "[CV] C=1.5, max_iter=100, random_state=4 .............................\n",
      "[CV] .............. C=1.5, max_iter=100, random_state=4, total=   0.0s\n",
      "[CV] C=1.5, max_iter=100, random_state=4 .............................\n",
      "[CV] .............. C=1.5, max_iter=100, random_state=4, total=   0.0s\n",
      "[CV] C=1.5, max_iter=150, random_state=1 .............................\n",
      "[CV] .............. C=1.5, max_iter=150, random_state=1, total=   0.0s\n",
      "[CV] C=1.5, max_iter=150, random_state=1 .............................\n",
      "[CV] .............. C=1.5, max_iter=150, random_state=1, total=   0.0s\n",
      "[CV] C=1.5, max_iter=150, random_state=1 .............................\n",
      "[CV] .............. C=1.5, max_iter=150, random_state=1, total=   0.0s\n",
      "[CV] C=1.5, max_iter=150, random_state=2 .............................\n",
      "[CV] .............. C=1.5, max_iter=150, random_state=2, total=   0.0s\n",
      "[CV] C=1.5, max_iter=150, random_state=2 .............................\n",
      "[CV] .............. C=1.5, max_iter=150, random_state=2, total=   0.0s\n",
      "[CV] C=1.5, max_iter=150, random_state=2 .............................\n",
      "[CV] .............. C=1.5, max_iter=150, random_state=2, total=   0.0s\n",
      "[CV] C=1.5, max_iter=150, random_state=3 .............................\n",
      "[CV] .............. C=1.5, max_iter=150, random_state=3, total=   0.0s\n",
      "[CV] C=1.5, max_iter=150, random_state=3 .............................\n",
      "[CV] .............. C=1.5, max_iter=150, random_state=3, total=   0.0s\n",
      "[CV] C=1.5, max_iter=150, random_state=3 .............................\n",
      "[CV] .............. C=1.5, max_iter=150, random_state=3, total=   0.0s\n",
      "[CV] C=1.5, max_iter=150, random_state=4 .............................\n",
      "[CV] .............. C=1.5, max_iter=150, random_state=4, total=   0.0s\n",
      "[CV] C=1.5, max_iter=150, random_state=4 .............................\n",
      "[CV] .............. C=1.5, max_iter=150, random_state=4, total=   0.0s\n",
      "[CV] C=1.5, max_iter=150, random_state=4 .............................\n",
      "[CV] .............. C=1.5, max_iter=150, random_state=4, total=   0.0s\n",
      "best score: 0.793, best params: {'C': 1.2, 'max_iter': 50, 'random_state': 1}\n"
     ]
    },
    {
     "name": "stderr",
     "output_type": "stream",
     "text": [
      "c:\\users\\user\\miniconda3\\envs\\bd\\lib\\site-packages\\sklearn\\utils\\validation.py:72: DataConversionWarning: A column-vector y was passed when a 1d array was expected. Please change the shape of y to (n_samples, ), for example using ravel().\n",
      "  return f(**kwargs)\n",
      "c:\\users\\user\\miniconda3\\envs\\bd\\lib\\site-packages\\sklearn\\utils\\validation.py:72: DataConversionWarning: A column-vector y was passed when a 1d array was expected. Please change the shape of y to (n_samples, ), for example using ravel().\n",
      "  return f(**kwargs)\n",
      "c:\\users\\user\\miniconda3\\envs\\bd\\lib\\site-packages\\sklearn\\utils\\validation.py:72: DataConversionWarning: A column-vector y was passed when a 1d array was expected. Please change the shape of y to (n_samples, ), for example using ravel().\n",
      "  return f(**kwargs)\n",
      "c:\\users\\user\\miniconda3\\envs\\bd\\lib\\site-packages\\sklearn\\utils\\validation.py:72: DataConversionWarning: A column-vector y was passed when a 1d array was expected. Please change the shape of y to (n_samples, ), for example using ravel().\n",
      "  return f(**kwargs)\n",
      "c:\\users\\user\\miniconda3\\envs\\bd\\lib\\site-packages\\sklearn\\utils\\validation.py:72: DataConversionWarning: A column-vector y was passed when a 1d array was expected. Please change the shape of y to (n_samples, ), for example using ravel().\n",
      "  return f(**kwargs)\n",
      "c:\\users\\user\\miniconda3\\envs\\bd\\lib\\site-packages\\sklearn\\utils\\validation.py:72: DataConversionWarning: A column-vector y was passed when a 1d array was expected. Please change the shape of y to (n_samples, ), for example using ravel().\n",
      "  return f(**kwargs)\n",
      "c:\\users\\user\\miniconda3\\envs\\bd\\lib\\site-packages\\sklearn\\utils\\validation.py:72: DataConversionWarning: A column-vector y was passed when a 1d array was expected. Please change the shape of y to (n_samples, ), for example using ravel().\n",
      "  return f(**kwargs)\n",
      "c:\\users\\user\\miniconda3\\envs\\bd\\lib\\site-packages\\sklearn\\utils\\validation.py:72: DataConversionWarning: A column-vector y was passed when a 1d array was expected. Please change the shape of y to (n_samples, ), for example using ravel().\n",
      "  return f(**kwargs)\n",
      "c:\\users\\user\\miniconda3\\envs\\bd\\lib\\site-packages\\sklearn\\utils\\validation.py:72: DataConversionWarning: A column-vector y was passed when a 1d array was expected. Please change the shape of y to (n_samples, ), for example using ravel().\n",
      "  return f(**kwargs)\n",
      "c:\\users\\user\\miniconda3\\envs\\bd\\lib\\site-packages\\sklearn\\utils\\validation.py:72: DataConversionWarning: A column-vector y was passed when a 1d array was expected. Please change the shape of y to (n_samples, ), for example using ravel().\n",
      "  return f(**kwargs)\n",
      "c:\\users\\user\\miniconda3\\envs\\bd\\lib\\site-packages\\sklearn\\utils\\validation.py:72: DataConversionWarning: A column-vector y was passed when a 1d array was expected. Please change the shape of y to (n_samples, ), for example using ravel().\n",
      "  return f(**kwargs)\n",
      "c:\\users\\user\\miniconda3\\envs\\bd\\lib\\site-packages\\sklearn\\utils\\validation.py:72: DataConversionWarning: A column-vector y was passed when a 1d array was expected. Please change the shape of y to (n_samples, ), for example using ravel().\n",
      "  return f(**kwargs)\n",
      "c:\\users\\user\\miniconda3\\envs\\bd\\lib\\site-packages\\sklearn\\utils\\validation.py:72: DataConversionWarning: A column-vector y was passed when a 1d array was expected. Please change the shape of y to (n_samples, ), for example using ravel().\n",
      "  return f(**kwargs)\n",
      "c:\\users\\user\\miniconda3\\envs\\bd\\lib\\site-packages\\sklearn\\utils\\validation.py:72: DataConversionWarning: A column-vector y was passed when a 1d array was expected. Please change the shape of y to (n_samples, ), for example using ravel().\n",
      "  return f(**kwargs)\n",
      "c:\\users\\user\\miniconda3\\envs\\bd\\lib\\site-packages\\sklearn\\utils\\validation.py:72: DataConversionWarning: A column-vector y was passed when a 1d array was expected. Please change the shape of y to (n_samples, ), for example using ravel().\n",
      "  return f(**kwargs)\n",
      "c:\\users\\user\\miniconda3\\envs\\bd\\lib\\site-packages\\sklearn\\utils\\validation.py:72: DataConversionWarning: A column-vector y was passed when a 1d array was expected. Please change the shape of y to (n_samples, ), for example using ravel().\n",
      "  return f(**kwargs)\n",
      "c:\\users\\user\\miniconda3\\envs\\bd\\lib\\site-packages\\sklearn\\utils\\validation.py:72: DataConversionWarning: A column-vector y was passed when a 1d array was expected. Please change the shape of y to (n_samples, ), for example using ravel().\n",
      "  return f(**kwargs)\n",
      "c:\\users\\user\\miniconda3\\envs\\bd\\lib\\site-packages\\sklearn\\utils\\validation.py:72: DataConversionWarning: A column-vector y was passed when a 1d array was expected. Please change the shape of y to (n_samples, ), for example using ravel().\n",
      "  return f(**kwargs)\n",
      "c:\\users\\user\\miniconda3\\envs\\bd\\lib\\site-packages\\sklearn\\utils\\validation.py:72: DataConversionWarning: A column-vector y was passed when a 1d array was expected. Please change the shape of y to (n_samples, ), for example using ravel().\n",
      "  return f(**kwargs)\n",
      "c:\\users\\user\\miniconda3\\envs\\bd\\lib\\site-packages\\sklearn\\utils\\validation.py:72: DataConversionWarning: A column-vector y was passed when a 1d array was expected. Please change the shape of y to (n_samples, ), for example using ravel().\n",
      "  return f(**kwargs)\n",
      "c:\\users\\user\\miniconda3\\envs\\bd\\lib\\site-packages\\sklearn\\utils\\validation.py:72: DataConversionWarning: A column-vector y was passed when a 1d array was expected. Please change the shape of y to (n_samples, ), for example using ravel().\n",
      "  return f(**kwargs)\n",
      "c:\\users\\user\\miniconda3\\envs\\bd\\lib\\site-packages\\sklearn\\utils\\validation.py:72: DataConversionWarning: A column-vector y was passed when a 1d array was expected. Please change the shape of y to (n_samples, ), for example using ravel().\n",
      "  return f(**kwargs)\n",
      "c:\\users\\user\\miniconda3\\envs\\bd\\lib\\site-packages\\sklearn\\utils\\validation.py:72: DataConversionWarning: A column-vector y was passed when a 1d array was expected. Please change the shape of y to (n_samples, ), for example using ravel().\n",
      "  return f(**kwargs)\n",
      "c:\\users\\user\\miniconda3\\envs\\bd\\lib\\site-packages\\sklearn\\utils\\validation.py:72: DataConversionWarning: A column-vector y was passed when a 1d array was expected. Please change the shape of y to (n_samples, ), for example using ravel().\n",
      "  return f(**kwargs)\n",
      "[Parallel(n_jobs=1)]: Done 144 out of 144 | elapsed:    0.6s finished\n",
      "c:\\users\\user\\miniconda3\\envs\\bd\\lib\\site-packages\\sklearn\\utils\\validation.py:72: DataConversionWarning: A column-vector y was passed when a 1d array was expected. Please change the shape of y to (n_samples, ), for example using ravel().\n",
      "  return f(**kwargs)\n"
     ]
    }
   ],
   "source": [
    "#tunning hyperparameters: C(lambda) , max_iter , random_state\n",
    "\n",
    "reg=LogisticRegression()\n",
    "\n",
    "params={\n",
    "    'C':[0.5,1.0,1.2,1.5],\n",
    "    'max_iter':[50,100,150],\n",
    "    'random_state':[1,2,3,4]\n",
    "}\n",
    "grid=GridSearchCV(\n",
    "    reg,\n",
    "    params,\n",
    "    cv=3,\n",
    "    verbose=2,\n",
    "    scoring='accuracy',\n",
    "    refit=True\n",
    ")\n",
    "grid.fit(X_norm,y)\n",
    "print(\"best score: {:.3f}, best params: {}\".format(grid.best_score_, grid.best_params_))"
   ]
  },
  {
   "cell_type": "code",
   "execution_count": 431,
   "metadata": {},
   "outputs": [
    {
     "data": {
      "text/plain": [
       "<sklearn.metrics._plot.confusion_matrix.ConfusionMatrixDisplay at 0x1f3cf964080>"
      ]
     },
     "execution_count": 431,
     "metadata": {},
     "output_type": "execute_result"
    },
    {
     "data": {
      "image/png": "[encoded data removed]",
      "text/plain": [
       "<Figure size 432x288 with 2 Axes>"
      ]
     },
     "metadata": {},
     "output_type": "display_data"
    }
   ],
   "source": [
    "from sklearn.metrics import plot_confusion_matrix\n",
    "\n",
    "plot_confusion_matrix(grid.best_estimator_,X_test,y_test,labels=[0,1])"
   ]
  },
  {
   "cell_type": "markdown",
   "metadata": {},
   "source": [
    "# $deep\\ learning$"
   ]
  },
  {
   "cell_type": "code",
   "execution_count": 432,
   "metadata": {},
   "outputs": [],
   "source": [
    "#skorch method\n",
    "from skorch import NeuralNetBinaryClassifier\n",
    "from sklearn.model_selection import RandomizedSearchCV\n",
    "\n",
    "#pytorch\n",
    "import torch\n",
    "import torch.nn as nn\n",
    "import torch.optim as optim\n",
    "import torch.nn.functional as F"
   ]
  },
  {
   "cell_type": "code",
   "execution_count": 433,
   "metadata": {},
   "outputs": [],
   "source": [
    "#reprocess\n",
    "\n",
    "X = X.astype(np.float32)\n",
    "y = y.astype(np.float32).squeeze()\n",
    "\n",
    "#normalzie\n",
    "normalize=StandardScaler()\n",
    "normalize.fit(X)\n",
    "X_norm=normalize.transform(X)"
   ]
  },
  {
   "cell_type": "code",
   "execution_count": 434,
   "metadata": {},
   "outputs": [],
   "source": [
    "#model\n",
    "class logistic_network(nn.Module):\n",
    "    def __init__(self,prob,num_units=16):\n",
    "        super(logistic_network,self).__init__()\n",
    "        self.prob=prob\n",
    "        self.input=nn.Linear(8,num_units)\n",
    "        self.h=nn.Linear(num_units,num_units)\n",
    "        self.output=nn.Linear(num_units,1)\n",
    "        self.initialize()\n",
    "        \n",
    "        \n",
    "    #initialize\n",
    "    def initialize(self):\n",
    "        for name,params in logistic_network.named_parameters(self):\n",
    "            #relu layer initialize\n",
    "            if 'output.weight' not in name and 'weight' in name:\n",
    "                n=params.shape[1]\n",
    "                torch.nn.init.normal_(params, mean=0, std=torch.sqrt(torch.tensor(2/n)))\n",
    "        \n",
    "    def forward(self,X):\n",
    "        a1=F.relu(self.input(X))\n",
    "        a2=F.dropout(F.relu(self.h(a1)),p=self.prob, training=self.training)\n",
    "        a3=self.output(a2)\n",
    "        return a3"
   ]
  },
  {
   "cell_type": "code",
   "execution_count": 435,
   "metadata": {},
   "outputs": [],
   "source": [
    "#setting model\n",
    "\n",
    "#theshold default:0.5\n",
    "model = NeuralNetBinaryClassifier(\n",
    "    logistic_network,\n",
    "    max_epochs=100,\n",
    "    lr=0.001,\n",
    "    optimizer=optim.Adam, #optimizer\n",
    "    # Shuffle training data on each epoch\n",
    "    iterator_train__shuffle=True,\n",
    "    criterion=nn.BCEWithLogitsLoss,\n",
    "    device=torch.device('cuda'),\n",
    ")"
   ]
  },
  {
   "cell_type": "code",
   "execution_count": 465,
   "metadata": {},
   "outputs": [
    {
     "name": "stdout",
     "output_type": "stream",
     "text": [
      "Fitting 3 folds for each of 10 candidates, totalling 30 fits\n",
      "[CV] optimizer=<class 'torch.optim.adam.Adam'>, module__prob=0.5, module__num_units=16, max_epochs=100, lr=0.6688583650165781 \n"
     ]
    },
    {
     "name": "stderr",
     "output_type": "stream",
     "text": [
      "[Parallel(n_jobs=1)]: Using backend SequentialBackend with 1 concurrent workers.\n"
     ]
    },
    {
     "name": "stdout",
     "output_type": "stream",
     "text": [
      "[CV]  optimizer=<class 'torch.optim.adam.Adam'>, module__prob=0.5, module__num_units=16, max_epochs=100, lr=0.6688583650165781, total=   3.0s\n",
      "[CV] optimizer=<class 'torch.optim.adam.Adam'>, module__prob=0.5, module__num_units=16, max_epochs=100, lr=0.6688583650165781 \n"
     ]
    },
    {
     "name": "stderr",
     "output_type": "stream",
     "text": [
      "[Parallel(n_jobs=1)]: Done   1 out of   1 | elapsed:    2.9s remaining:    0.0s\n"
     ]
    },
    {
     "name": "stdout",
     "output_type": "stream",
     "text": [
      "[CV]  optimizer=<class 'torch.optim.adam.Adam'>, module__prob=0.5, module__num_units=16, max_epochs=100, lr=0.6688583650165781, total=   2.5s\n",
      "[CV] optimizer=<class 'torch.optim.adam.Adam'>, module__prob=0.5, module__num_units=16, max_epochs=100, lr=0.6688583650165781 \n",
      "[CV]  optimizer=<class 'torch.optim.adam.Adam'>, module__prob=0.5, module__num_units=16, max_epochs=100, lr=0.6688583650165781, total=   2.3s\n",
      "[CV] optimizer=<class 'torch.optim.rmsprop.RMSprop'>, module__prob=0.5, module__num_units=32, max_epochs=50, lr=0.0003031228692969355 \n",
      "[CV]  optimizer=<class 'torch.optim.rmsprop.RMSprop'>, module__prob=0.5, module__num_units=32, max_epochs=50, lr=0.0003031228692969355, total=   1.1s\n",
      "[CV] optimizer=<class 'torch.optim.rmsprop.RMSprop'>, module__prob=0.5, module__num_units=32, max_epochs=50, lr=0.0003031228692969355 \n",
      "[CV]  optimizer=<class 'torch.optim.rmsprop.RMSprop'>, module__prob=0.5, module__num_units=32, max_epochs=50, lr=0.0003031228692969355, total=   1.1s\n",
      "[CV] optimizer=<class 'torch.optim.rmsprop.RMSprop'>, module__prob=0.5, module__num_units=32, max_epochs=50, lr=0.0003031228692969355 \n",
      "[CV]  optimizer=<class 'torch.optim.rmsprop.RMSprop'>, module__prob=0.5, module__num_units=32, max_epochs=50, lr=0.0003031228692969355, total=   1.1s\n",
      "[CV] optimizer=<class 'torch.optim.sgd.SGD'>, module__prob=0.5, module__num_units=32, max_epochs=50, lr=0.0005338293590678158 \n",
      "[CV]  optimizer=<class 'torch.optim.sgd.SGD'>, module__prob=0.5, module__num_units=32, max_epochs=50, lr=0.0005338293590678158, total=   1.3s\n",
      "[CV] optimizer=<class 'torch.optim.sgd.SGD'>, module__prob=0.5, module__num_units=32, max_epochs=50, lr=0.0005338293590678158 \n",
      "[CV]  optimizer=<class 'torch.optim.sgd.SGD'>, module__prob=0.5, module__num_units=32, max_epochs=50, lr=0.0005338293590678158, total=   1.1s\n",
      "[CV] optimizer=<class 'torch.optim.sgd.SGD'>, module__prob=0.5, module__num_units=32, max_epochs=50, lr=0.0005338293590678158 \n",
      "[CV]  optimizer=<class 'torch.optim.sgd.SGD'>, module__prob=0.5, module__num_units=32, max_epochs=50, lr=0.0005338293590678158, total=   1.5s\n",
      "[CV] optimizer=<class 'torch.optim.rmsprop.RMSprop'>, module__prob=0.5, module__num_units=32, max_epochs=50, lr=0.04655088473695537 \n",
      "[CV]  optimizer=<class 'torch.optim.rmsprop.RMSprop'>, module__prob=0.5, module__num_units=32, max_epochs=50, lr=0.04655088473695537, total=   1.4s\n",
      "[CV] optimizer=<class 'torch.optim.rmsprop.RMSprop'>, module__prob=0.5, module__num_units=32, max_epochs=50, lr=0.04655088473695537 \n",
      "[CV]  optimizer=<class 'torch.optim.rmsprop.RMSprop'>, module__prob=0.5, module__num_units=32, max_epochs=50, lr=0.04655088473695537, total=   1.5s\n",
      "[CV] optimizer=<class 'torch.optim.rmsprop.RMSprop'>, module__prob=0.5, module__num_units=32, max_epochs=50, lr=0.04655088473695537 \n",
      "[CV]  optimizer=<class 'torch.optim.rmsprop.RMSprop'>, module__prob=0.5, module__num_units=32, max_epochs=50, lr=0.04655088473695537, total=   1.1s\n",
      "[CV] optimizer=<class 'torch.optim.rmsprop.RMSprop'>, module__prob=0.3, module__num_units=32, max_epochs=100, lr=0.0029348016949742738 \n",
      "[CV]  optimizer=<class 'torch.optim.rmsprop.RMSprop'>, module__prob=0.3, module__num_units=32, max_epochs=100, lr=0.0029348016949742738, total=   3.0s\n",
      "[CV] optimizer=<class 'torch.optim.rmsprop.RMSprop'>, module__prob=0.3, module__num_units=32, max_epochs=100, lr=0.0029348016949742738 \n",
      "[CV]  optimizer=<class 'torch.optim.rmsprop.RMSprop'>, module__prob=0.3, module__num_units=32, max_epochs=100, lr=0.0029348016949742738, total=   4.0s\n",
      "[CV] optimizer=<class 'torch.optim.rmsprop.RMSprop'>, module__prob=0.3, module__num_units=32, max_epochs=100, lr=0.0029348016949742738 \n",
      "[CV]  optimizer=<class 'torch.optim.rmsprop.RMSprop'>, module__prob=0.3, module__num_units=32, max_epochs=100, lr=0.0029348016949742738, total=   2.8s\n",
      "[CV] optimizer=<class 'torch.optim.sgd.SGD'>, module__prob=0.5, module__num_units=32, max_epochs=100, lr=0.23888318270944625 \n",
      "[CV]  optimizer=<class 'torch.optim.sgd.SGD'>, module__prob=0.5, module__num_units=32, max_epochs=100, lr=0.23888318270944625, total=   2.5s\n",
      "[CV] optimizer=<class 'torch.optim.sgd.SGD'>, module__prob=0.5, module__num_units=32, max_epochs=100, lr=0.23888318270944625 \n",
      "[CV]  optimizer=<class 'torch.optim.sgd.SGD'>, module__prob=0.5, module__num_units=32, max_epochs=100, lr=0.23888318270944625, total=   2.5s\n",
      "[CV] optimizer=<class 'torch.optim.sgd.SGD'>, module__prob=0.5, module__num_units=32, max_epochs=100, lr=0.23888318270944625 \n",
      "[CV]  optimizer=<class 'torch.optim.sgd.SGD'>, module__prob=0.5, module__num_units=32, max_epochs=100, lr=0.23888318270944625, total=   2.0s\n",
      "[CV] optimizer=<class 'torch.optim.rmsprop.RMSprop'>, module__prob=0.3, module__num_units=32, max_epochs=50, lr=0.000537058296565368 \n",
      "[CV]  optimizer=<class 'torch.optim.rmsprop.RMSprop'>, module__prob=0.3, module__num_units=32, max_epochs=50, lr=0.000537058296565368, total=   1.0s\n",
      "[CV] optimizer=<class 'torch.optim.rmsprop.RMSprop'>, module__prob=0.3, module__num_units=32, max_epochs=50, lr=0.000537058296565368 \n",
      "[CV]  optimizer=<class 'torch.optim.rmsprop.RMSprop'>, module__prob=0.3, module__num_units=32, max_epochs=50, lr=0.000537058296565368, total=   1.1s\n",
      "[CV] optimizer=<class 'torch.optim.rmsprop.RMSprop'>, module__prob=0.3, module__num_units=32, max_epochs=50, lr=0.000537058296565368 \n",
      "[CV]  optimizer=<class 'torch.optim.rmsprop.RMSprop'>, module__prob=0.3, module__num_units=32, max_epochs=50, lr=0.000537058296565368, total=   1.1s\n",
      "[CV] optimizer=<class 'torch.optim.sgd.SGD'>, module__prob=0.5, module__num_units=16, max_epochs=50, lr=0.007159141037814122 \n",
      "[CV]  optimizer=<class 'torch.optim.sgd.SGD'>, module__prob=0.5, module__num_units=16, max_epochs=50, lr=0.007159141037814122, total=   0.9s\n",
      "[CV] optimizer=<class 'torch.optim.sgd.SGD'>, module__prob=0.5, module__num_units=16, max_epochs=50, lr=0.007159141037814122 \n",
      "[CV]  optimizer=<class 'torch.optim.sgd.SGD'>, module__prob=0.5, module__num_units=16, max_epochs=50, lr=0.007159141037814122, total=   0.9s\n",
      "[CV] optimizer=<class 'torch.optim.sgd.SGD'>, module__prob=0.5, module__num_units=16, max_epochs=50, lr=0.007159141037814122 \n",
      "[CV]  optimizer=<class 'torch.optim.sgd.SGD'>, module__prob=0.5, module__num_units=16, max_epochs=50, lr=0.007159141037814122, total=   0.9s\n",
      "[CV] optimizer=<class 'torch.optim.adam.Adam'>, module__prob=0.5, module__num_units=32, max_epochs=100, lr=0.23888318270944625 \n",
      "[CV]  optimizer=<class 'torch.optim.adam.Adam'>, module__prob=0.5, module__num_units=32, max_epochs=100, lr=0.23888318270944625, total=   2.4s\n",
      "[CV] optimizer=<class 'torch.optim.adam.Adam'>, module__prob=0.5, module__num_units=32, max_epochs=100, lr=0.23888318270944625 \n",
      "[CV]  optimizer=<class 'torch.optim.adam.Adam'>, module__prob=0.5, module__num_units=32, max_epochs=100, lr=0.23888318270944625, total=   2.8s\n",
      "[CV] optimizer=<class 'torch.optim.adam.Adam'>, module__prob=0.5, module__num_units=32, max_epochs=100, lr=0.23888318270944625 \n",
      "[CV]  optimizer=<class 'torch.optim.adam.Adam'>, module__prob=0.5, module__num_units=32, max_epochs=100, lr=0.23888318270944625, total=   2.6s\n",
      "[CV] optimizer=<class 'torch.optim.adam.Adam'>, module__prob=0.3, module__num_units=32, max_epochs=50, lr=0.05094293010492807 \n",
      "[CV]  optimizer=<class 'torch.optim.adam.Adam'>, module__prob=0.3, module__num_units=32, max_epochs=50, lr=0.05094293010492807, total=   1.5s\n",
      "[CV] optimizer=<class 'torch.optim.adam.Adam'>, module__prob=0.3, module__num_units=32, max_epochs=50, lr=0.05094293010492807 \n",
      "[CV]  optimizer=<class 'torch.optim.adam.Adam'>, module__prob=0.3, module__num_units=32, max_epochs=50, lr=0.05094293010492807, total=   1.1s\n",
      "[CV] optimizer=<class 'torch.optim.adam.Adam'>, module__prob=0.3, module__num_units=32, max_epochs=50, lr=0.05094293010492807 \n",
      "[CV]  optimizer=<class 'torch.optim.adam.Adam'>, module__prob=0.3, module__num_units=32, max_epochs=50, lr=0.05094293010492807, total=   1.3s\n"
     ]
    },
    {
     "name": "stderr",
     "output_type": "stream",
     "text": [
      "[Parallel(n_jobs=1)]: Done  30 out of  30 | elapsed:   53.5s finished\n"
     ]
    },
    {
     "name": "stdout",
     "output_type": "stream",
     "text": [
      "best score: 0.820, best params: {'optimizer': <class 'torch.optim.rmsprop.RMSprop'>, 'module__prob': 0.3, 'module__num_units': 32, 'max_epochs': 100, 'lr': 0.0029348016949742738}\n"
     ]
    }
   ],
   "source": [
    "#tunning hyperparameters: lr , num_unis , dropout prob , optimizer , max_epochs\n",
    "\n",
    "\n",
    "# deactivate skorch-internal train-valid split and verbose logging\n",
    "model.set_params(train_split=False, verbose=0)\n",
    "\n",
    "\n",
    "params = {\n",
    "    'lr': [10**(-4*np.random.rand()) for i in range(30)], # seach between 0.999~10^-4\n",
    "    'max_epochs': [50,100],\n",
    "    'module__num_units': [16,32],\n",
    "    'module__prob':[0.2,0.3,0.5],\n",
    "    'optimizer':[optim.Adam,optim.SGD,optim.RMSprop]\n",
    "}\n",
    "\n",
    "#cvint, cross-validation generator or an iterable\n",
    "#cv=kfold(3),default 5\n",
    "gs =RandomizedSearchCV(model, params, refit=True, cv=3, scoring='accuracy', verbose=2)\n",
    "\n",
    "gs.fit(X_norm, y)\n",
    "print(\"best score: {:.3f}, best params: {}\".format(gs.best_score_, gs.best_params_))"
   ]
  },
  {
   "cell_type": "code",
   "execution_count": 614,
   "metadata": {},
   "outputs": [],
   "source": [
    "final_model=gs.best_estimator_"
   ]
  },
  {
   "cell_type": "code",
   "execution_count": 615,
   "metadata": {},
   "outputs": [
    {
     "name": "stdout",
     "output_type": "stream",
     "text": [
      "logistic regression-- 0.7932960893854749\n",
      "logistic network-- 0.8379888268156425\n"
     ]
    }
   ],
   "source": [
    "#compare logistic regression and network\n",
    "print('logistic regression--',grid.best_estimator_.score(X_test,y_test))\n",
    "print('logistic network--',final_model.score(X_test.astype(np.float32),y_test))"
   ]
  },
  {
   "cell_type": "code",
   "execution_count": 529,
   "metadata": {},
   "outputs": [
    {
     "data": {
      "text/plain": [
       "<sklearn.metrics._plot.confusion_matrix.ConfusionMatrixDisplay at 0x1f45877f860>"
      ]
     },
     "execution_count": 529,
     "metadata": {},
     "output_type": "execute_result"
    },
    {
     "data": {
      "image/png": "[encoded data removed]",
      "text/plain": [
       "<Figure size 432x288 with 2 Axes>"
      ]
     },
     "metadata": {},
     "output_type": "display_data"
    }
   ],
   "source": [
    "from sklearn.metrics import plot_confusion_matrix\n",
    "plot_confusion_matrix(final_model,X_test.astype(np.float32),y_test,labels=[0,1])"
   ]
  },
  {
   "cell_type": "code",
   "execution_count": 497,
   "metadata": {},
   "outputs": [],
   "source": [
    "#save model\n",
    "torch.save(final_model.module_,'titanic_model.pkl')"
   ]
  },
  {
   "cell_type": "code",
   "execution_count": 504,
   "metadata": {},
   "outputs": [],
   "source": [
    "model_titanic=torch.load('titanic_model.pkl').cpu()"
   ]
  },
  {
   "cell_type": "code",
   "execution_count": 530,
   "metadata": {},
   "outputs": [
    {
     "data": {
      "text/plain": [
       "0.8585858585858586"
      ]
     },
     "execution_count": 530,
     "metadata": {},
     "output_type": "execute_result"
    }
   ],
   "source": [
    "((model_titanic(torch.tensor(X_norm))>0.5).float().squeeze().numpy()==y).sum()/y.shape[0]"
   ]
  },
  {
   "cell_type": "markdown",
   "metadata": {},
   "source": [
    "# submit"
   ]
  },
  {
   "cell_type": "code",
   "execution_count": 795,
   "metadata": {},
   "outputs": [
    {
     "name": "stdout",
     "output_type": "stream",
     "text": [
      "<class 'pandas.core.frame.DataFrame'>\n",
      "RangeIndex: 418 entries, 0 to 417\n",
      "Data columns (total 11 columns):\n",
      " #   Column       Non-Null Count  Dtype  \n",
      "---  ------       --------------  -----  \n",
      " 0   PassengerId  418 non-null    int64  \n",
      " 1   Pclass       418 non-null    int64  \n",
      " 2   Name         418 non-null    object \n",
      " 3   Sex          418 non-null    object \n",
      " 4   Age          332 non-null    float64\n",
      " 5   SibSp        418 non-null    int64  \n",
      " 6   Parch        418 non-null    int64  \n",
      " 7   Ticket       418 non-null    object \n",
      " 8   Fare         417 non-null    float64\n",
      " 9   Cabin        91 non-null     object \n",
      " 10  Embarked     418 non-null    object \n",
      "dtypes: float64(2), int64(4), object(5)\n",
      "memory usage: 36.0+ KB\n"
     ]
    }
   ],
   "source": [
    "df_test=pd.read_csv('./data/test.csv')\n",
    "df_test.info()"
   ]
  },
  {
   "cell_type": "code",
   "execution_count": 796,
   "metadata": {},
   "outputs": [],
   "source": [
    "# process \n",
    "df_test['Title'] = df_test.Name.apply(lambda x: re.search(' ([A-Z][a-z]+)\\.', x).group(1))"
   ]
  },
  {
   "cell_type": "code",
   "execution_count": 797,
   "metadata": {},
   "outputs": [],
   "source": [
    "df_test.Age.fillna(df_test.Age.mean(),inplace=True)\n",
    "df_test.Embarked.fillna('S',inplace=True)\n",
    "df_test.Fare.fillna(df_test.Fare.mean(),inplace=True)"
   ]
  },
  {
   "cell_type": "code",
   "execution_count": 798,
   "metadata": {},
   "outputs": [],
   "source": [
    "df_test.drop(['PassengerId','Name','Ticket','Cabin'],axis=1,inplace=True)"
   ]
  },
  {
   "cell_type": "code",
   "execution_count": 799,
   "metadata": {},
   "outputs": [
    {
     "data": {
      "text/html": [
       "<div>\n",
       "<style scoped>\n",
       "    .dataframe tbody tr th:only-of-type {\n",
       "        vertical-align: middle;\n",
       "    }\n",
       "\n",
       "    .dataframe tbody tr th {\n",
       "        vertical-align: top;\n",
       "    }\n",
       "\n",
       "    .dataframe thead th {\n",
       "        text-align: right;\n",
       "    }\n",
       "</style>\n",
       "<table border=\"1\" class=\"dataframe\">\n",
       "  <thead>\n",
       "    <tr style=\"text-align: right;\">\n",
       "      <th></th>\n",
       "      <th>Pclass</th>\n",
       "      <th>Sex</th>\n",
       "      <th>Age</th>\n",
       "      <th>SibSp</th>\n",
       "      <th>Parch</th>\n",
       "      <th>Fare</th>\n",
       "      <th>Embarked</th>\n",
       "      <th>Title</th>\n",
       "    </tr>\n",
       "  </thead>\n",
       "  <tbody>\n",
       "    <tr>\n",
       "      <th>0</th>\n",
       "      <td>3</td>\n",
       "      <td>male</td>\n",
       "      <td>34.50000</td>\n",
       "      <td>0</td>\n",
       "      <td>0</td>\n",
       "      <td>7.8292</td>\n",
       "      <td>Q</td>\n",
       "      <td>Mr</td>\n",
       "    </tr>\n",
       "    <tr>\n",
       "      <th>1</th>\n",
       "      <td>3</td>\n",
       "      <td>female</td>\n",
       "      <td>47.00000</td>\n",
       "      <td>1</td>\n",
       "      <td>0</td>\n",
       "      <td>7.0000</td>\n",
       "      <td>S</td>\n",
       "      <td>Mrs</td>\n",
       "    </tr>\n",
       "    <tr>\n",
       "      <th>2</th>\n",
       "      <td>2</td>\n",
       "      <td>male</td>\n",
       "      <td>62.00000</td>\n",
       "      <td>0</td>\n",
       "      <td>0</td>\n",
       "      <td>9.6875</td>\n",
       "      <td>Q</td>\n",
       "      <td>Mr</td>\n",
       "    </tr>\n",
       "    <tr>\n",
       "      <th>3</th>\n",
       "      <td>3</td>\n",
       "      <td>male</td>\n",
       "      <td>27.00000</td>\n",
       "      <td>0</td>\n",
       "      <td>0</td>\n",
       "      <td>8.6625</td>\n",
       "      <td>S</td>\n",
       "      <td>Mr</td>\n",
       "    </tr>\n",
       "    <tr>\n",
       "      <th>4</th>\n",
       "      <td>3</td>\n",
       "      <td>female</td>\n",
       "      <td>22.00000</td>\n",
       "      <td>1</td>\n",
       "      <td>1</td>\n",
       "      <td>12.2875</td>\n",
       "      <td>S</td>\n",
       "      <td>Mrs</td>\n",
       "    </tr>\n",
       "    <tr>\n",
       "      <th>...</th>\n",
       "      <td>...</td>\n",
       "      <td>...</td>\n",
       "      <td>...</td>\n",
       "      <td>...</td>\n",
       "      <td>...</td>\n",
       "      <td>...</td>\n",
       "      <td>...</td>\n",
       "      <td>...</td>\n",
       "    </tr>\n",
       "    <tr>\n",
       "      <th>413</th>\n",
       "      <td>3</td>\n",
       "      <td>male</td>\n",
       "      <td>30.27259</td>\n",
       "      <td>0</td>\n",
       "      <td>0</td>\n",
       "      <td>8.0500</td>\n",
       "      <td>S</td>\n",
       "      <td>Mr</td>\n",
       "    </tr>\n",
       "    <tr>\n",
       "      <th>414</th>\n",
       "      <td>1</td>\n",
       "      <td>female</td>\n",
       "      <td>39.00000</td>\n",
       "      <td>0</td>\n",
       "      <td>0</td>\n",
       "      <td>108.9000</td>\n",
       "      <td>C</td>\n",
       "      <td>Dona</td>\n",
       "    </tr>\n",
       "    <tr>\n",
       "      <th>415</th>\n",
       "      <td>3</td>\n",
       "      <td>male</td>\n",
       "      <td>38.50000</td>\n",
       "      <td>0</td>\n",
       "      <td>0</td>\n",
       "      <td>7.2500</td>\n",
       "      <td>S</td>\n",
       "      <td>Mr</td>\n",
       "    </tr>\n",
       "    <tr>\n",
       "      <th>416</th>\n",
       "      <td>3</td>\n",
       "      <td>male</td>\n",
       "      <td>30.27259</td>\n",
       "      <td>0</td>\n",
       "      <td>0</td>\n",
       "      <td>8.0500</td>\n",
       "      <td>S</td>\n",
       "      <td>Mr</td>\n",
       "    </tr>\n",
       "    <tr>\n",
       "      <th>417</th>\n",
       "      <td>3</td>\n",
       "      <td>male</td>\n",
       "      <td>30.27259</td>\n",
       "      <td>1</td>\n",
       "      <td>1</td>\n",
       "      <td>22.3583</td>\n",
       "      <td>C</td>\n",
       "      <td>Master</td>\n",
       "    </tr>\n",
       "  </tbody>\n",
       "</table>\n",
       "<p>418 rows × 8 columns</p>\n",
       "</div>"
      ],
      "text/plain": [
       "     Pclass     Sex       Age  SibSp  Parch      Fare Embarked   Title\n",
       "0         3    male  34.50000      0      0    7.8292        Q      Mr\n",
       "1         3  female  47.00000      1      0    7.0000        S     Mrs\n",
       "2         2    male  62.00000      0      0    9.6875        Q      Mr\n",
       "3         3    male  27.00000      0      0    8.6625        S      Mr\n",
       "4         3  female  22.00000      1      1   12.2875        S     Mrs\n",
       "..      ...     ...       ...    ...    ...       ...      ...     ...\n",
       "413       3    male  30.27259      0      0    8.0500        S      Mr\n",
       "414       1  female  39.00000      0      0  108.9000        C    Dona\n",
       "415       3    male  38.50000      0      0    7.2500        S      Mr\n",
       "416       3    male  30.27259      0      0    8.0500        S      Mr\n",
       "417       3    male  30.27259      1      1   22.3583        C  Master\n",
       "\n",
       "[418 rows x 8 columns]"
      ]
     },
     "execution_count": 799,
     "metadata": {},
     "output_type": "execute_result"
    }
   ],
   "source": [
    "df_test"
   ]
  },
  {
   "cell_type": "code",
   "execution_count": 800,
   "metadata": {},
   "outputs": [
    {
     "name": "stderr",
     "output_type": "stream",
     "text": [
      "c:\\users\\user\\miniconda3\\envs\\bd\\lib\\site-packages\\ipykernel_launcher.py:1: SettingWithCopyWarning: \n",
      "A value is trying to be set on a copy of a slice from a DataFrame\n",
      "\n",
      "See the caveats in the documentation: https://pandas.pydata.org/pandas-docs/stable/user_guide/indexing.html#returning-a-view-versus-a-copy\n",
      "  \"\"\"Entry point for launching an IPython kernel.\n"
     ]
    }
   ],
   "source": [
    "df_test.Title[df_test.Title=='Dona']='Don'"
   ]
  },
  {
   "cell_type": "code",
   "execution_count": 801,
   "metadata": {},
   "outputs": [],
   "source": [
    "#replace number to label\n",
    "#sex:male,female ---0,1\n",
    "#embarked:S,C,Q----0,1,2\n",
    "#title\n",
    "replace_ = LabelEncoder()\n",
    "\n",
    "#sex\n",
    "replace_.fit(df_test.Sex)\n",
    "Sex_label = replace_.transform(df_test.Sex)\n",
    "df_test['Sex_label'] = Sex_label\n",
    "\n",
    "#embarked\n",
    "replace_.fit(df_test.Embarked)\n",
    "Embarked_label = replace_.transform(df_test.Embarked)\n",
    "df_test['Embarked_label'] = Embarked_label\n",
    "\n",
    "#title\n",
    "Title_label =  replace.transform(df_test.Title)\n",
    "df_test['Title_label'] = Title_label"
   ]
  },
  {
   "cell_type": "code",
   "execution_count": 802,
   "metadata": {},
   "outputs": [],
   "source": [
    "df_test.drop(['Title','Sex','Embarked'],axis=1,inplace=True)"
   ]
  },
  {
   "cell_type": "code",
   "execution_count": 803,
   "metadata": {},
   "outputs": [
    {
     "data": {
      "text/html": [
       "<div>\n",
       "<style scoped>\n",
       "    .dataframe tbody tr th:only-of-type {\n",
       "        vertical-align: middle;\n",
       "    }\n",
       "\n",
       "    .dataframe tbody tr th {\n",
       "        vertical-align: top;\n",
       "    }\n",
       "\n",
       "    .dataframe thead th {\n",
       "        text-align: right;\n",
       "    }\n",
       "</style>\n",
       "<table border=\"1\" class=\"dataframe\">\n",
       "  <thead>\n",
       "    <tr style=\"text-align: right;\">\n",
       "      <th></th>\n",
       "      <th>Pclass</th>\n",
       "      <th>Age</th>\n",
       "      <th>SibSp</th>\n",
       "      <th>Parch</th>\n",
       "      <th>Fare</th>\n",
       "      <th>Sex_label</th>\n",
       "      <th>Embarked_label</th>\n",
       "      <th>Title_label</th>\n",
       "    </tr>\n",
       "  </thead>\n",
       "  <tbody>\n",
       "    <tr>\n",
       "      <th>0</th>\n",
       "      <td>3</td>\n",
       "      <td>34.50000</td>\n",
       "      <td>0</td>\n",
       "      <td>0</td>\n",
       "      <td>7.8292</td>\n",
       "      <td>1</td>\n",
       "      <td>1</td>\n",
       "      <td>12</td>\n",
       "    </tr>\n",
       "    <tr>\n",
       "      <th>1</th>\n",
       "      <td>3</td>\n",
       "      <td>47.00000</td>\n",
       "      <td>1</td>\n",
       "      <td>0</td>\n",
       "      <td>7.0000</td>\n",
       "      <td>0</td>\n",
       "      <td>2</td>\n",
       "      <td>13</td>\n",
       "    </tr>\n",
       "    <tr>\n",
       "      <th>2</th>\n",
       "      <td>2</td>\n",
       "      <td>62.00000</td>\n",
       "      <td>0</td>\n",
       "      <td>0</td>\n",
       "      <td>9.6875</td>\n",
       "      <td>1</td>\n",
       "      <td>1</td>\n",
       "      <td>12</td>\n",
       "    </tr>\n",
       "    <tr>\n",
       "      <th>3</th>\n",
       "      <td>3</td>\n",
       "      <td>27.00000</td>\n",
       "      <td>0</td>\n",
       "      <td>0</td>\n",
       "      <td>8.6625</td>\n",
       "      <td>1</td>\n",
       "      <td>2</td>\n",
       "      <td>12</td>\n",
       "    </tr>\n",
       "    <tr>\n",
       "      <th>4</th>\n",
       "      <td>3</td>\n",
       "      <td>22.00000</td>\n",
       "      <td>1</td>\n",
       "      <td>1</td>\n",
       "      <td>12.2875</td>\n",
       "      <td>0</td>\n",
       "      <td>2</td>\n",
       "      <td>13</td>\n",
       "    </tr>\n",
       "    <tr>\n",
       "      <th>...</th>\n",
       "      <td>...</td>\n",
       "      <td>...</td>\n",
       "      <td>...</td>\n",
       "      <td>...</td>\n",
       "      <td>...</td>\n",
       "      <td>...</td>\n",
       "      <td>...</td>\n",
       "      <td>...</td>\n",
       "    </tr>\n",
       "    <tr>\n",
       "      <th>413</th>\n",
       "      <td>3</td>\n",
       "      <td>30.27259</td>\n",
       "      <td>0</td>\n",
       "      <td>0</td>\n",
       "      <td>8.0500</td>\n",
       "      <td>1</td>\n",
       "      <td>2</td>\n",
       "      <td>12</td>\n",
       "    </tr>\n",
       "    <tr>\n",
       "      <th>414</th>\n",
       "      <td>1</td>\n",
       "      <td>39.00000</td>\n",
       "      <td>0</td>\n",
       "      <td>0</td>\n",
       "      <td>108.9000</td>\n",
       "      <td>0</td>\n",
       "      <td>0</td>\n",
       "      <td>3</td>\n",
       "    </tr>\n",
       "    <tr>\n",
       "      <th>415</th>\n",
       "      <td>3</td>\n",
       "      <td>38.50000</td>\n",
       "      <td>0</td>\n",
       "      <td>0</td>\n",
       "      <td>7.2500</td>\n",
       "      <td>1</td>\n",
       "      <td>2</td>\n",
       "      <td>12</td>\n",
       "    </tr>\n",
       "    <tr>\n",
       "      <th>416</th>\n",
       "      <td>3</td>\n",
       "      <td>30.27259</td>\n",
       "      <td>0</td>\n",
       "      <td>0</td>\n",
       "      <td>8.0500</td>\n",
       "      <td>1</td>\n",
       "      <td>2</td>\n",
       "      <td>12</td>\n",
       "    </tr>\n",
       "    <tr>\n",
       "      <th>417</th>\n",
       "      <td>3</td>\n",
       "      <td>30.27259</td>\n",
       "      <td>1</td>\n",
       "      <td>1</td>\n",
       "      <td>22.3583</td>\n",
       "      <td>1</td>\n",
       "      <td>0</td>\n",
       "      <td>8</td>\n",
       "    </tr>\n",
       "  </tbody>\n",
       "</table>\n",
       "<p>418 rows × 8 columns</p>\n",
       "</div>"
      ],
      "text/plain": [
       "     Pclass       Age  SibSp  Parch      Fare  Sex_label  Embarked_label  \\\n",
       "0         3  34.50000      0      0    7.8292          1               1   \n",
       "1         3  47.00000      1      0    7.0000          0               2   \n",
       "2         2  62.00000      0      0    9.6875          1               1   \n",
       "3         3  27.00000      0      0    8.6625          1               2   \n",
       "4         3  22.00000      1      1   12.2875          0               2   \n",
       "..      ...       ...    ...    ...       ...        ...             ...   \n",
       "413       3  30.27259      0      0    8.0500          1               2   \n",
       "414       1  39.00000      0      0  108.9000          0               0   \n",
       "415       3  38.50000      0      0    7.2500          1               2   \n",
       "416       3  30.27259      0      0    8.0500          1               2   \n",
       "417       3  30.27259      1      1   22.3583          1               0   \n",
       "\n",
       "     Title_label  \n",
       "0             12  \n",
       "1             13  \n",
       "2             12  \n",
       "3             12  \n",
       "4             13  \n",
       "..           ...  \n",
       "413           12  \n",
       "414            3  \n",
       "415           12  \n",
       "416           12  \n",
       "417            8  \n",
       "\n",
       "[418 rows x 8 columns]"
      ]
     },
     "execution_count": 803,
     "metadata": {},
     "output_type": "execute_result"
    }
   ],
   "source": [
    "df_test"
   ]
  },
  {
   "cell_type": "code",
   "execution_count": 804,
   "metadata": {},
   "outputs": [
    {
     "name": "stdout",
     "output_type": "stream",
     "text": [
      "<class 'pandas.core.frame.DataFrame'>\n",
      "RangeIndex: 418 entries, 0 to 417\n",
      "Data columns (total 8 columns):\n",
      " #   Column          Non-Null Count  Dtype  \n",
      "---  ------          --------------  -----  \n",
      " 0   Pclass          418 non-null    int64  \n",
      " 1   Age             418 non-null    float64\n",
      " 2   SibSp           418 non-null    int64  \n",
      " 3   Parch           418 non-null    int64  \n",
      " 4   Fare            418 non-null    float64\n",
      " 5   Sex_label       418 non-null    int32  \n",
      " 6   Embarked_label  418 non-null    int32  \n",
      " 7   Title_label     418 non-null    int32  \n",
      "dtypes: float64(2), int32(3), int64(3)\n",
      "memory usage: 21.4 KB\n"
     ]
    }
   ],
   "source": [
    "df_test.info()"
   ]
  },
  {
   "cell_type": "code",
   "execution_count": 805,
   "metadata": {},
   "outputs": [],
   "source": [
    "#normalize\n",
    "normal= StandardScaler()\n",
    "\n",
    "X_test=np.array(df_test)\n",
    "\n",
    "normal.fit(X_test)\n",
    "X_test_norm=normal.transform(X_test)\n",
    "X_test_norm=X_test_norm.astype(np.float32)"
   ]
  },
  {
   "cell_type": "code",
   "execution_count": 806,
   "metadata": {},
   "outputs": [],
   "source": [
    "Survived=final_model.predict(X_test_norm).squeeze().astype('int32')"
   ]
  },
  {
   "cell_type": "code",
   "execution_count": 807,
   "metadata": {},
   "outputs": [],
   "source": [
    "#submit\n",
    "PassengerId = np.arange(892,1310)\n",
    "\n",
    "submit = pd.DataFrame(list(zip(PassengerId,Survived)),columns=['PassengerId','Survived'])"
   ]
  },
  {
   "cell_type": "code",
   "execution_count": 808,
   "metadata": {},
   "outputs": [
    {
     "data": {
      "text/html": [
       "<div>\n",
       "<style scoped>\n",
       "    .dataframe tbody tr th:only-of-type {\n",
       "        vertical-align: middle;\n",
       "    }\n",
       "\n",
       "    .dataframe tbody tr th {\n",
       "        vertical-align: top;\n",
       "    }\n",
       "\n",
       "    .dataframe thead th {\n",
       "        text-align: right;\n",
       "    }\n",
       "</style>\n",
       "<table border=\"1\" class=\"dataframe\">\n",
       "  <thead>\n",
       "    <tr style=\"text-align: right;\">\n",
       "      <th></th>\n",
       "      <th>PassengerId</th>\n",
       "      <th>Survived</th>\n",
       "    </tr>\n",
       "  </thead>\n",
       "  <tbody>\n",
       "    <tr>\n",
       "      <th>0</th>\n",
       "      <td>892</td>\n",
       "      <td>0</td>\n",
       "    </tr>\n",
       "    <tr>\n",
       "      <th>1</th>\n",
       "      <td>893</td>\n",
       "      <td>0</td>\n",
       "    </tr>\n",
       "    <tr>\n",
       "      <th>2</th>\n",
       "      <td>894</td>\n",
       "      <td>0</td>\n",
       "    </tr>\n",
       "    <tr>\n",
       "      <th>3</th>\n",
       "      <td>895</td>\n",
       "      <td>0</td>\n",
       "    </tr>\n",
       "    <tr>\n",
       "      <th>4</th>\n",
       "      <td>896</td>\n",
       "      <td>0</td>\n",
       "    </tr>\n",
       "    <tr>\n",
       "      <th>5</th>\n",
       "      <td>897</td>\n",
       "      <td>0</td>\n",
       "    </tr>\n",
       "    <tr>\n",
       "      <th>6</th>\n",
       "      <td>898</td>\n",
       "      <td>1</td>\n",
       "    </tr>\n",
       "    <tr>\n",
       "      <th>7</th>\n",
       "      <td>899</td>\n",
       "      <td>0</td>\n",
       "    </tr>\n",
       "    <tr>\n",
       "      <th>8</th>\n",
       "      <td>900</td>\n",
       "      <td>1</td>\n",
       "    </tr>\n",
       "    <tr>\n",
       "      <th>9</th>\n",
       "      <td>901</td>\n",
       "      <td>0</td>\n",
       "    </tr>\n",
       "  </tbody>\n",
       "</table>\n",
       "</div>"
      ],
      "text/plain": [
       "   PassengerId  Survived\n",
       "0          892         0\n",
       "1          893         0\n",
       "2          894         0\n",
       "3          895         0\n",
       "4          896         0\n",
       "5          897         0\n",
       "6          898         1\n",
       "7          899         0\n",
       "8          900         1\n",
       "9          901         0"
      ]
     },
     "execution_count": 808,
     "metadata": {},
     "output_type": "execute_result"
    }
   ],
   "source": [
    "submit.head(10)"
   ]
  },
  {
   "cell_type": "code",
   "execution_count": 809,
   "metadata": {},
   "outputs": [],
   "source": [
    "submit.to_csv(\"final_ans_new.csv\",index=False)"
   ]
  },
  {
   "cell_type": "code",
   "execution_count": null,
   "metadata": {},
   "outputs": [],
   "source": []
  }
 ],
 "metadata": {
  "kernelspec": {
   "display_name": "Python 3",
   "language": "python",
   "name": "python3"
  },
  "language_info": {
   "codemirror_mode": {
    "name": "ipython",
    "version": 3
   },
   "file_extension": ".py",
   "mimetype": "text/x-python",
   "name": "python",
   "nbconvert_exporter": "python",
   "pygments_lexer": "ipython3",
   "version": "3.6.10"
  }
 },
 "nbformat": 4,
 "nbformat_minor": 4
}
